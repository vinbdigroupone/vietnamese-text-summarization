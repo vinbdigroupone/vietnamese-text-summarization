{
  "nbformat": 4,
  "nbformat_minor": 0,
  "metadata": {
    "colab": {
      "name": "project-scrap.ipynb",
      "provenance": [],
      "collapsed_sections": []
    },
    "kernelspec": {
      "display_name": "Python 3",
      "name": "python3"
    }
  },
  "cells": [
    {
      "cell_type": "code",
      "metadata": {
        "id": "dOmArrAVU2rX"
      },
      "source": [
        "import os\n",
        "import numpy as np\n",
        "import pandas as pd\n",
        "import matplotlib.pyplot as plt\n",
        "import re\n",
        "from sklearn.feature_extraction.text import TfidfVectorizer"
      ],
      "execution_count": null,
      "outputs": []
    },
    {
      "cell_type": "code",
      "metadata": {
        "id": "s-4nq3PsdKmu",
        "outputId": "ff6f0cbb-e965-45a6-c605-5b57bb24c5cb",
        "colab": {
          "base_uri": "https://localhost:8080/"
        }
      },
      "source": [
        "#!git clone 'https://github.com/ThanhChinhBK/vietnews'"
      ],
      "execution_count": null,
      "outputs": [
        {
          "output_type": "stream",
          "text": [
            "Cloning into 'vietnews'...\n",
            "remote: Enumerating objects: 143827, done.\u001b[K\n",
            "remote: Counting objects: 100% (143827/143827), done.\u001b[K\n",
            "remote: Compressing objects: 100% (143815/143815), done.\u001b[K\n",
            "remote: Total 143827 (delta 11), reused 143827 (delta 11), pack-reused 0\u001b[K\n",
            "Receiving objects: 100% (143827/143827), 194.68 MiB | 17.15 MiB/s, done.\n",
            "Resolving deltas: 100% (11/11), done.\n",
            "Checking out files: 100% (150704/150704), done.\n"
          ],
          "name": "stdout"
        }
      ]
    },
    {
      "cell_type": "code",
      "metadata": {
        "id": "S7DaETawc8kO"
      },
      "source": [
        "article_list = []\n",
        "\n",
        "for file in os.listdir('/content/vietnews/data/train_tokenized'):\n",
        "  #print(file)\n",
        "  with open('/content/vietnews/data/train_tokenized/' + file, 'r') as f:\n",
        "    article = f.read().splitlines()\n",
        "    article_list.append(article[4:-1])   # leave out titles, abstracts, image subtitles\n",
        "    f.close()"
      ],
      "execution_count": null,
      "outputs": []
    },
    {
      "cell_type": "code",
      "metadata": {
        "id": "QieOKTCCnzeW",
        "outputId": "286b65ca-751a-4c3b-9015-7e5c3a9c5b67",
        "colab": {
          "base_uri": "https://localhost:8080/"
        }
      },
      "source": [
        "article_list[0]"
      ],
      "execution_count": null,
      "outputs": [
        {
          "output_type": "execute_result",
          "data": {
            "text/plain": [
              "['Cảnh_sát Canada vừa công_bố nguyên_nhân cái chết của vợ_chồng tỉ_phú Barry_Sherman và bà Honey , song kết_luận sơ_bộ của vụ_việc chỉ góp thêm bí_ẩn cho vụ_việc chấn_động này .',\n",
              " 'Nhà sáng_lập hãng dược Apotex , ông Barry_Sherman , 75 tuổi , và vợ , bà Honey_Sherman , 70 tuổi , được tìm thấy đã chết tại nhà_riêng ở North_York hôm 15-12 .',\n",
              " 'Cảnh_sát Toronto đánh_giá vụ_việc là \" đáng ngờ \" nên đã yêu_cầu lực_lượng điều_tra án_mạng vào_cuộc , theo thông_tin từ Đài CBC_News ( Canada ) ngày 18-12 .',\n",
              " 'Trong thông_cáo phát đi hôm 17-12 ( giờ_địa_phương ) , cảnh_sát Toronto tuyên_bố cả hai nạn_nhân đều bị \" ngạt thở do dây buộc \" , nghĩa_là bị xiết cổ , cho đến chết .',\n",
              " 'Tuy_nhiên , điều khó hiểu là các điều_tra_viên tuyên_bố họ sẽ không tìm_kiếm thêm nghi_can nào khác trong vụ_việc , theo Sky_News .',\n",
              " 'Một nguồn_tin cảnh_sát trước đó cho CBC News biết một người ngoài gia_đình Sherman đã phát_hiện ra thi_thể vợ_chồng tỉ_phú , song cảnh_sát không tiết_lộ gì nhiều về quá_trình điều_tra .',\n",
              " 'Tờ The_Globe and Mail dẫn một nguồn thạo tin cho biết người phát_hiện thi_thể là một nhân_viên môi_giới địa_ốc , vốn đang thu_xếp bán ngôi nhà của ông_bà Sherman .',\n",
              " 'Báo Globe and Mail khẳng_định không có dấu_hiệu ngôi nhà đã bị xâm_nhập và không có lời nhắn hay thư tuyệt_mệnh gì để lại hiện_trường .',\n",
              " 'Bất_chấp sự \" kín_tiếng \" của cảnh_sát , nhiều hãng tin đã dẫn chính nguồn_tin từ cảnh_sát cho_hay vụ_việc đang được điều_tra theo hướng \" giết người rồi tự_tử \" , tức một trong hai người đã đoạt mạng người kia trước khi tự kết_liễu bản_thân .',\n",
              " 'Tuy_nhiên , trong thông_cáo phát đi ngày 16-12 , gia_đình Sherman khẳng_định \" cha_mẹ chúng_tôi đã sống rất_đỗi nhiệt_thành và luôn hướng về gia_đình và cộng_đồng , điều này hoàn_toàn trái_ngược với các tin_đồn đáng tiếc trên mạng xã_hội xoay quanh cái chết của họ \" .',\n",
              " 'Gia_đình Sherman cũng chỉ_trích các nguồn_tin cảnh_sát là \" vô_trách_nhiệm \" khi thông_tin không đúng cho truyền_thông .',\n",
              " '\" ( Giả_thuyết đây là vụ giết người rồi tự_tử ) là thứ mà không ai trong gia_đình , bạn_bè hay đồng_nghiệp ( của cha_mẹ chúng_tôi ) tin là thật \" - thông_cáo viết .',\n",
              " 'Gia_đình nạn_nhân vì_thế yêu_cầu cảnh_sát tiến_hành một cuộc điều_tra hình_sự \" toàn_diện , cật_lực và khách_quan \" về cái chết của cha_mẹ họ .',\n",
              " 'Điều_tra_viên phụ_trách án_mạng , ông David_Hopkinson , chia_sẻ với đài Sky_News rằng \" vụ án có nhiều điểm đáng ngờ và chúng_tôi đang xử_lý vụ_việc theo hướng đó \" .',\n",
              " 'Theo báo The_Star ( Canada ) , ông Sherman là một trong những người giàu nhất ở Canada .',\n",
              " 'Vợ_chồng tỉ_phú Sherman đã quyên_góp từ_thiện hàng triệu USD cho nhiều tổ_chức thiện_nguyện .',\n",
              " 'Chính bộ_phận công_tác xã_hội của Công_ty Apotex cũng đã vận_chuyển các đợt thuốc_men hỗ_trợ những vùng khủng_hoảng trị_giá nhiều triệu USD .',\n",
              " '',\n",
              " 'Vợ_chồng tỉ phủ Canada_Barry_Sherman - Ảnh : REUTERS .']"
            ]
          },
          "metadata": {
            "tags": []
          },
          "execution_count": 79
        }
      ]
    },
    {
      "cell_type": "code",
      "metadata": {
        "id": "vAfps4YRuEJH"
      },
      "source": [
        "for i in range(len(article_list)):\n",
        "  article_list[i] = list(filter(None, article_list[i]))\n",
        "  article_list[i] = ' '.join(article_list[i])\n",
        "  #article_list[i] = article_list[i].replace('_', ' ')"
      ],
      "execution_count": null,
      "outputs": []
    },
    {
      "cell_type": "code",
      "metadata": {
        "id": "zJNxTUJ5vusb",
        "outputId": "41e87869-3e15-4279-d936-278c8ce903f0",
        "colab": {
          "base_uri": "https://localhost:8080/",
          "height": 171
        }
      },
      "source": [
        "article_list[0]"
      ],
      "execution_count": null,
      "outputs": [
        {
          "output_type": "execute_result",
          "data": {
            "application/vnd.google.colaboratory.intrinsic+json": {
              "type": "string"
            },
            "text/plain": [
              "'Cảnh_sát Canada vừa công_bố nguyên_nhân cái chết của vợ_chồng tỉ_phú Barry_Sherman và bà Honey , song kết_luận sơ_bộ của vụ_việc chỉ góp thêm bí_ẩn cho vụ_việc chấn_động này . Nhà sáng_lập hãng dược Apotex , ông Barry_Sherman , 75 tuổi , và vợ , bà Honey_Sherman , 70 tuổi , được tìm thấy đã chết tại nhà_riêng ở North_York hôm 15-12 . Cảnh_sát Toronto đánh_giá vụ_việc là \" đáng ngờ \" nên đã yêu_cầu lực_lượng điều_tra án_mạng vào_cuộc , theo thông_tin từ Đài CBC_News ( Canada ) ngày 18-12 . Trong thông_cáo phát đi hôm 17-12 ( giờ_địa_phương ) , cảnh_sát Toronto tuyên_bố cả hai nạn_nhân đều bị \" ngạt thở do dây buộc \" , nghĩa_là bị xiết cổ , cho đến chết . Tuy_nhiên , điều khó hiểu là các điều_tra_viên tuyên_bố họ sẽ không tìm_kiếm thêm nghi_can nào khác trong vụ_việc , theo Sky_News . Một nguồn_tin cảnh_sát trước đó cho CBC News biết một người ngoài gia_đình Sherman đã phát_hiện ra thi_thể vợ_chồng tỉ_phú , song cảnh_sát không tiết_lộ gì nhiều về quá_trình điều_tra . Tờ The_Globe and Mail dẫn một nguồn thạo tin cho biết người phát_hiện thi_thể là một nhân_viên môi_giới địa_ốc , vốn đang thu_xếp bán ngôi nhà của ông_bà Sherman . Báo Globe and Mail khẳng_định không có dấu_hiệu ngôi nhà đã bị xâm_nhập và không có lời nhắn hay thư tuyệt_mệnh gì để lại hiện_trường . Bất_chấp sự \" kín_tiếng \" của cảnh_sát , nhiều hãng tin đã dẫn chính nguồn_tin từ cảnh_sát cho_hay vụ_việc đang được điều_tra theo hướng \" giết người rồi tự_tử \" , tức một trong hai người đã đoạt mạng người kia trước khi tự kết_liễu bản_thân . Tuy_nhiên , trong thông_cáo phát đi ngày 16-12 , gia_đình Sherman khẳng_định \" cha_mẹ chúng_tôi đã sống rất_đỗi nhiệt_thành và luôn hướng về gia_đình và cộng_đồng , điều này hoàn_toàn trái_ngược với các tin_đồn đáng tiếc trên mạng xã_hội xoay quanh cái chết của họ \" . Gia_đình Sherman cũng chỉ_trích các nguồn_tin cảnh_sát là \" vô_trách_nhiệm \" khi thông_tin không đúng cho truyền_thông . \" ( Giả_thuyết đây là vụ giết người rồi tự_tử ) là thứ mà không ai trong gia_đình , bạn_bè hay đồng_nghiệp ( của cha_mẹ chúng_tôi ) tin là thật \" - thông_cáo viết . Gia_đình nạn_nhân vì_thế yêu_cầu cảnh_sát tiến_hành một cuộc điều_tra hình_sự \" toàn_diện , cật_lực và khách_quan \" về cái chết của cha_mẹ họ . Điều_tra_viên phụ_trách án_mạng , ông David_Hopkinson , chia_sẻ với đài Sky_News rằng \" vụ án có nhiều điểm đáng ngờ và chúng_tôi đang xử_lý vụ_việc theo hướng đó \" . Theo báo The_Star ( Canada ) , ông Sherman là một trong những người giàu nhất ở Canada . Vợ_chồng tỉ_phú Sherman đã quyên_góp từ_thiện hàng triệu USD cho nhiều tổ_chức thiện_nguyện . Chính bộ_phận công_tác xã_hội của Công_ty Apotex cũng đã vận_chuyển các đợt thuốc_men hỗ_trợ những vùng khủng_hoảng trị_giá nhiều triệu USD . Vợ_chồng tỉ phủ Canada_Barry_Sherman - Ảnh : REUTERS .'"
            ]
          },
          "metadata": {
            "tags": []
          },
          "execution_count": 81
        }
      ]
    },
    {
      "cell_type": "code",
      "metadata": {
        "id": "l1NtHBUy2o2C"
      },
      "source": [
        "tfidf = TfidfVectorizer()\n",
        "tfidf_matrix = tfidf.fit_transform(article_list)"
      ],
      "execution_count": 165,
      "outputs": []
    },
    {
      "cell_type": "code",
      "metadata": {
        "id": "E6HcEVDL25Xo",
        "outputId": "81985bbb-64ed-4492-fada-2d0ecea9319c",
        "colab": {
          "base_uri": "https://localhost:8080/"
        }
      },
      "source": [
        "print(tfidf_matrix.shape)"
      ],
      "execution_count": 166,
      "outputs": [
        {
          "output_type": "stream",
          "text": [
            "(105418, 238217)\n"
          ],
          "name": "stdout"
        }
      ]
    },
    {
      "cell_type": "markdown",
      "metadata": {
        "id": "B5gl5x59to54"
      },
      "source": [
        "Kết thúc preprocessing"
      ]
    },
    {
      "cell_type": "code",
      "metadata": {
        "id": "jHS64_6lguSa",
        "outputId": "8891956b-26c2-4d91-e50a-731fce6070c4",
        "colab": {
          "base_uri": "https://localhost:8080/"
        }
      },
      "source": [
        "tfidf_matrix[0,tfidf.vocabulary_['nhật']]"
      ],
      "execution_count": 167,
      "outputs": [
        {
          "output_type": "execute_result",
          "data": {
            "text/plain": [
              "0.0"
            ]
          },
          "metadata": {
            "tags": []
          },
          "execution_count": 167
        }
      ]
    },
    {
      "cell_type": "code",
      "metadata": {
        "id": "7KiE8KpWh1yi"
      },
      "source": [
        "def score_sentence(sentence, a_index_):\n",
        "  sentence_score = 0\n",
        "  sentence = sentence.replace(' ,', '').strip()\n",
        "  for i_word in sentence.split(' '):\n",
        "    #print(i_word)\n",
        "    sentence_score += tfidf_matrix[a_index_, tfidf.vocabulary_.get(i_word.lower(), 217377)]\n",
        "  \n",
        "  return sentence_score\n",
        "\n",
        "\n",
        "def score_article(article, a_index_):\n",
        "  sentence_score_list = []\n",
        "  sentence_list = article.split('.')\n",
        "\n",
        "  for i_sentence in sentence_list:\n",
        "    sentence_score = score_sentence(i_sentence, a_index_)\n",
        "    sentence_score_list.append(sentence_score)\n",
        "\n",
        "  return sentence_score_list, sentence_list\n",
        "\n",
        "\n",
        "def generate_summary(sentence_score_array, sentence_list):\n",
        "  sentence_score_array = np.asarray(sentence_score_list)\n",
        "  mean_score = np.mean(sentence_score_array)\n",
        "  sentence_list_arr = np.asarray(sentence_list, dtype=object)\n",
        "  summary = sentence_list_arr[sentence_score_array > 1.15*mean_score]\n",
        "  summary = ' '.join(summary)\n",
        "\n",
        "  return summary\n"
      ],
      "execution_count": 199,
      "outputs": []
    },
    {
      "cell_type": "code",
      "metadata": {
        "id": "yCY6SatBv-Br"
      },
      "source": [
        "a_index_ = 0\n",
        "summary_list = []\n",
        "\n",
        "for i_article in article_list[:50]:\n",
        "  #print(a_index_)\n",
        "  #print(i_article)\n",
        "  sentence_score_list, sentence_list = score_article(i_article, a_index_)\n",
        "  summary = generate_summary(sentence_score_array, sentence_list)\n",
        "  summary_list.append(summary)\n",
        "  #a_index_ += 1"
      ],
      "execution_count": 187,
      "outputs": []
    },
    {
      "cell_type": "code",
      "metadata": {
        "id": "M77bos2Z5Npn",
        "outputId": "0e82b0f8-206e-438d-e644-c2b8814d2e59",
        "colab": {
          "base_uri": "https://localhost:8080/"
        }
      },
      "source": [
        "tfidf_matrix[0, tfidf.vocabulary_['và']]"
      ],
      "execution_count": 168,
      "outputs": [
        {
          "output_type": "execute_result",
          "data": {
            "text/plain": [
              "0.05784704989977959"
            ]
          },
          "metadata": {
            "tags": []
          },
          "execution_count": 168
        }
      ]
    },
    {
      "cell_type": "code",
      "metadata": {
        "id": "t_ZsS87I_D5r",
        "outputId": "63f0c09c-6348-4ef3-85be-ae0cf110bb25",
        "colab": {
          "base_uri": "https://localhost:8080/"
        }
      },
      "source": [
        "np.argmin(np.sum(tfidf_matrix, axis=0))"
      ],
      "execution_count": 153,
      "outputs": [
        {
          "output_type": "execute_result",
          "data": {
            "text/plain": [
              "217377"
            ]
          },
          "metadata": {
            "tags": []
          },
          "execution_count": 153
        }
      ]
    },
    {
      "cell_type": "code",
      "metadata": {
        "id": "LsXb7gOzB4u_",
        "outputId": "89f97bf0-d154-4b34-ed27-34e2e2b5d134",
        "colab": {
          "base_uri": "https://localhost:8080/"
        }
      },
      "source": [
        "np.sum(tfidf_matrix[:, 30], axis=0)"
      ],
      "execution_count": 172,
      "outputs": [
        {
          "output_type": "execute_result",
          "data": {
            "text/plain": [
              "matrix([[0.25974146]])"
            ]
          },
          "metadata": {
            "tags": []
          },
          "execution_count": 172
        }
      ]
    },
    {
      "cell_type": "code",
      "metadata": {
        "id": "mckrqQ3UC1qE",
        "outputId": "136c9422-39fd-48c9-9209-a74eba14d07e",
        "colab": {
          "base_uri": "https://localhost:8080/"
        }
      },
      "source": [
        "summary_list"
      ],
      "execution_count": 188,
      "outputs": [
        {
          "output_type": "execute_result",
          "data": {
            "text/plain": [
              "['Cảnh_sát Canada vừa công_bố nguyên_nhân cái chết của vợ_chồng tỉ_phú Barry_Sherman và bà Honey , song kết_luận sơ_bộ của vụ_việc chỉ góp thêm bí_ẩn cho vụ_việc chấn_động này   Cảnh_sát Toronto đánh_giá vụ_việc là \" đáng ngờ \" nên đã yêu_cầu lực_lượng điều_tra án_mạng vào_cuộc , theo thông_tin từ Đài CBC_News ( Canada ) ngày 18-12   Một nguồn_tin cảnh_sát trước đó cho CBC News biết một người ngoài gia_đình Sherman đã phát_hiện ra thi_thể vợ_chồng tỉ_phú , song cảnh_sát không tiết_lộ gì nhiều về quá_trình điều_tra   Tờ The_Globe and Mail dẫn một nguồn thạo tin cho biết người phát_hiện thi_thể là một nhân_viên môi_giới địa_ốc , vốn đang thu_xếp bán ngôi nhà của ông_bà Sherman   Bất_chấp sự \" kín_tiếng \" của cảnh_sát , nhiều hãng tin đã dẫn chính nguồn_tin từ cảnh_sát cho_hay vụ_việc đang được điều_tra theo hướng \" giết người rồi tự_tử \" , tức một trong hai người đã đoạt mạng người kia trước khi tự kết_liễu bản_thân   Tuy_nhiên , trong thông_cáo phát đi ngày 16-12 , gia_đình Sherman khẳng_định \" cha_mẹ chúng_tôi đã sống rất_đỗi nhiệt_thành và luôn hướng về gia_đình và cộng_đồng , điều này hoàn_toàn trái_ngược với các tin_đồn đáng tiếc trên mạng xã_hội xoay quanh cái chết của họ \"   \" ( Giả_thuyết đây là vụ giết người rồi tự_tử ) là thứ mà không ai trong gia_đình , bạn_bè hay đồng_nghiệp ( của cha_mẹ chúng_tôi ) tin là thật \" - thông_cáo viết ',\n",
              " ' Ông hôm 5/2 trả_lời đài_phát_thanh Westwood_One_Sports , cho_rằng để hiểu về ai đó , đánh golf là hoạt_động tốt hơn ăn trưa   Khi được hỏi liệu ông có đặt_cược vào ván golf tại khu nghỉ_dưỡng Mar - a - Lago , thị_trấn Palm_Beach hôm 11/2 hay không , ông Trump đáp : \" Tôi không biết   Tôi biết ông ấy thích môn này , và chúng_tôi sẽ có rất nhiều khoảnh_khắc vui_vẻ   Ông Trump từng chỉ_trích việc các nhà_sản_xuất Mỹ không được tiếp_cận nhiều với thị_trường ôtô Nhật và cáo_buộc Tokyo sử_dụng chính_sách tiền_tệ để làm mất giá đồng yen   Ông cũng gộp Nhật với Trung_Quốc và Mexico là những nước_lớn góp_phần dẫn đến tình_trạng thâm_hụt thương_mại của Mỹ   Ông Abe là lãnh_đạo nước_ngoài đầu_tiên gặp ông Trump sau khi ông thắng_cử tổng_thống hồi tháng 11/2016',\n",
              " ' \" Chúng_ta đã vượt qua đống tro tàn hậu_chiến và Cuộc Hành_quân Khổ_ải nhưng những thách_thức mà chúng_ta đang phải đối_mặt trong 10 năm trở_lại đây thực_tế là những khó_khăn nghiêm_trọng nhất trong lịch_sử ( nước Triều_Tiên ) cộng_hoà \" , hãng tin Hàn_Quốc_Yonhap dẫn báo Rodong_Sinmun của đảng cầm_quyền Lao_động Triều_Tiên ngày 21/3 đưa tin   \" Cuộc Hành_quân Khổ_ải \" ám_chỉ giai_đoạn những năm 1990 của thế_kỷ trước khi Triều_Tiên vật_lộn với nạn đói và nhiều người đã vượt_biên để thoát khỏi cảnh đói_khát   Tuần trước , thứ_trưởng ngoại_giao Triều_Tiên_Choe_Son - hui đe_doạ chấm_dứt đàm_phán hạt_nhân với Mỹ và nói Bình_Nhưỡng sẽ không nhượng_bộ trước những yêu_cầu \" xã_hội_đen \" của Washington   Trong khi đó , hãng tin Yonhap hôm 6/3 đưa tin cơ_quan tình_báo quốc_gia Hàn_Quốc phát_hiện dấu_hiệu Bình_Nhưỡng khôi_phục bãi phóng thử tên_lửa Tongchang - ri , vốn được cho là đã bị phá_bỏ hồi năm_ngoái sau hội_nghị lần đầu tại Singapore ',\n",
              " 'Theo ghi_nhận của Tuổi_Trẻ Online , đến hơn 16h chiều nay , những người_dân cuối_cùng của ba xã Hồng_Kỳ , Nam_Sơn , Bắc_Sơn ( huyện Sóc_Sơn , Hà_Nội ) bức_xúc vì chuyện giải_phóng mặt_bằng , di_dân ra ngoài vùng ảnh_hưởng môi_trường của Khu liên_hợp xử_lý chất_thải Sóc_Sơn đã rời khỏi hiện_trường   Các xe chở rác của Công_ty TNHH MTV Môi_trường đô_thị Hà_Nội đã có_thể vận_chuyển rác vào Khu Liên_hợp xử_lý chất_thải Sóc_Sơn sau nhiều ngày bị gián_đoạn do người_dân tập_trung dựng lều ngăn_cản lối vào   Như Tuổi_Trẻ Online đã đưa tin , từ nhiều ngày này , do rác_thải của Hà_Nội không_thể tập_kết vào Khu liên_hợp xử_lý chất_thải Sóc_Sơn , rác tràn_ngập trên nhiều tuyến đường_phố , khu dân_cư của thủ_đô   Theo UBND TP Hà_Nội , nguyên_nhân của tình_trạng này là một_số hộ dân ở ba xã Hồng_Kỳ , Nam_Sơn , Bắc_Sơn của huyện Sóc_Sơn do bức_xúc về việc giải_phóng mặt_bằng , di_dân ra ngoài vùng ảnh_hưởng môi_trường của Khu liên_hợp xử_lý chất_thải Sóc_Sơn đã dựng lều chặn xe chở rác   Trước đó , tại hội_nghị giao_ban trực_tuyến của Hà_Nội với các quận , huyện , thị_xã sáng 14-1 , lãnh_đạo huyện Sóc_Sơn cho_biết ngay sau khi có chỉ_đạo của UBND TP Hà_Nội , huyện tiếp_tục tuyên_truyền , vận_động người_dân dỡ bỏ lều lán , trở_về nhà   Để giải_quyết dứt_điểm tình_trạng người_dân chặn xe vận_chuyển rác vào khu xử_lý chất_thải , ngày 13-1 , UBND TP Hà_Nội đã gửi văn_bản đến các đơn_vị liên_quan về việc giải_phóng mặt_bằng theo chỉ_giới quy_hoạch bán_kính 500m quanh Khu liên_hợp xử_lý chất_thải Sóc_Sơn ',\n",
              " '\" Tôi nghĩ họ đã quá tập_trung vào chính_trị đến mức không thống_nhất hành_động với nhau ở cuối chương_trình \" , ông Trump nói trong cuộc phỏng_vấn hôm_qua với Breitbart_News , trang tin_tức bảo_thủ từng do Steve_Bannon , cố_vấn then_chốt của tổng_thống , điều_hành   Giải_thưởng Oscar của Viện_Hàn_lâm Mỹ lần thứ 89 diễn ra vào tối 26/2 tại Los_Angeles và kết_thúc với một sự_cố khiến người xem đài khắp hành_tinh ngơ_ngác   Tác_phẩm nhạc_kịch gây sốt La_La_Land ban_đầu được công_bố là \" Phim hay nhất \" nhưng sau đó , Moonlight được đính_chính mới là chủ_nhân thật_sự của giải_thưởng này   Chương_trình lần này thiếu một điều gì đó đặc_biệt và cuối_cùng lại kết_thúc theo cách đó rất đáng buồn \" , ông nói thêm   Trong các phần công_bố giải_thưởng , các ngôi_sao và người dẫn_chương_trình Jimmy_Kimmel liên_tục nói_kháy và chỉ_trích Tổng_thống Trump   Ông cũng kêu_gọi các khán_giả nỗ_lực hoà_giải với các đối_thủ chính_trị của họ   Kimmel cũng mỉa_mai việc Nhà_Trắng cấm nhiều hãng truyền_thông tham_gia họp_báo và viết một thông_điệp gửi đến ông Trump trên Twitter , đề_cao chiến_thắng của Mahershala_Ali , người Hồi giáo đầu_tiên giành giải Oscar   Bất_chấp được truyền_hình trực_tiếp ở 226 quốc_gia và sự_cố công_bố nhầm giải lớn nhất , lễ trao giải Oscar năm nay không thu_hút người xem   Có khoảng 32,9 triệu người Mỹ xem Oscar , giảm 4 % so với năm_ngoái , theo số_liệu của Nielsen ',\n",
              " 'Mỹ , Pháp , Ba_Lan , Thuỵ_Điển và Hà_Lan , các quốc_gia thường_trực và không thường_trực của Hội_đồng Bảo_an Liên_Hiệp_Quốc ( HĐBA_LHQ ) , đã phản_đối yêu_cầu mở một cuộc điều_tra chung với Anh của Nga , báo The_Guardian của Anh đưa tin   Cuộc họp được tổ_chức theo yêu_cầu của Nga đã mở_màn bằng những chỉ_trích và cáo_buộc nhắm vào nhau của đại_diện Nga , Anh tại LHQ   \" Phía Nga đã cảnh_báo với các đồng_nghiệp Anh rằng các vị đang đùa_với_lửa và sẽ sớm hối_tiếc vì điều đó \" , Đại_sứ Nga tại LHQ Vassily_Nebenzia nhấn_mạnh , khẳng_định các cáo_buộc nói Nga đầu_độc cha con cựu điệp_viên Sergei_Skripal ở Anh là phi_lý   Nhà_ngoại_giao Nga đặt ra một loạt câu_hỏi để cho thấy xung_quanh vụ Sergei_Skripal có cả \" một rừng phi_lý \" và đây là một chiến_dịch để bôi_nhọ hình_ảnh của nước Nga   \" Tại_sao chúng_tôi lại phải chờ_đợi tới 8 năm rồi quyết_định ra_tay với cha_con Sergei_Skripal chỉ 2 tuần trước bầu_cử tổng_thống Nga và vài tuần trước World_Cup ? Tại_sao chúng_tôi lại thả ông ta đi để rồi mấy năm sau lại cất_công sang Anh và thực_hiện một vụ ám_sát cực_kỳ nguy_hiểm giữa ban_ngày ban mặt ? \" - đại_sứ Nebenzia chất_vấn   Theo đó , nếu một chất_độc hoá_học mà Anh cho là Novichok có nguồn_gốc từ Nga được sử_dụng , họ chắc_chắn sẽ chết bởi đó là chất cực độc , bị LHQ cấm sử_dụng từ lâu   Theo đại_sứ Nebenzia , điều đó cho thấy người_ta đã thủ sẵn thuốc giải và tiêm ngay cho hai người này sau khi đầu_độc   Khi được hỏi có ý gì khi nói \" người Anh sẽ phải hối_tiếc \" sau cuộc họp , đại_sứ Nga đáp ngắn_gọn : \" Các cáo_buộc của Anh đối_với Nga là không đúng sự_thật   Ngoại_trưởng Nga Sergey_Lavrov ngày 5-4 tuyên_bố Matxcơva sẽ chỉ chấp_nhận kết_quả cuộc điều_tra xung_quanh vụ đầu_độc Sergei_Skripal khi và chỉ khi các nhà_khoa_học Nga được tham_gia   \" Cả thảy 10 đề_nghị được tham_gia điều_tra của Nga được gửi từ ngày 12-3 đều bị phớt_lờ \" , Hãng thông_tấn Tass dẫn lời ông Lavrov nhấn_mạnh   Bà Pierce cũng cho_rằng cộng_đồng quốc_tế biết_đâu đúng đâu sai , chỉ ra việc Hội_đồng điều_hành Tổ_chức cấm vũ_khí_hoá_học ngày 4-4 đã bác_bỏ đề_xuất điều_tra chung của Nga   Nó đã được thực_hiện một_cách liều_lĩnh và gây nguy_hiểm cho cộng_đồng \" , bà Pierce nhấn_mạnh trong cuộc họp 5-4 ',\n",
              " 'Đầu tuần này , Mỹ đã áp_đặt lệnh trừng_phạt đối_với đơn_vị quốc_phòng của Trung_Quốc và nhà_xuất_khẩu vũ_khí Nga_Rosoboronexport liên_quan đến các thoả_thuận mua chiến_đấu cơ Sukhoi_Su -35 và hệ_thống tên_lửa S -400   Đối_tượng trừng_phạt mà Mỹ hướng tới là cục Phát_triển Thiết_bị thuộc quân_đội Trung_Quốc và người đứng đầu cơ_quan này , dựa trên cơ_sở Đạo_luật chống đối_thủ Mỹ thông_qua các lệnh trừng_phạt ( CAASTA )   \" Phía Trung_Quốc đã quyết_định ngừng lại chuyến thăm của Tư_lệnh Hải_quân Shen_Jinlong , người đang tham_gia hội_thảo và có kế_hoạch thăm Mỹ \" , tuyên_bố cho_biết   Trước đó trong ngày , bộ Ngoại_giao Trung_Quốc đã triệu_tập Đại_sứ Mỹ_Terry_Branstad để phản_đối việc quan_chức quốc_phòng nước này bị đưa vào danh_sách trừng_phạt của Mỹ   Động_thái này được đưa ra một ngày sau khi Bắc_Kinh yêu_cầu Mỹ \" sửa_chữa các sai_lầm \" trong cuộc_chiến thuế_quan giữa hai nước ',\n",
              " 'Con đường graffiti này nằm ở cuối đường Huyền_Trân_Công_Chúa dẫn lên khu di_tích lăng Tự_Đức , thuộc khu_vực Trường_Đà ( phường Thuỷ_Biều , TP Huế ) , thuộc khu du_lịch Làng_Việt đã bị bỏ_hoang từ lâu   Người_dân địa_phương cho_biết hồi tháng 4 , một nhóm khoảng 100 hoạ_sĩ trong và ngoài nước đã đến đây , cùng vẽ lên bức tường cũ_kĩ này những bức tranh nhiều màu_sắc   Những bức tranh ở đây không mang một chủ_đề nhất_định , chủ_yếu được vẽ theo phong_cách ngẫu_hứng , nhiều màu_sắc   Hình_ảnh các nhân_vật hoạt_hình ngộ_nghĩnh , đáng yêu cũng khiến nhiều bạn trẻ xiêu_lòng   Như Ý , sinh_viên Trường ĐH Khoa_học - ĐH Huế , cho_biết địa_điểm này đang rất nổi trên mạng xã_hội   \" Mình thấy nhiều bạn đến và chụp ảnh nên đến xem thử   Một_số hình_ảnh tại con_đường graffiti ở Huế : Con đường graffiti ở Huế đang \" hút_hồn \" các bạn trẻ xứ Huế đến đây để chụp ảnh vào mỗi cuối tuần - Ảnh : KIỀU_ANH   Con đường graffiti với những bức tranh nhiều màu_sắc mang phong_cách hiphop đang nổi_đình_nổi_đám ở Huế - Ảnh : KIỀU_ANH ',\n",
              " 'Sáng 24/11 , lãnh_đạo hãng taxi Tiên_Sa ( Đà_Nẵng ) đã khen_thưởng đột_xuất tài_xế Võ_Chí_Công ( 31 tuổi , trú phường Thuận_Phước , Hải_Châu , TP Đà_Nẵng ) vì hành_động trả lại tài_sản cho hành_khách bỏ quên   Lãnh_đạo hãng taxi Tiên_Sa khen_thưởng tải xế Võ_Chí_Công vì hành_động trả lại của rơi cho khách   \" Khi đã trả khách , tôi kiểm_tra xe thì túi_xách bỏ quên , nhưng vì đã khuya nên giữ đến sáng 23/11 thì đến công_an phường Phước_Mỹ để giao cho công_an trả lại cho người bị mất \" , anh Công kể   Nhận lại tài_sản , chị Trang vui_vẻ cho_biết chuyến về Việt_Nam lần này có thêm câu_chuyện thú_vị để kể cho bạn_bè   Tài_xế taxi ở Đà_Nẵng đã nhiều lần trả lại tài_sản cho khách bỏ quên ',\n",
              " '71 triệu USD cho \" thương_vụ bí_mật \" ? Giữa tuần này , hãng tin Nga_Sputnik dẫn nguồn Trung_tâm Báo_chí Điều_tra Séc cho_hay , Lầu_Năm_Góc đã cung_cấp vũ_khí cho các lực_lượng chống Chính_phủ tại Syria   Theo số_liệu của trung_tâm ( được thu_thập từ các nguồn mở ) , Lầu_Năm_Góc mua vũ_khí lỗi_thời trị_giá 71 triệu USD , gồm súng_trường AK -47 , súng phóng lựu và súng_cối   Đại_diện Lầu_Năm_Góc tuyên_bố , số vũ_khí nêu trên được mua để phục_vụ nhu_cầu riêng của họ , nhưng thực_tế lại được chuyển tới Syria để huấn_luyện và trang_bị cho các nhóm phiến quân chống Chính_phủ Syria , trong đó có tổ_chức Nhà_nước Hồi_giáo tự_xưng ( IS ) , nguồn_tin từ trung_tâm trên cho_biết   Theo trung_tâm Báo_chí Điều_tra Séc , bộ Quốc_phòng Mỹ đã cung_cấp thông_tin sai_lệch đối_với loại giấy chứng_nhận nêu trên khi khẳng_định người dùng là lính Mỹ   Những cuộc điều_tra trước đó ( có sự tham_gia của trung_tâm Báo_chí Điều_tra Séc ) cho thấy trong 4 năm trở_lại đây , các quốc_gia Đông_Âu , trong đó có , Cộng_hoà Séc , đã phê_duyệt việc bán vũ_khí trị_giá hơn 1,2 tỷ USD cho một_số quốc_gia Trung_Đông , mà sau đó bị_cáo buộc là chuyển sang Syria   “ Theo tôi được biết , những cáo_buộc này chỉ liên_quan tới vòng kiểm_soát của Mỹ chứ không có sự dính_dáng của các nhà_sản_xuất vũ_khí Séc   Ông nói rằng bản_thân “ không_thể tưởng_tượng được tình_huống khi một công_ty vũ_khí Séc phải xin phép từ bộ Công_nghiệp và Thương_mại , bởi theo luật 38/1994 , các hoạt_động buôn_bán như_vậy phải có giấy_phép và họ sẽ biết số vũ_khí rơi vào tay khủng_bố ”   Tuy_nhiên , nhận_thấy chương_trình này không gặt_hái được nhiều thành_công nên người kế_nhiệm của ông Obama là Tổng_thống Trump hiện_tại đã quyết_định chấm_dứt chương_trình này từ hồi tháng Bảy 7   Xem thêm : TT Putin và nghệ_thuật quan_hệ với hai đối_thủ \" không đội trời chung \" Một chiến_binh thuộc lực_lượng nổi_dậy Quân_đội Syria Tự_do ( FSA ) đứng trước bức tường có vẽ hình_ảnh biểu_trưng của khủng_bố Hồi_giáo cực_đoan IS ',\n",
              " ' Các chuyên_gia quân_sự cho_hay quân_đội Mỹ đang bố_trí tại căn_cứ Incirlik khoảng 50 vũ_khí_hạt_nhân , chủ_yếu là bom B -61 có từ thời Chiến_tranh_Lạnh , theo CNN   Việc những quả bom đó được cất_trữ tại Incirlik là \" một bí_mật mở \" , Joshua_Walker , nhà_nghiên_cứu về quan_hệ Mỹ - Thổ_Nhĩ_Kỳ từ Quỹ German_Marshall , cho_hay   Dù máy_bay , vũ_khí và binh_sĩ Mỹ tại Incirlik nằm ở một khu_vực tách_biệt , cách xa nơi các lực_lượng Thổ_Nhĩ_Kỳ hoạt_động , Mỹ vẫn nâng mức phòng_vệ lên cao nhất vào thời_điểm cuộc đảo chính nổ ra   Hiện không có dấu_hiệu nào cho thấy những quan_chức quân_sự hay chuyên_gia kỹ_thuật từ Bộ Năng_lượng Mỹ đến Thổ_Nhĩ_Kỳ để giám_sát kho vũ_khí này hay di_chuyển chúng ra khỏi đất_nước trước những mối quan_ngại về an_ninh   Nhưng nếu điều đó xảy ra , đây sẽ là một chiến_dịch tuyệt_mật và chỉ tổng_thống Mỹ cùng một_số quan_chức hàng_đầu mới biết về nó , một nguồn_tin am_hiểu vấn_đề nhận_xét   \" Chúng_tôi đã thực_hiện các bước cần_thiết để đảm_bảo rằng mọi thứ chúng_ta nắm giữ ở Thổ_Nhĩ_Kỳ vẫn an_toàn và được bảo_vệ \" , phát_ngôn_viên Bộ Quốc_phòng Mỹ Peter_Cook hôm 18/7 nói   Tuy_nhiên , giới quan_sát vẫn tỏ ra lo_lắng về sự an_toàn của kho vũ_khí_hạt_nhân Mỹ đặt tại Thổ_Nhĩ_Kỳ , trong bối_cảnh tình_hình ở quốc_gia này ngày_càng bất_ổn , đặc_biệt là sau đảo chính   Theo cây_bút Jeffrey_Lewis từ tạp_chí Foreign_Policy , những vũ_khí tại căn_cứ không_quân Incirlik được cất trong những kho hàng được bảo_vệ nghiêm_ngặt   Nổi_bật nhất trong số này là mạng_lưới cung_cấp hình_ảnh vệ_tinh các khu_vực trong và xung_quanh căn_cứ Incirlik   Trong trường_hợp những kẻ âm_mưu đảo chính tiếp_cận được số vũ_khí quan_trọng nói trên , việc sử_dụng chúng cũng không hề dễ_dàng , Lewis nhấn_mạnh   \" Tôi nghĩ bài_học mấu_chốt ở đây là lợi_ích từ việc cất_trữ vũ_khí_hạt_nhân Mỹ ở Thổ_Nhĩ_Kỳ là rất nhỏ nhưng nguy_cơ thì đang không ngừng gia_tăng suốt 5 năm qua \" , Hans_Kristensen , chuyên_gia về vũ_khí_hạt_nhân thuộc Liên_đoàn các Nhà_khoa_học Mỹ , nhận_xét   \" Theo tôi , an_ninh ở Thổ_Nhĩ_Kỳ cũng như tại căn_cứ Incirlik đã không còn đáp_ứng được những yêu_cầu an_toàn của Mỹ   Hồi tháng 4 , một nhóm cánh hữu địa_phương đã cố_gắng \" tấn_công \" một phi_công Mỹ tại căn_cứ   Và nay , một quan_chức chính_phủ Thổ_Nhĩ_Kỳ còn nói_bóng_gió rằng Washington nhiều khả_năng có một vai_trò nào đó trong vụ đảo_chính , dựa trên việc giáo_sĩ Hồi_giáo Fethullah_Gulen đang tị_nạn tại Mỹ   \" Nếu giới tình_báo cho_rằng nơi cất số vũ_khí ấy là một mục_tiêu của khủng_bố và bất_ổn thì chẳng có lý_do gì phải giữ chúng ở đó nữa \" , Ian_Kearns , giám_đốc viện chính_sách Mạng_lưới Lãnh_đạo châu_Âu , bình_luận ',\n",
              " '“ Chúng_tôi cảnh_báo Mỹ và đồng_minh không được thực_hiện những bước_đi nguy_hiểm mới ” , người_phát_ngôn bộ Ngoại_giao Nga Maria_Zakharova cho_hay khi trả_lời về diễn_biến của tình_hình quanh “ vụ tấn_công hoá_học ” , theo Sputnik   Bà Zakharova cũng nói thêm , Hội_đồng Bảo_an Liên_Hợp_Quốc đã tổ_chức một cuộc họp vào ngày 6/9 về báo_cáo vũ_khí_hoá_học mà Mỹ đưa ra   “ Mặc_dù tổ_chức Cấm Vũ_khí_Hoá_học ( OPCW ) đã nhiều lần xác_nhận rằng các loại chất hoá_học dùng cho mục_đích quân_sự của Syria đã bị tiêu_huỷ hoàn_toàn , song một loạt những cáo_buộc và đe_doạ đã được đưa ra nhằm vào chính_quyền Damascus với lý_do rằng nước này đang có ý_định tấn_công hoá_học ở tỉnh Idlib ” , phát_ngôn_viên người Nga nói   “ Chúng_tôi muốn liên_minh chia_sẻ các kế_hoạch của họ về vấn_đề Syria với chúng_tôi ” , Đại_sứ Nebenzia chia_sẻ   Ông cũng nhấn_mạnh nhiều nước trên thế_giới đã yêu_cầu Nga và Syria tiết_lộ chiến_lược của mình tại tỉnh này   Trung_tâm Hoà_giải Syria của Nga đã tuyên_bố những đoạn phim giả có nội_dung ghi lại một vụ “ tấn_công hoá_học ” nhằm quy trách_nhiệm cho quân Chính_phủ Syria , đang được quay ở Idlib   Vài ngày trước đó , báo Wall_Street_Journal cũng đưa tin bộ Quốc_phòng Mỹ đang xem_xét ý_định tập_kích quân_đội Nga hoặc Iran đang hỗ_trợ quân Chính_phủ Syria nếu một cuộc tấn_công ở Idlib xảy ra   Báo này cũng nói rằng Mỹ sẽ quyết_định có tấn_công hệ_thống phòng_không do Nga thiết_lập tại Syria hay không trong thời_gian tới   Các bên vẫn đang trong giai_đoạn tìm_kiếm giải_pháp cho Syria \" , hãng tin Aljazeera dẫn lời ông Tariq_Sulaq , một thủ_lĩnh của lực_lượng đối_lập tại Idlib , cho_biết   Fateh_Hassoun , một cựu sĩ_quan quân_đội Syria đảo_ngũ sang lực_lượng nổi_dậy , cho_rằng trong khi lực_lượng của quân_đội Syria còn hạn_chế , Iran dường_như không muốn can_dự nhiều vào chiến_dịch này , Nga cũng khó hỗ_trợ nếu không có lực_lượng yểm_trợ từ mặt_đất ',\n",
              " ' Việc này khiến nhiều chuyên_gia giao_thông lo_ngại vành_đai 3 vốn đã có lưu_lượng phương_tiện lớn sẽ thêm ùn_tắc   Để giải_quyết ách_tắc , thành_phố định_hướng đưa các xe_khách ra ngoài vành_đai 3 và tương_lai là ngoài vành_đai 4   Trước_mắt , xe các tỉnh phía Bắc sẽ chuyển về bến_xe Cổ_Bi ; xe_khách đi các tỉnh phía Nam sẽ tạm_thời về bến_xe Yên_Sở   Theo ông Viện , sau khi chuyển bến_xe Giáp_Bát , phía nam Hà_Nội chỉ còn bến Nước_Ngầm và Yên_Sở   Lãnh_đạo Sở Giao_thông cũng nhấn_mạnh cơ_quan này đã nghiên_cứu tổ_chức giao_thông qua vành_đai 3 để ngăn_chặn ùn_tắc sau khi bến_xe Yên_Sở đi vào hoạt_động   Theo đó , các phương_tiện được phân_luồng ba hướng , trong đó xe từ phía Bắc qua cầu Thanh_Trì đi vào vành_đai 3 bên dưới   Ngoài_ra , Sở dự_kiến sẽ mở một nút giao móng lừa để toàn_bộ xe phía Bắc sẽ quay đầu tại đây vào bến_xe Thanh_Trì mà không quay đầu tại nút giao Pháp_Vân   Còn xe đi từ bến_xe Thanh_Trì ra sẽ đi vào nút Tam_Trinh , vòng vào đường_cao_tốc trên cao nên không ảnh_hưởng đến nút giao bên dưới   \" Chúng_tôi tính_toán tổ_chức giao_thông rất tốt , không có gì băn_khoăn \" , ông Viện khẳng_định   Giám_đốc Sở Giao_thông cũng cho biết , thành_phố cấp phép cho doanh_nghiệp đầu_tư bến_xe Yên_Sở trong 50 năm là do công_năng sử_dụng không_chỉ là bến_xe liên tỉnh mà_còn cả bến_bãi đỗ xe   Khi Hà_Nội xây_dựng được bến_xe phía Nam ở ngoài vành_đai 4 thì phương_tiện tại bến_xe Yên_Sở sẽ được di_chuyển , giữ lại hạ_tầng bến_xe là bãi xe trung_chuyển   Bến_xe Yên_Sở trong tương_lai sẽ phục_vụ cho xe_buýt nội_đô , đồng_thời là bến_xe trung_chuyển và bãi đỗ xe kết_nối phương_tiện công_cộng với khu trung_tâm   Trước chủ_trương xây_dựng bến_xe Yên_Sở và chuyển_đổi công_năng trong tương_lai , Phó chủ_tịch Hiệp_hội vận_tải Hà_Nội Bùi_Danh_Liên cho rằng , kế_hoạch này sẽ gây lãng_phí vì bến_xe chỉ hoạt_động vài năm là phải di_chuyển toàn_bộ phương_tiện đi nơi khác   \" Bến này xây_dựng để di_chuyển xe từ các bến_xe phía Nam , rồi lại di_chuyển sau vài năm gây bất_ổn luồng tuyến xe_khách , ảnh_hưởng việc đi_lại của người_dân \" , ông Liên nói   Theo ông , phương_án phân_luồng của Sở Giao_thông chưa hợp_lý , khó giải_quyết được vấn_đề ùn_tắc khu_vực vành_đai 3 bởi mật_độ giao_thông tuyến này đang tăng lên , trong khi diện_tích đường lại không_thể mở_rộng   Đại_diện Vụ An_toàn giao_thông ( Bộ Giao_thông Vận_tải ) cũng bày_tỏ , bến_xe Yên_Sở cách bến_xe Nước_Ngầm chỉ hơn một km là quá gần nhau , không hợp_lý nếu xây bến mới và bỏ bến cũ   \" Dù bến Yên_Sở có trong quy_hoạch , Hà_Nội cần phải tham_khảo ý_kiến cộng_đồng và người_dân xem có nên xây_dựng bến_xe tại đây hay không ” , vị này nói   Vốn đầu_tư dự_án là 118 tỷ đồng , thời_gian hoạt_động của dự_án là 50 năm ',\n",
              " 'Hãng thông_tấn TASS của Nga cho_biết 23 nhà_ngoại_giao Nga cùng các thành_viên gia_đình họ đã rời Đại_sứ_quán Nga tại London sáng 20-3 để ra sân_bay để bay về nước   Theo quyết_định trục_xuất của London ban_bố vào thứ Tư tuần trước , họ có một tuần để thực_hiện lệnh này và họ đã rời gần_như đúng hạn   Theo hang tin AFP , đoàn xe chở các nhà_ngoại_giao Nga và gia_đình cùng thú cưng của họ đã rời Đại_sứ_quán Nga tại London và đi ra sân_bay để sau đó lên một máy_bay đặc_biệt từ Nga trở_về nước   Vụ trục_xuất này là biện_pháp trừng_phạt lẫn nhau sau vụ tranh_cãi ngoại_giao chưa có hồi kết liên_quan đến âm_mưu đầu_độc cựu điệp_viên Nga_Sergei_Skripal và con_gái ông này vào hôm 4-3 tại thành_phố Salisbury của Anh   Theo nhà_lãnh_đạo Đức , nhiều thông_tin điều_tra cho thấy có dấu_hiệu tham_gia của Nga trong vụ đầu_độc , do_vậy Matxcơva cần phải chứng_minh sự không liên_quan của mình   Ngày 19-3 , khi Tổng_thống Pháp Emmanuel_Macron điện_đàm chúc_mừng chiến_thắng của ông Putin và thảo_luận về một_số vấn_đề , Tổng_thống Nga đã khẳng_định không có bất_cứ bằng_chứng nào chứng_minh Nga liên_quan đến cái gọi là \" vụ án Skripal \" ',\n",
              " 'Tài xế xe tải bỏ trốn sau khi lùi xe cán tử_vong nạn_nhân 15 tuổi Sáng 17/10 , trên địa bàn tỉnh Long_An diễn ra một vụ tai nạn vô cùng thương_tâm khiến một bé gái tử vong  vn đưa tin , vào khoảng 7h15 , chị Trần_Hồng_Tiên ( 32 tuổi , ngụ tỉnh Tiền_Giang ) điều khiển xe máy , chở bé trai 12 tuổi và bé gái 15 tuổi , lưu_thông trên đường ĐT 826   Đến đoạn thuộc xã Phước_Lý , ( huyện Cần_Giuộc ) , xe của chị Tiên bất ngờ xảy ra va_chạm với xe_tải đi cùng chiều mang BKS 51 C -646  Sau sự cố , chiếc xe tải không dừng lại mà lùi ra sau , cán lên bé gái 15 tuổi khiến em tử vong tại chỗ   Lực lượng chức năng đã có mặt tại hiện trường vụ tai nạn ngay khi nhận được tin báo   Sau khi hoàn thành khám nghiệm hiện trường , lực lượng đã cho di dời các phương tiện ra khỏi lòng đường để đảm bảo lưu_thông qua khu vực này   Hà Nội : Xe tải húc đổ cột điện rồi lật nghiêng giữa đường Theo thông_tin từ Petro_Times , khoản 10h sáng cùng ngày , một chiếc xe tải trong lúc lưu_thông trên đường Giải_Phóng ( quận Thanh_Xuân , Hà_Nội ) đã mất lái , lao vào cột điện nằm trên dải phân cách đối diện với số nhà 384 Giải Phóng   Nhận được tin báo , lực lượng Công_an nhanh_chóng có_mặt tại hiện trường , điều_tra làm rõ nguyên_nhân sự cố đồng thời tiến hành phân_luồng , điều_tiết giao_thông  76 đang lưu_thông trên QL1 , đến đoạn giao với đường Nguyễn_Thiếp ( thuộc thị_trấn Can_Lộc , huyện Can_Lộc , tỉnh Hà_Tĩnh ) , chiếc xe_ôm cua để rẽ trái nhưng do thiếu tầm nhìn nên đã va vào xe máy của ông Vương_Xuân_Th ',\n",
              " '000 m2 , gồm 8 tầng nổi và một tầng hầm với quy_mô khoảng 180 giường_bệnh với các chuyên_khoa trọng_tâm như : Sản , Nhi , Tim_mạch , Nội tiêu_hoá , Chấn_thương Chỉnh_hình , Tiết_niệu , Chẩn_đoán hình_ảnh , Phục_hồi chức_năng , … Ông Nguyễn_Việt_Quang , phó chủ_tịch kiêm tổng_giám_đốc Tập_đoàn Vingroup , cho_biết bệnh_viện Vinmec_Hải_Phòng được đầu_tư đồng_bộ về cơ_sở_vật_chất cùng trang_thiết_bị hiện_đại hàng_đầu thế_giới   Trong đó , có những trang_thiết_bị lần đầu_tiên xuất_hiện tại Hải_Phòng như máy cộng_hưởng từ Signa_Pioneer 3 0 Tesla công_nghệ không tiếng ồn , máy chụp cắt_lớp vi_tính ( CT ) 640 lát cắt cho_phép chụp động_mạch_vành mà không cần thuốc giảm nhịp tim , đảm_bảo an_toàn và thuận_tiện tối_đa cho khách_hàng   Tại lễ khánh_thành công_trình , Thứ_trưởng Bộ Y_tế Nguyễn_Viết_Tiến cho_rằng những công_trình Bệnh_viện Vinmec đã và đang được xây_dựng trên cả nước đã tạo ra sự bứt_phá và mở_rộng thành hệ_thống y_tế đầu_tiên ở Việt_Nam được xây_dựng , vận_hành theo chuẩn quốc_tế   \" Sự ra_đời của Vinmec_Hải_Phòng sẽ tiếp_tục góp_phần đem lại dịch_vụ chăm_sóc sức_khoẻ chuẩn quốc_tế , từ đó nâng_cao chất_lượng sống cho người_dân khu_vực Đông_Bắc_Bộ   Cùng chung nhận_định , ông Nguyễn_Văn_Tùng – chủ_tịch UBND TP Hải_Phòng , cho_rằng Vinmec Hải_Phòng đi vào hoạt_động sẽ góp_phần giảm tải cho các bệnh_viện công_lập trên địa_bàn thành_phố , giúp người_dân không phải vượt_tuyến hoặc ra nước_ngoài chữa bệnh , cũng như góp_phần mang lại sự an_tâm cho du_khách quốc_tế đến thăm quan Hải_Phòng nói_riêng và khu_vực Đông_Bắc bộ nói_chung   Chủ_tịch Quốc_hội Nguyễn_Thị_Kim_Ngân cũng lãnh_đạo Bộ , ngành và TP Hải_Phòng cắt băng khánh_thành Bệnh_viện đa_khoa quốc_tế Vinmec_Hải_Phòng trong ngày 9-7 - Ảnh : TIẾN_THẮNG ',\n",
              " 'Việc bổ_nhiệm lãnh_đạo , quản_lý cấp phòng và tương_đương trong các cơ_quan_hành_chính , đơn_vị sự_nghiệp công_lập tại TP HCM sẽ được thực_hiện theo các quy_định về tiêu_chuẩn chức_danh trưởng_phòng của Thành_uỷ , UBND TP HCM và Quyết_định 27/2003 của Thủ_tướng về bổ_nhiệm , bổ_nhiệm lại , luân_chuyển , từ_chức , miễn_nhiệm cán_bộ , công_chức lãnh_đạo   Theo UBND TP HCM , cuối tháng 5 Bộ_Chính_trị đã có thông_báo kết_luận về đề_án Thí_điểm đổi_mới cách tuyển_chọn lãnh_đạo quản_lý cấp vụ , sở , phòng   Trong đó quy_định \" các cơ_quan tổ_chức , đơn_vị và địa_phương thực_hiện thí_điểm đổi_mới cách tuyển_chọn công_chức , viên_chức lãnh_đạo , quản_lý cấp vụ , cấp sở , cấp phòng theo Đề_án này ( sau khi Đề_án được ban_hành chính_thức ) ; không tổ_chức thi_tuyển công_chức , viên_chức lãnh_đạo , quản_lý theo các đề_án do địa_phương , đơn_vị   Bởi trước đây những chức_danh này được các cơ_quan có thẩm_quyền bổ_nhiệm , còn nay thi_tuyển công_khai và có cả một hội_đồng chấm thi   Ngoài_ra , việc thi_tuyển cũng được cho sẽ nâng_cao chất_lượng trong đội_ngũ lãnh_đạo vì ngoài việc tuyển_chọn gắt_gao đầu_vào các thí_sinh sẽ có sự cạnh_tranh khi thành_phần dự thi được mở_rộng   Liên_quan đến việc thi_tuyển lãnh_đạo , giữa tháng 6 , Bộ Giao_thông Vận_tải cũng có quyết_định về việc dừng tổ_chức thi_tuyển các chức_danh Giám_đốc Học_viện Hàng_không ; Cục_trưởng Hàng_hải ; Vụ_trưởng Môi_trường ; Vụ_trưởng Hợp_tác quốc_tế ; Người đại_diện phần vốn nhà_nước tại Tổng_công_ty Hàng_hải Việt_Nam   Thay vào đó , việc lựa_chọn , bổ_nhiệm các chức_danh trên , cũng như lãnh_đạo tại các cơ_quan sẽ được thực_hiện theo các quy_định hiện_hành của Đảng , Chính_phủ , Bộ Nội_vụ ',\n",
              " 'Express ngày 25/10 đưa tin , trong một clip được quay tại cuộc họp_báo ở Nga , người đứng đầu Điện_Kremlin đã khẳng_định , Mỹ hiện đang tập_trung vào Iran và Nga “ để đánh lạc hướng cử_tri khỏi các vấn_đề của nội_bộ nước Mỹ ” bằng cách tạo ra “ một kẻ_thù và thống_nhất dân_tộc lại để chống lại kẻ_thù ấy ”   Tổng_thống Nga nhấn_mạnh : “ Phá_hoại mối quan_hệ Nga - Mỹ để đạt được sự ủng_hộ của cử_tri , tôi coi đó là một biện_pháp nguy_hại và phản_tác_dụng ”   Express đưa ra bình_luận , những tuyên_bố trên của Tổng_thống Putin được đưa ra khi những căng_thẳng giữa Nga và các nước phương Tây đang ở mức cao nhất kể từ khi Nga bắt_đầu chiến_dịch không_kích Syria   Nhà_lãnh_đạo Nga đã thẳng_thắn đưa ra lời chỉ_trích nữ ứng_viên đảng Dân_chủ Hillary_Clinton vì có thái_độ chống_đối mạnh_mẽ với nước Nga   “ Bà_Clinton đã lựa_chọn lập_trường quyết_liệt chống lại nước Nga của chúng_tôi   Ông Trump thì ngược_lại , ông ấy kêu_gọi sự hợp_tác giữa hai quốc_gia , ít_nhất là trong cuộc_chiến chống khủng_bố ” , ông Putin nhấn_mạnh   “ Liệu bà Clinton có thực_hiện những lời đe_doạ và hùng_biện gay_gắt về nước Nga nếu bà ấy trở_thành Tổng_thống ? Hay bà ấy sẽ thay_đổi lập_trường đối lại chúng_ta ? \" , ông Putin nói   Trước đó , trong cuộc tranh_luận trực_tiếp lần cuối giữa ứng_viên đại_diện cho hai đảng , cựu Ngoại_trưởng Mỹ Hillary_Clinton đã cáo_buộc Chính_phủ Nga tham_gia vào các hoạt_điệp chống lại người Mỹ ',\n",
              " 'Chiều 23/3 , Đại_tướng Ngô_Xuân_Lịch , Bộ_trưởng Quốc_phòng đã hội_đàm với Thượng_tướng Leopoldo_Cintra_Frías , Bộ_trưởng Bộ các lực_lượng_vũ_trang cách_mạng Cuba   Hai bên thông_báo cho nhau về tình_hình chính_trị , kinh_tế - xã_hội và trao_đổi kinh_nghiệm xây_dựng lực_lượng_vũ_trang   Sau hội_đàm , hai Bộ_trưởng đã ký kế_hoạch hợp_tác giai_đoạn 2017-2019 , trong đó tập_trung vào việc thúc_đẩy hợp_tác trong các lĩnh_vực như trao_đổi đoàn cao_cấp , đào_tạo cán_bộ , quân_y , phòng_không - không_quân , doanh_nghiệp quân_đội … Trong thời_gian thăm Việt_Nam , Thượng_tướng Leopoldo_Cintra_Frías sẽ đến làm_việc tại một_số đơn_vị quân_đội , Viện Cây_lương_thực - Cây_thực_phẩm ( Bộ Nông_nghiệp ) ',\n",
              " 'Thừa_Thiên - Huế : Không để dịch lây_lan ra ngoại_tỉnh Trao_đổi với Tuổi_Trẻ Online , ông Nguyễn_Văn_Hưng , chi_cục trưởng Chi_cục Thú_y tỉnh Thừa_Thiên - Huế , cho_biết ngay sau khi nhận được thông_tin dịch_tả heo xuất_hiện ở thôn Hiền_An ( xã Phong_Sơn , huyện Phong_Điền ) , chi_cục đã lập_tức tiến_hành các biện_pháp ngăn_chặn dịch_bệnh   Theo đó , đàn heo của hộ gia_đình phát_hiện dịch đã được đem đi tiêu_huỷ toàn_bộ   Chúng_tôi cũng đã thông_báo toàn tỉnh về việc xảy ra dịch_tả heo châu_Phi và yêu_cầu chính_quyền các địa_phương tăng_cường các biện_pháp phòng_dịch , thực_hiện cam_kết phòng_chống dịch ở các hộ nuôi heo với chi_cục \" , ông Hưng nói   Cũng theo ông Hưng , hiện trên địa_bàn tỉnh Thừa_Thiên - Huế đã lập 7 chốt kiểm_dịch tả heo châu_Phi với lực_lượng túc_trực 24/2 4   Hai chốt mới nhất được thành_lập ở quốc_lộ 49 và đường Hồ_Chí_Minh thuộc địa_bàn huyện A_Lưới , nơi có nhiều xe chở động_vật thường_xuyên qua_lại   Sau khi ghi_nhận trên địa_bàn tỉnh xảy ra dịch_bệnh , ông Nguyễn_Văn_Phương , phó chủ_tịch UBND tỉnh Thừa_Thiên - Huế , đã xuống hiện_trường trực_tiếp chỉ_đạo việc tiêu_huỷ   Ông Phương yêu_cầu các cơ_quan_chức_năng nhanh_chóng dập dịch , không để dịch bùng_phát lây_lan qua địa_phương khác và ngoại_tỉnh   Ông Lâm cho_biết so với thời_điểm mới phát dịch , hiện lưu_lượng phương_tiện và số_lượng heo vào Nam đã giảm mạnh , chỉ còn khoảng 1/4   Theo ông Lâm , quy_trình kiểm_dịch chặt_chẽ và nhu_cầu thị_trường giảm_sút đã ảnh_hưởng đến sản_lượng heo xuất đi   Theo nhật_ký ghi lại , các tỉnh có heo xuất đi là Nghệ_An , Hà_Tĩnh , Quảng_Bình , Thừa_Thiên - Huế , Vĩnh_Phúc , Thái_Nguyên   Điểm đến của các xe heo chủ_yếu là các tỉnh miền Tây như Long_An , Sóc_Trăng , Tây_Ninh , Tiền_Giang , Đồng_Nai ',\n",
              " 'Trước đó , phát_biểu kết_luận tại phiên họp Ban Chỉ_đạo xây_dựng Quy_hoạch cán_bộ cấp chiến_lược nhiệm_kỳ 2021-2026 , Tổng_Bí_thư , Chủ_tịch nước Nguyễn_Phú_Trọng khẳng_định , công_tác xây_dựng quy_hoạch cán_bộ , đặc_biệt là cán_bộ cấp chiến_lược có vai_trò hết_sức quan_trọng , được Đảng , Nhà_nước ta quan_tâm chỉ_đạo từ rất sớm và đã tiến_hành từ lâu , được đề_cập ở nhiều nghị_quyết , chỉ_thị của Đảng   Mục_tiêu cốt_lõi của Quy_hoạch nhân_sự Ban_Chấp_hành Trung_ương khoá XIII là tìm được cán_bộ cấp chiến_lược cho những vị_trí lãnh_đạo chủ_chốt , đủ phẩm_chất , năng_lực và uy_tín , ngang tầm nhiệm_vụ   Lần này , điểm khác trước là không quy_hoạch cho nhiều khoá , mà chỉ tập_trung cho khoá tới 2021-2026   Yêu_cầu đặt ra là phải thận_trọng , chặt_chẽ , tập_trung , dân_chủ , công_tâm , khách_quan , tuyệt_đối không được thiên_vị , giữ_gìn kỷ_luật thông_tin , bước_đi phải chặt_chẽ , bởi đây là công_việc phức_tạp , hệ_trọng   Trước yêu_cầu về tiêu_chuẩn cán_bộ , Tổng_Bí_thư , Chủ_tịch nước nhấn_mạnh yêu_cầu về trình_độ , hiểu_biết , phải tương_đối toàn_diện trên các lĩnh_vực , đặc_biệt là trình_độ lý_luận cơ_bản , bởi đây là những người sẽ hoạch_định đường_lối chủ_trương , lộ_trình bước_đi sắp tới của đất_nước ta , nên phải nắm chắc tình_hình trong nước , quốc_tế   Bên cạnh đó , cần chú_ý đào_tạo , bồi_dưỡng nhiều hơn những cán_bộ có trình_độ , hiểu_biết về xây_dựng Đảng , luật_pháp , các trí_thức tiêu_biểu , các nhà_văn_hoá , nhà_khoa_học có uy_tín … Đối_với uỷ_viên dự_khuyết , không_chỉ chú_ý về độ tuổi_trẻ , mà trình_độ , tiêu_chuẩn mới là chính   Tổng_Bí_thư , Chủ_tịch nước Nguyễn_Phú_Trọng nhấn_mạnh : Dứt_khoát không đưa vào Quy_hoạch những người có biểu_hiện suy_thoái về tư_tưởng chính_trị , mất đoàn_kết , gây_rối nội_bộ , tham_nhũng , tiêu_cực , cơ_hội chính_trị như “ con lươn , con_chạch ” là sau_này rất khó   Quy_hoạch phải được thường_xuyên rà_soát , khi phát_hiện có vấn_đề là loại ra ngay , đồng_thời bổ_sung kịp_thời khi cần_thiết … Việc xây_dựng Quy_hoạch cán_bộ cấp chiến_lược nhằm chủ_động chuẩn_bị nguồn cán_bộ để đào_tạo , bồi_dưỡng , thử_thách , làm cơ_sở cho công_tác nhân_sự tại Đại_hội Đảng toàn_quốc lần thứ XIII , nhằm xây_dựng đội_ngũ cán_bộ cấp chiến_lược có đủ phẩm_chất , năng_lực , uy_tín , kiên_định lý_tưởng , mục_tiêu độc_lập dân_tộc và chủ_nghĩa_xã_hội ; lãnh_đạo thành_công sự_nghiệp xây_dựng và bảo_vệ Tổ_quốc trong tình_hình mới   Cụ_thể_hoá ý_kiến chỉ_đạo của Tổng_Bí_thư , Chủ_tịch nước Nguyễn_Phú_Trọng về vấn_đề này trước thềm Hội_nghị , Uỷ_viên Trung_ương Đảng , Phó_Trưởng ban Thường_trực Ban Tổ_chức Trung_ương Nguyễn_Thanh_Bình cho báo_chí biết , ngay từ đầu nhiệm_kỳ Đại_hội XII đến nay , Ban Tổ_chức Trung_ương đã tham_mưu Ban_Chấp_hành Trung_ương , Bộ_Chính_trị , Ban_Bí_thư tập_trung lãnh_đạo xây_dựng , sửa_đổi , bổ_sung và ban_hành nhiều chủ_trương , nghị_quyết , quy_chế , quy_định liên_quan đến công_tác cán_bộ và quản_lý đội_ngũ cán_bộ như Nghị_quyết Trung_ương 4 , 6 , 7 khoá XII   Hai là , đổi_mới theo quy_trình , cách làm trên cơ_sở tiếp_tục mở_rộng dân_chủ , xác_định rõ thẩm_quyền , trách_nhiệm trực_tiếp của các cấp_uỷ , tổ_chức đảng và người đứng đầu các cấp trong việc xem_xét , phát_hiện , giới_thiệu nhân_sự ( cụ_thể_hoá các tiêu_chuẩn và điều_kiện với các chức_danh quy_hoạch , quy_trình giới_thiệu cụ_thể ) tại địa_phương , cơ_quan , đơn_vị theo 4 bước   Trong việc xem_xét , lựa_chọn , giới_thiệu nhân_sự quy_hoạch , Phó_Trưởng ban Tổ_chức Trung_ương nhấn_mạnh việc coi_trọng tiêu_chuẩn về bản_lĩnh chính_trị , phẩm_chất đạo_đức , lối_sống , ý_thức tổ_chức kỷ_luật , sự gương_mẫu của bản_thân và gia_đình cán_bộ   Đề_cao trách_nhiệm của các cấp_uỷ , tổ_chức đảng và các cơ_quan tham_mưu trong công_tác phối_hợp để nâng_cao chất_lượng thẩm_tra nhân_sự quy_hoạch   Cơ_chế tiếp_theo , đồng_chí Nguyễn_Thanh_Bình lưu_ý là cần có cơ_chế kiểm_soát , không để lọt những người có một trong những hạn_chế , khuyết_điểm sau vào quy_hoạch cấp chiến_lược : Những người suy_thoái về tư_tưởng chính_trị , đạo_đức , lối_sống , tự diễn_biến , tự chuyển_hoá ; cơ_hội chính_trị ; xu_nịnh , chạy chức , chạy quyền , tham_vọng cá_nhân , không trong_sáng ; bản_thân và gia_đình không gương mẫu chấp_hành chủ_trương đường_lối , chính_sách của Đảng , pháp_luật của Nhà_nước   Đồng_chí Nguyễn_Thanh_Bình cho biết , đến thời_điểm này , các cấp_uỷ trực_thuộc Trung_ương và nhiều địa_phương cũng đã cơ_bản hoàn_thành việc giới_thiệu nhân_sự khoá tới để trình Trung_ương xem_xét tại Hội_nghị lần thứ 9   Về cơ_bản , các cấp_uỷ , tổ_chức đảng , tập_thể lãnh_đạo cơ_quan , đơn_vị đã thực_hiện nghiêm Kế_hoạch 11 của Bộ_Chính_trị , qua đó đã tạo được không_khí phấn_khởi , trách_nhiệm , đồng_thuận trong toàn hệ_thống chính_trị ',\n",
              " 'Tuy_nhiên , chia_sẻ với PV báo Người Đưa_Tin , Lê_Âu_Ngân_Anh cho_biết : “ Thật_ra , thời_gian tới tôi sẽ chọn_lọc sự_kiện để tham_gia , chứ không phải rút_lui hoàn_toàn khỏi showbiz   Trước câu_hỏi : Liệu sau những sóng_gió vừa_qua , Ngân_Anh có chấp_nhận “ đánh_đổi ” vương_miện để trở_về cuộc_sống của một cô_gái bình_thường ? Người đẹp cho_hay : “ Với tôi , chiếc vương_miện Hoa_hậu Đại_dương 2017 chính là phần_thưởng ghi_nhận cho những quyết_tâm của bản_thân   Hoa_hậu Đại_dương 2017 cũng bày_tỏ quan_điểm rằng : “ Hình_như , ở Việt_Nam , người_ta vẫn nghĩ , việc nổi_tiếng trong showbiz , thậm_chí nổi_tiếng theo nghĩa tiêu_cực , là thước_đo cho sự thành_công ? ”   Chính vì suy_nghĩ như_vậy nên thời_gian đầu khi vướng phải những lùm xùm không đáng có , bản_thân cô cảm_thấy rất sốc   Trước những ý_kiến cho_rằng , Lê_Âu_Ngân_Anh nổi_tiếng nhờ scandal , thị_phi , người đẹp sinh năm 1995 đáp lại rằng : “ Nếu nói rằng tôi “ dựa hơi ” scandal để đánh_bóng tên_tuổi , thì thời_gian đầu sẵn có những “ bước đệm ” lùm_xùm , đáng_lẽ tôi đã chớp thời_cơ rồi ',\n",
              " 'Lính cứu_hoả và cảnh_sát áp_giải tên trộm mắc_kẹt trong ống thông hơi nhà_vệ_sinh   Tên trộm và đồng_phạm đột_nhập căn_hộ trên tầng 9 của một toà chung_cư nhưng bị phát_hiện khi chủ nhà quay về lúc trưa   Chủ nhà gọi cảnh_sát , khi mọi người ập vào thì thấy căn nhà trống_rỗng   Hai tên trộm trèo qua cửa_sổ , lọt vào nhà_vệ_sinh ở tầng 8 , một tên bị cảnh_sát bắt   Khi cảnh_sát áp_giải tên trộm , người này rất yếu   Xem thêm : Nữ cảnh_sát mặc bikini hạ gục tên trộm gây sốt_mạng xã_hội Văn_Việt',\n",
              " ' CNN hôm 10/1 đưa tin tình_báo Mỹ đã bàn_giao cho Donald_Trump và Barack_Obama một bản tóm_tắt hai trang tài_liệu mật , trong đó gợi_ý Nga đã chủ_động hợp sức với chiến_dịch tranh_cử của ông Trump và cũng nắm giữ những thông_tin bất_lợi cho nhà tài_phiệt New_York   Tuy_nhiên , Điện_Kremlin tuyên_bố họ không nắm thông_tin gì gây tổn_hại cho tổng_thống đắc_cử Mỹ   Trên mạng xã_hội Twitter , ông Trump khẳng_định những thông_tin trên không chính_xác và chúng hoàn_toàn là \" tin giả_mạo \"   Tại cuộc họp_báo đầu_tiên kể từ khi thắng_cử diễn ra hôm_qua tại toà tháp Trump ở New_York , tỷ_phú Mỹ nhất_quyết không trả_lời câu_hỏi từ CNN , đồng_thời có một cuộc đối_thoại khá gay_gắt với phóng_viên Jim_Acosta của kênh này   Acosta không nản_lòng , tiếp_tục lên_tiếng : \" Vì ngài đang công_kích tổ_chức chúng_tôi , liệu ngài có_thể cho chúng_tôi cơ_hội đặt một câu_hỏi không ? \" Ông Trump đáp : \" Không phải anh   Không lâu sau cuộc họp_báo , CNN ra một thông_báo bảo_vệ bản_tin mà họ đã đưa liên_quan tới nhà tài_phiệt New_York   \" CNN muốn làm rõ rằng chúng_tôi sẽ không đăng_tải bất_kỳ chi_tiết nào liên_quan tới các trang tài_liệu bởi chúng_tôi chưa chứng_thực được những cáo_buộc trong báo_cáo   Vì đội_ngũ chuyển_giao quyền_lực của ông Trump đã lớn_tiếng chỉ_trích bản tin chúng_tôi đưa , chúng_tôi khuyến_khích họ xác_định cụ_thể những gì họ tin là không chính_xác \" , người_dân chương_trình Jake_Tapper đọc thông_báo từ CNN ',\n",
              " ' Là người tham_gia phát_biểu đầu_tiên , ĐBQH Nguyễn_Lân_Hiếu ( đoàn An_Giang ) cũng đã chia_sẻ những trăn_trở , băn_khoăn của mình cũng như của nhiều cử_tri   Nghe audido : ĐBQH Nguyễn_Lân_Hiếu nói về gian_lận thi_cử Một bộ_phận nhỏ làm vấy bẩn toàn_cảnh bức_tranh kinh_tế “ Trong báo_cáo của Chính_phủ có nêu nền kinh_tế xã_hội năm 2018 và những tháng đầu năm 2019 , tôi rất mừng vì các con_số tăng_trưởng , các thành_tựu đã đạt được   Vậy nhưng , rất nhiều cử_tri đã thể_hiện sự hoài_nghi , nguyên_nhân vì niềm_tin của người_dân bị lung_lay nên những cái tốt , cái tích_cực không còn được đón_nhận và niềm_tin ấy mấy đi về những thực_tế trong xã_hội , như những bức_xúc hàng ngày của người_dân vẫn chưa được giải_quyết hợp_lý , nhanh_chóng   Vì_vậy , những cố_gắng của cả một hệ_thống thì còn có một bộ_phận nhỏ làm vấy bẩn toàn_cảnh bức_tranh kinh_tế của Việt_Nam ” , ĐBQH Nguyễn_Lân_Hiếu chia_sẻ   Bên cạnh đó , ĐBQH Nguyễn_Lân_Hiếu cũng bày_tỏ những vấn_đề mà người_dân , cử_tri An_Giang quan_tâm : “ Về lĩnh_vực giao_thông , kỳ họp trước tôi đã rất mừng vì Phó Thủ_tướng Phạm_Bình_Minh đã trực_tiếp đến đoàn tôi để tìm_hiểu trong việc triển_khai xây_dựng đường tránh Long_Xuyên   Một việc có_thể tưởng như đạt hiệu_quả nhãn_tiền kinh_tế xã_hội của cả một tỉnh , một việc nếu được triển_khai thì sẽ không có chuyện người_dân kéo đến trạm BOT T2 để phản_ứng dữ_dội cách đây vài ngày   Hậu_quả là một công_trình có ý_nghĩa quan_trọng với đồng_bằng sông Cửu_Long là cây cầu Vàm_Cống vừa khánh_thành đã mất đi ý_nghĩa nhân_văn chỉ vì sai_lầm , tắc_trách của một bộ_phận   Khởi_công đường tránh Long_Xuyên và có giải_pháp tháo_gỡ công_bằng cho người_dân khi đi qua trạm thu phí BOT T2 là mong_mỏi lớn nhất của người_dân , cử_tri ”   Bộ Công_Thương có tờ_trình về giá điện , giá xăng , rất nhiều con_số lập_luận Bộ làm đúng , nhưng lấy ví_dụ chính bản_thân tôi là bác_sĩ , khi khám bệnh phác_đồ là đúng mà bệnh_nhân không tốt lên thì tôi vẫn phải xem_xét lại quy_trình , phương_pháp là đúng nhưng khi triển_khai lại sai mắt_xích nào đấy   Nhiều kẽ hở trong khâu tổ_chức thi_cử “ Về vấn_đề giáo_dục , có rất nhiều vấn_đề giáo_dục cũng đã được đề_cập trong thời_gian qua , trong đó có vấn_đề cử_tri rất bức_xúc đó là gian_lận thi_cử   Không_thể nói đây hoàn_toàn là lỗi của một địa_phương , bởi nhiều địa_phương cũng phát_hiện ra gian_lận thi_cử trong kỳ thi vừa_qua   Năm vừa_qua , Bộ chưa có tập_huấn chỉ_đạo cấp tỉnh về những kẽ hở khâu chấm thi , phần_mềm chấm thi môn tự_luận quá lỏng_lẻo , bài thi_trắc_nghiệm không dọc phách , dùng bút chì để khoanh … Bộ không đánh_giá về kết_quả thi hàng năm tại các tỉnh , thành_phố tỉ_lệ điểm thế_nào để phân_tích kết_quả   Việc phúc_tra cả nước phát_hiện nhiều vi_phạm trong kỳ thi vừa_qua , đây là lỗi hệ_thống , lỗi quy_trình rất cần những người chịu trách_nhiệm với nhân_dân   Có như_vậy , trong tương_lai những sự_kiện thi_cử THPT của bộ GD & ĐT nói_riêng và các sự_kiện trong bộ GD & ĐT nói_chung mới đảm_bảo tính công_bằng và hiệu_quả   Trong phiên thảo_luận , nhiều người đã bàn về triết_lý giáo_dục , trước_mắt cần đưa ra nguyên_tắc giáo_dục rất đơn_giản cần_thiết lúc này đó là một nền giáo_dục không nói_dối ',\n",
              " 'Diễn_biến mới nhất liên_quan đến dự_án đường_ống dẫn nước sông Đà số 2 , trưa 29/3 , trao_đổi với PV báo Người đưa tin , Phó Tổng_Giám_đốc Cty CP nước_sạch Vinaconnex ( Viwasupco ) - ông Trương_Quốc_Dương cho biết , đến thời_điểm hiện_tại đơn_vị này vẫn chưa ký_kết hợp_đồng với Công_ty TNHH ống gang dẻo Xinxing ( Trung_Quốc )   Trước câu_hỏi của PV báo Người đưa tin về khả_năng huỷ kết_quả trúng_thầu , ông Dương không đưa ra ý_kiến bình_luận cũng như thông_tin nào   Trong diễn_biến khác , được biết chiều 28/3 , Sở Xây_dựng Hà_Nội đã chủ_trì cuộc họp để bàn về dự_án xây_dựng tuyến đường_ống dẫn nước_sạch sông Đà số 2 , tham_dự cuộc họp có các bên liên_quan như : Trung_tâm Hỗ_trợ đấu_thầu thuộc Cục Quản_lý Đầu thầu ( Bộ KH & ĐT ) ; Cục Hạ_tầng kỹ_thuật , Vụ Kinh_tế xây_dựng và Cục Giám_định Nhà_nước về chất_lượng công_trình xây_dựng ( Bộ Xây_dựng )   Đồng_thời cũng không thấy cơ_quan_chức_năng hay ý_kiến cá_nhân nào trong cuộc họp đưa ra giải_pháp khác hay phản_đối việc lựa_chọn nhà_thầu Cty TNHH Ống gang dẻo Xinxing của Trung_Quốc ',\n",
              " 'PV báo Người Đưa_Tin có_mặt tại nhà tang_lễ Bệnh_viện 198 , thức trắng đêm cùng gia_đình các nạn_nhân trong vụ hoả_hoạn xảy ra sáng 12/4 tại Trung_Văn , Hà_Nội , chúng_tôi không kìm được nước_mắt khi nghe tiếng người_nhà gào khóc gọi tên các nạn_nhân   “ Ba mẹ_con nó ôm nhau chết trong đau_đớn , quằn_quại ” Trong số 8 nạn_nhân tử_vong , thì 4 trong số đó là cả một gia_đình gồm đôi vợ_chồng trẻ và hai đứa con_trai   Theo người_nhà nạn_nhân cho biết , Anh V  là người hiền_lành , chăm_chỉ và chịu_khó , đứa lớn sinh ra đã ốm_đau bệnh_tật suốt nên phải chữa_trị tại một bệnh_viện ở Hà_Nội   mới đưa hai đứa cháu xuống đấy ngủ nhờ tại xưởng một đêm , để sáng đưa đứa lớn đi khám bệnh , không ngờ lại gặp hoạ như_thế_này   “ Ba mẹ_con cũng thuê nhà_nghỉ rồi , nhưng lại thôi vì lâu ngày mới xuống thăm bố , nên ngủ lại với bố một hôm , không ngờ lại là đêm cuối_cùng ”   Vị này cho biết thêm Bà P  đau_đớn tâm_sự : “ Họ bảo nhìn thấy 3 mẹ con nó ôm dính lấy nhau cháy ngoài cửa , đứa lớn thì ôm cổ mẹ , đứa nhỏ thì ôm ở chân , sao mà đau_đớn thế , chết trong quằn_quại , đau_đớn quá , bình_thường một tý nước sôi đã đau rồi , chúng_nó còn chết cháy hết người   Ông_bà hai bên thì đang bệnh ở nhà , chúng_nó đi mà không để lại đứa nào cả vậy ”   Giữa nhà tang_lễ lạnh_lẽo , người mẹ gào tên con trong vô_vọng   là nạn_nhân được tìm thấy cuối_cùng trong vụ hoả_hoạn và được đưa đến nhà tang_lễ bệnh_viện 198 vào lúc 15h   Do anh tìm cách thoát_thân , nhưng lại nhảy vào đúng chỗ lửa bốc_cháy , nên không chạy được   còn vợ và 2 con nhỏ , một bé còn chưa được nhìn mặt bố   Theo nhân_viên pháp_y , quá_trình giám_định thân_nhân đến khoảng hơn 12h đêm , tuy_nhiên người_nhà vẫn chưa_thể đưa nạn_nhân về được vì còn nhiều thủ_tục pháp_y thì mới có_thể hoàn_thành   Gia_đình nạn_nhân mong_mỏi kết_quả giám_định để nhanh_chóng đưa nạn_nhân về mai_táng ',\n",
              " 'Chiều 7-5 , thông_tin từ UBND huyện Bình_Sơn , tỉnh Quảng_Ngãi cho_biết kết_quả thanh_tra đột_xuất về tài_chính tại UBND xã Bình_Tân đã phát_hiện hàng_loạt sai_phạm tại xã này   Theo đó , thanh_tra huyện kiểm_tra két sắt của UBND xã Bình_Tân phát_hiện chỉ có 2,8 triệu đồng , dù theo hồ_sơ kế_toán tiền_mặt còn hơn 293 triệu đồng   Ngoài_ra , kế_toán lập 17 phiếu chi , đưa vào sổ_sách và báo_cáo quyết_toán với số tiền hơn 138 triệu đồng , nhưng bà Nga không chi cho người được hưởng mà chiếm_dụng   Hiện cơ_quan công_an đã thu_lý hồ_sơ , điều_tra làm rõ sai_phạm của thủ_quỹ Nga ',\n",
              " '000 người tham_gia cuộc biểu_tình hôm_qua ở bên ngoài toà_án vùng Bobigny , phía bắc thủ_đô Paris , Pháp , với các biểu_ngữ như \" cảnh_sát cưỡng_hiếp \" hay \" cảnh_sát giết người vô_tội \" , France 24 hôm_nay đưa tin   Không lâu sau , một_số người quá_khích bắt_đầu ném đá vào cảnh_sát , đập phá các cửa_hiệu và phóng_hoả vào các chiếc xe , trong đó có xe của đài_phát_thanh RTL   Trước đó , 4 người đã bị bắt ở thành_phố Marseille trong một cuộc biểu_tình chống cảnh_sát   Hôm 2/2 , một nam thanh_niên da_màu có tên Theo được cho là bị 4 cảnh_sát đánh_đập và cưỡng_hiếp trong lúc kiểm_tra giấy_tờ tuỳ_thân   Các sĩ_quan này bị tố đưa Theo ra một góc , cưỡng_dâm bằng dùi_cui , nhổ vào người , đánh vào chỗ kín và có những lời nói xúc_phạm thanh_niên này   Một sĩ_quan cảnh_sát đang bị điều_tra với cáo_buộc cưỡng_hiếp Theo   Tuy_nhiên , cảnh_sát Paris cho_biết không có đủ bằng_chứng để kết_tội nhóm sĩ_quan này và có_thể họ chỉ vô_tình gây ra vết_thương ở ruột Theo ',\n",
              " 'Ngày 15-2 , Phòng Cảnh_sát hình_sự Công_an tỉnh Trà_Vinh cho_biết đã mời Nguyễn_Văn_Duy ( 30 tuổi ) và Đặng_Quang_Công ( 24 tuổi , cùng ngụ tỉnh Ninh_Bình , tạm_trú tỉnh Trà_Vinh ) đến làm_việc khi hai thanh_niên này đang đi thu tiền góp trên địa_bàn TP Trà_Vinh   Theo điều_tra ban_đầu , Duy khai nhận đang hoạt_động cho vay lãi nặng trên địa_bàn các huyện Cầu_Ngang , Châu_Thành , Duyên_Hải và TP Trà_Vinh   Hằng_ngày Duy chạy xe rải tờ_rơi dọc theo các tuyến đường , khi nào có người vay thì Duy đến nhà và làm thủ_tục cho vay từ 2-10 triệu đồng   Nếu cho vay 2 triệu đồng , Duy chỉ giao cho người vay 1,7 triệu đồng và thu tiền trả_góp 100  Qua kiểm_tra trên người Duy , công_an còn phát_hiện nhiều giấy_tờ , danh_sách liên_quan đến hoạt_động cho vay của Duy   Trước đó ngày 13-2 , Phòng Cảnh_sát hình_sự cũng đã mời làm_việc Ngô_Hồng_Thao ( 26 tuổi , ngụ xã Hùng_Tiến , huyện Kim_Sơn , tỉnh Ninh_Bình , tạm_trú tỉnh Trà_Vinh ) khi đối_tượng này đang thu tiền góp ở phường 5 , TP Trà_Vinh   Tại cơ_quan công_an , Thao thừa_nhận đang hoạt_động cho vay nặng_lãi không cần thế_chấp tài_sản với lãi_suất 20-30 % / tháng , những trường_hợp trả nợ không đúng hẹn Thao tự đặt ra mức phạt \" cắt_cổ \" và đe_doạ , gây áp_lực để con_nợ trả tiền ',\n",
              " 'Ngày 18/7 , thông_tin từ Cơ_quan CSĐT , Công_an TP  Buôn_Ma Thuột , tỉnh Đắk Lắk cho biết , đơn_vị này đang tạm giữ đối_tượng Lương_Văn Doạn , 24 tuổi , ngụ xã Ja_Lơi , huyện Ea Súp , tỉnh Đắk Lắk để làm rõ hành vi giao cấu với người dưới 16 tuổi   Theo thông_tin ban_đầu , vào_khoảng tháng 4/2019 , thông_qua qua mạng xã_hội Facebook_Doạn quen_biết với H  nói với Doạn mình đã hơn 16 tuổi   và một số người bạn đi chơi lễ_hội   về phòng trọ của em_gái ngủ và cả hai đã 2 lần quan hệ tình dục   Đến 15/7 , sau nhiều ngày không thấy con_gái về nhà , gia đình H  tổ_chức tìm_kiếm thì phát hiện con mình đang ở TP  về nhà gia_đình gặng hỏi thì biết được những ngày qua con gái mình ở cùng phòng trọ và quan hệ tình dục nhiều lần với Doạn   Hiện , vụ_việc vẫn đang được cơ_quan_chức_năng tiếp_tục điều_tra làm rõ ',\n",
              " ' Bao_nhiêu năm theo_đuổi , cuối_cùng em cũng nhận_lời làm vợ anh , anh vui_mừng tột_độ , những mong tháng ngày làm vợ_chồng sẽ càng cho anh nhiều cơ_hội yêu_thương và được em công_nhận hơn   Rồi một ngày , lúc cãi nhau em đã nói thật lòng mình \" dù rất muốn nhưng anh chưa đủ tầm để được gọi bằng từ đó \"   Khi đã là vợ_chồng em vẫn vậy , cần gì em chỉ nói \" nói nghe nè \" hay em hú để gây sự chú_ý chứ không_thể gọi anh ơi hay chồng ơi   Không hiểu em muốn gì hay cần gì , em giận_dỗi vẫn chỉ im_lặng và anh biết ngay sau đó , Facebook của em sẽ bóng_gió \" chửi \" anh   Và mọi thứ ngày_càng tệ đi … Em mong_muốn anh đối_xử với người_thân của em thân_mật , vui_vẻ , đối_đãi tử_tế nhưng còn em chỉ đứng sau lưng , đối_diện với mọi người bằng sự cau_có , khó_chịu   Anh chỉ là công_cụ để em thoả_mãn thôi sao ? Anh muốn hôn em mỗi sáng khi đi làm , còn em chỉ muốn anh thể_hiện điều đó ở cổng cơ_quan em để em lấy \" mẽ \" với đồng_nghiệp rồi hững_hờ bỏ anh lại phía sau không nụ_cười đáp lại ! Em muốn anh từ_bỏ mọi thứ để trở_thành hình_mẫu như em mong   Bỏ - hôn_nhân với em như trò_đùa , vui thì em ở , bực thì em buông bỏ mà không nhìn lại mình một_chút ? Anh không hiểu , phụ_nữ đang đòi_hỏi những điều tốt_đẹp nào từ đàn_ông   Nhưng anh - một thằng đàn_ông luôn khao_khát được em công_nhận những nỗ_lực cho gia_đình nhỏ của mình , cho gia_đình lớn hai bên   Quan_trọng cho tình_yêu anh dành cho em ngày thêm nhiều chứ không phải ngày thêm sợ_hãi , mệt_mỏi , đuối như cá thiếu nước ',\n",
              " 'Ngày 14/11 , trả_lời báo_chí bên hành_lang Quốc_hội , Bộ_trưởng Giáo_dục và Đào_tạo Phùng_Xuân_Nhạ cho_hay , Bộ đã có ý_kiến về việc UBND thị_xã Hồng_Lĩnh ( Hà_Tĩnh ) điều giáo_viên làm lễ_tân cho một sự_kiện trên địa_bàn   “ Đây là hành_vi trong quan_hệ dân_sự , chưa đến mức_độ nghiêm_trọng , nhưng chắc_chắn là không phù_hợp , phải nghiêm_túc rút kinh_nghiệm ” , Bộ_trưởng Nhạ nói   Theo ông Nhạ , cần xem địa_phương cử giáo_viên đi tiếp khách thế_nào , nếu \" việc này lành_mạnh , hoàn_toàn trong_sáng thì không vấn_đề gì \"   Theo quy_định , công_chức , viên_chức không được uống rượu trong giờ_hành_chính , với nhà_giáo càng không được ” , ông nói   Bộ_trưởng Nhạ khẳng_định nhà_giáo phải là tấm gương với học_sinh và là \" tấm gương thì không_thể nói trong giờ_hành_chính thì chấp_hành , ngoài giờ thì không \"   Đã là giáo_viên phải chấp_hành hình_ảnh nhà_giáo trong mắt học_trò , phụ_huynh và người_dân   Luật giáo_dục dành một chương về giáo_viên , các thầy_cô phải giữ nguyên_tắc , phẩm_chất của chính mình   \" Khi đã giữ nguyên_tắc mà bị ép_buộc thì trước_hết phải hỏi trách_nhiệm của thầy_cô , sau mới tính đến người ép_buộc   Thầy_cô phải tự xem_xét lại mình , khi thấy không đúng thì phải kiến_nghị , chứ mình thực_hiện là vi_phạm \" , ông Nhạ nói   Về phản_ứng của Bộ Giáo_dục trước vấn_đề nêu trên , Bộ_trưởng Phùng_Xuân_Nhạ cho_hay , cuộc_sống hàng ngày “ không tránh khỏi việc này việc kia ” ảnh_hưởng đến uy_tín của ngành , không đúng tôn_chỉ mục_đích của giáo_dục   Sau liên_hoan , một_số giáo_viên phải đi đến nhà_hàng tiếp đón quan_khách là \" không có vấn_đề gì , sợ nhất đến phục_vụ đại_biểu ăn mà_lại không được ăn \" ',\n",
              " ' Đây được cho là một trong những động_thái cuối_cùng nhằm khép lại thương_vụ chuyển_nhượng cổ_phiếu cho công_ty_cổ_phần Đầu_tư Thế_Giới_Di_Động   Cụ_thể , theo tài_liệu , Trần_Anh trình cổ_đông thông_qua việc miễn_nhiệm chức_danh Chủ_tịch HĐQT nhiệm_kỳ 2017-2022 đối_với ông Trần_Xuân_Kiên , người đã gắn_bó với \" ghế nóng \" này suốt 15 năm qua   Đồng_thời , miễn_nhiệm 7 thành_viên HĐQT hiện_tại gồm : bà Đỗ_Thị_Thu_Hường , ông Okawa_Yoshiteru , ông Noguchi_Atshushi , ông Nghiêm_Xuân_Thắng , bà Đỗ_Thị_Kim_Liên , ông Hoàng_Anh_Tuấn , ông Bùi_Xuân_Hùng   Đáng chú_ý , doanh_nghiệp điện_máy này còn xin bầu ông Trần_Kinh_Doanh – Tổng_giám_đốc kiêm thành_viên HĐQT của Thế_Giới Di_Động đảm_nhiệm chức_vụ Chủ_tịch HĐQT của Trần_Anh nhiệm_kỳ 2017 - 2022   HĐQT công_ty này cũng trình cổ_đông công_ty thông_qua cơ_cấu tổ_chức mới với 5 thành_viên Hội_đồng_quản_trị , trong đó có 2 thành_viên HĐQT độc_lập cho nhiệm_kỳ 2017-2022   Những người mới lại chẳng phải người đâu xa , chính là 5 sếp của công_ty Thế_Giới Di_Động   Trong đó , Trần_Anh cũng dự_kiến bổ_nhiệm ông Võ_Hà_Trung_Tín , Phó Tổng_Giám_đốc của Trần_Anh ( từ đầu tháng 10/2017) , đại_diện pháp_luật nhiều chi_nhánh của Thế_giới Di_động tại TP  Về vấn_đề \" hoà_tan \" Trần_Anh , ông Nguyễn_Đức_Tài , Chủ_tịch HĐQT Thế_giới Di_động từng chia_sẻ trước đó , “ 99,9 % đội_ngũ quản_lý không được giữ lại , nhưng giữ lại 99,9 % đội_ngũ nhân_viên , dù số này cũng bị hao_hụt sau đó vì văn_hoá khác_biệt ”   Ngay sau thông_tin trên , trên thị_trường lập_tức xuất_hiện đăng_ký bán cổ_phiếu của các nhân_sự cũ đã bị Trần_Anh \" dứt tình \"   Cụ_thể , 4 nhân_sự cao_cấp và 1 người liên_quan của Trần_Anh đã đăng_ký bán toàn_bộ số cổ_phiếu sở_hữu lên đến hơn 13,9 triệu cổ_phiếu TAG   Trước đó , vào thời_điểm khi mới xuất_hiện tin_đồn M & A của Thế_Giới Di_Động hồi tháng 8/2017 , hàng_loạt lãnh_đạo cấp cao của Trần_Anh cũng đã đồng_loạt thoái vốn   Bên cạnh vấn_đề nóng về nhân_sự , TAG cũng trình cổ_đông thông_qua việc bổ_sung 18 ngành_nghề kinh_doanh , trong đó có 15 ngành_nghề là thêm mới như quảng_cáo ; sản_xuất linh_kiện điện_tử ; cổng thông_tin ; lắp_đặt hệ_thống điện , hệ_thống xây_dựng ; bán_lẻ máy_vi_tính , thiết_bị_ngoại_vi , phần_mềm và thiết_bị viễn_thông trong các cửa_hàng chuyên_doanh ; bán_lẻ đồ điện gia_dụng , giường tủ , bàn_ghế   \" Cá bé \" kinh_doanh bết_bát Theo báo_cáo tài_chính mới nhất được soát_xét , lỗ luỹ kế 6 tháng ( từ tháng 4/2017 – tháng 9/2017) của Trần_Anh là hơn 11,7 tỷ đồng ( con_số trước soát_xét là 4,8 tỷ đồng )   Lý_giải nguyên_nhân , lãnh_đạo công_ty cho_biết do thông_tin thị_trường liên_quan tới việc mua_bán sáp_nhập Trần_Anh đã làm ảnh_hưởng tới tâm_lý mua hàng của khách_hàng   Để giải_quyết được bài_toán thị_phần và tận_dụng thị_trường phía Bắc , Thế_Giới_Di_Động có_lẽ đã có sẵn những nước cờ để cải_thiện những số_liệu kém vui này   Quy_luật thị_trường Thương_vụ M & A giữa Thế_Giới Di_Động và Trần_Anh xem như đã đi đến hồi kết , khi mới_đây , cục Cạnh_tranh và Bảo_vệ người tiêu_dùng bộ Công_Thương tuyên_bố thương_vụ này không thuộc trường_hợp bị cấm theo quy_định tại Điều 18 , luật Cạnh_tranh   Cụ_thể , cơ_quan này cho_biết đã tiến_hành thẩm_định hồ_sơ thông_báo tập_trung kinh_tế và khảo_sát ý_kiến của các doanh_nghiệp kinh_doanh trên thị_trường về việc Thế_Giới Di_Động dự_kiến mua 100 % cổ_phần từ các cổ_đông hiện_hữu của Trần_Anh   Việc mua lại chuỗi Trần_Anh của Thế_Giới Di_Động đã tác_động tới cấu_trúc thị_trường trên , tuy_nhiên , mức_độ gia_tăng sức_mạnh không đáng_kể do phía Thế_Giới Di_Động hiện là doanh_nghiệp có vị_trí thống_lĩnh trên thị_trường bán_lẻ chuyên_doanh sản_phẩm công_nghệ_thông_tin với hơn 30 % thị_phần   Mặc_dù không vi_phạm luật Cạnh_Tranh , đại_diện Cục cũng cho_biết sẽ giám_sát hoạt_động cạnh_tranh của Thế_Giới Di_Động trên thị_trường bán_lẻ chuyên_doanh sản_phẩm điện_máy gia_dụng và thị_trường bán_lẻ chuyên_doanh sản_phẩm công_nghệ_thông_tin nhằm kịp_thời phát_hiện và xử_lý hành_vi lạm_dụng vị_trí thống_lĩnh thị_trường của Thế_Giới Di_Động ( nếu có ) theo quy_định của pháp_luật cạnh_tranh ',\n",
              " 'Theo đó , thực_hiện ý_kiến chỉ_đạo của Bí_thư Thành_uỷ Đà_Nẵng_Trương_Quang_Nghĩa tại buổi kiểm_tra thực_tế khu du_lịch này , quận Liên_Chiểu kiến_nghị : Về ranh_giới dự_án phía tiếp_giáp với mặt nước_biển , đề_nghị UBND TP quy_hoạch điều_chỉnh theo luật biển và chủ_trương của Ban thường_vụ Thành_uỷ  300 m2 , đề_nghị UBND TP thu_hồi và cho chủ_trương sử_dụng vào mục_đích quy_hoạch mở_rộng nút giao_thông , xây_dựng cơ_sở trưng_bày làng_nghề nước_mắm Nam Ô và các sản_phẩm của ngư_dân   Về tuyến đường bêtông hiện_trạng rộng 4m , dài 1,7 km giáp_ranh giữa dự_án và khu dân_cư đề_nghị UBND TP quy_hoạch mở_rộng thành đường 5,5 m , hình_thành tuyến phố , làm_đẹp cảnh_quan và tạo cơ_hội cho người_dân buôn_bán , làm dịch_vụ … Riêng phần diện_tích trên mỏm Nam Ô , đề_nghị UBND TP phê_duyệt với mục_đích tôn_tạo phục_vụ du_lịch sinh_thái , hạn_chế tối_đa việc chặt phá cây rừng nguyên_sinh , làm thay_đổi hiện_trạng , vì đây là khu rừng được người_dân tự_giác bảo_vệ nguyên_vẹn từ nhiều đời nay   Như Tuổi_Trẻ Online đã thông_tin , nhiều người dân_làng biển Nam_Ô của phường Hoà_Hiệp_Nam , Liên_Chiểu đã tập_trung bên ngoài dự Lancaster Nam_O - Khu du_lịch sinh_thái Nam Ô để phản_ứng việc dựng hàng_rào chắn lối ra biển   Sau đó Bí_thư Thành_uỷ Đà_Nẵng đã kiểm_tra thực_tế và yêu_cầu mở lối xuống biển cho dân   Được biết , dự_án này do Công_ty CP Trung_Thuỷ_Đà_Nẵng làm_chủ_đầu_tư có quy_mô hơn 30ha , đã tiến_hành lập hàng_rào bao quanh dự_án từ tháng 6-2017 , tuy_nhiên hiện mới đang xin giấy_phép xây_dựng ',\n",
              " ' Sau đó TAND huyện Lộc_Ninh ra bản_án và Chi_cục thi_hành án huyện Lộc_Ninh đã có có quyết_định thi_hành án buộc UBND xã Lộc_Hiệp phải trả nợ , nhưng đến nay không hiểu vì lý_do gì UBND xã vẫn không hoàn_trả số tiền 186 triệu đồng còn lại cho công_ty của ông   Thời_gian qua ông Mẫn đã đến nhiều cơ_quan_chức_năng trong tỉnh đề_nghị giải_quyết dứt_điểm nhưng vụ_việc vẫn trôi vào im_lặng   Trước khi thi_công , công_ty được ứng 700 triệu đồng và sau khi thi_công xong vào tháng 6-2014 , công_ty được trả thêm 800 triệu đồng và mãi đến đầu năm 2016 , qua nhiều lần đến \" gõ_cửa \" các cơ_quan_chức_năng trong tỉnh , mới trả tiếp 500 triệu đồng   Biết rằng không có lời nhưng để duy_trì hoạt_động của doanh_nghiệp , nhất_là không nỡ để công_nhân thất_nghiệp nên lúc đó tôi mới nhận công_trình để làm   Cùng ngày , ông Phạm_Anh_Ngọc – chi_cục trưởng Chi_cục Thi_hành án huyện Lộc_Ninh , cho_biết sau khi nhận được bản_án của TAND huyện chuyển sang , đơn_vị đã có quyết_định thi_hành án buộc UBND xã Lộc_Hiệp ( chủ_đầu_tư dự_án ) phải trả số nợ còn lại ( 186 triệu đồng )   Hiện Chi_cục Thi_hành án cũng đã chuyển vụ_việc lên UBND huyện Lộc_Ninh xem_xét , giải_quyết dứt_điểm khoản nợ còn lại cho Công_ty Nhật_Hào   \" Ông_Mẫn cũng đã nhiều lần đến chi_cục yêu_cầu giải_quyết và chi_cục cũng trả_lời rằng đã chuyển vụ_việc lên UBND huyện đề_nghị xem_xét , xử_lý , bởi nguồn ngân_sách bố_trí cho xây_dựng nông_thôn mới do tỉnh và huyện quản_lý và phân_bổ \" – ông Ngọc nói ',\n",
              " '000 cán_bộ , giảng_viên trong cả nước tham_gia công_tác thanh_tra tại kỳ thi THPT quốc_gia năm nay , có cả lực_lượng thanh_tra của bộ và của sở , thanh_tra cơ_động và thanh_tra cắm chốt nhằm đảm_bảo cho kỳ thi diễn ra an_toàn , nghiêm_túc và đúng quy_chế   Cảnh_cáo đối_với các thí_sinh vi_phạm một trong các lỗi : đã bị khiển_trách một lần nhưng trong giờ thi_môn đó vẫn tiếp_tục vi_phạm quy_chế thi ở mức khiển_trách ; trao_đổi bài làm hoặc giấy nháp với thí_sinh khác ; chép bài của thí_sinh khác hoặc để thí_sinh khác chép bài của mình   Đình_chỉ thi đối_với các thí_sinh vi_phạm một trong các lỗi : đã bị cảnh_cáo một lần nhưng trong giờ thi_môn đó vẫn tiếp_tục vi_phạm quy_chế thi ở mức khiển_trách hoặc cảnh_cáo ; mang vật_dụng trái_phép theo quy_định vào phòng thi ; Đưa đề thi ra ngoài phòng thi hoặc nhận bài giải từ ngoài vào phòng thi ; viết , vẽ vào tờ giấy làm bài thi của mình những nội_dung không liên_quan đến bài thi ; có hành_động gây_gổ , đe_doạ cán_bộ có trách_nhiệm trong kỳ thi hay đe_doạ thí_sinh khác   Cho điểm 0 : bài thi được chép từ các tài_liệu mang trái_phép vào phòng thi ; bỏ hai bài làm trở lên đối_với một bài thi hoặc một môn thi thành_phần ; bài thi có chữ_viết của hai người trở lên ; những phần của bài thi_viết trên giấy nháp , giấy không đúng quy_định   Thí_sinh bị đình_chỉ thi bài thi hoặc môn thi thành_phần nào sẽ bị điểm 0 bài thi hoặc môn thi thành_phần đó ; không được tiếp_tục dự thi các bài thi hoặc môn thi thành_phần tiếp_theo ; không được sử_dụng kết_quả thi để xét tốt_nghiệp THPT và đăng_ký xét tuyển vào các trường ĐH , CĐ   Những trường_hợp bị huỷ_bỏ kết_quả thi Thí_sinh có hai bài thi trở lên bị điểm 0 do phạm lỗi quy_định nêu trên ; viết , vẽ vào tờ giấy thi những nội_dung không liên_quan đến bài thi ; để người khác thi thay hoặc làm bài thay cho người khác dưới mọi hình_thức ; sửa_chữa , thêm bớt vào bài làm sau khi đã nộp bài ; dùng bài của người khác để nộp   Huỷ kết_quả thi và lập hồ_sơ gửi cơ_quan có thẩm_quyền xem_xét và xử_lý theo quy_định của pháp_luật đối_với những thí_sinh vi_phạm một trong các lỗi sau đây : giả_mạo hồ_sơ để hưởng chế_độ ưu_tiên , khuyến_khích ; sử_dụng văn_bằng , chứng_chỉ không hợp_pháp ; Để người khác thi thay , làm bài thay dưới mọi hình_thức ; có hành_động gây_rối , phá_hoại kỳ thi ; hành_hung cán_bộ hoặc thí_sinh khác ; sử_dụng giấy chứng_nhận kết_quả thi không hợp_pháp ; Đối_với các hành_vi vi_phạm có dấu_hiệu hình_sự thì các cơ_quan quản_lý giáo_dục lập hồ_sơ gửi cơ_quan có thẩm_quyền xem_xét truy_cứu trách_nhiệm hình_sự theo quy_định ; đối_với các trường_hợp vi_phạm khác , tuỳ theo tính_chất và mức_độ vi_phạm sẽ xử_lý kỷ_luật theo các hình_thức đã quy_định ',\n",
              " ' Sau khi tiếp_cận được với bản_ghi_nhớ nội_bộ tại Bộ_chỉ_huy Các hệ_thống Trên biển của hải_quân Mỹ , phóng_viên Bloomberg_News phát_hiện tàu_sân_bay USS Gerald_R _Ford tối_tân từng gặp sự_cố trong hệ_thống động_cơ khi thực_hiện chuyến thử_nghiệm cuối_cùng trên biển cách đây 4 tháng , Sputnik hôm_qua đưa tin  _Ford bị chết máy không được đề_cập tại các buổi điều_trần trước quốc_hội Mỹ và không nghị_sĩ nào đề_cập đến sự_cố này   Theo bản_ghi_nhớ , nhà_sản_xuất Huntington_Ingalls kết_luận vụ chết máy là do \" sai_sót trong quá_trình chế_tạo \" , không phải lỗi của kíp vận_hành  _Ford buộc phải huỷ nhiều nội_dung thử_nghiệm còn lại và quay về cảng để sửa_chữa   Là tàu_sân_bay được thiết_kế mới đầu_tiên của Mỹ trong 40 năm qua , USS Gerald_R _Ford được trang_bị công_nghệ cùng các hệ_thống vận_hành mới , giúp tàu có_thể tăng số lượt máy_bay xuất_kích và hạ_cánh , giảm khối_lượng công_việc do con_người thực_hiện và tăng khả_năng sống_sót trước những mối đe_doạ ',\n",
              " 'Điểm thú_vị là , chương_trình có sự kết_hợp trực_tiếp trận ra_quân của tuyển Việt_Nam trong mùa_giải Asian_Cup 2019   Tiền_vệ Quang_Hải , một trong 10 gương_mặt trẻ tiêu_biểu của Thủ_đô được vinh_danh cũng tham_gia trong trận_đấu này   Năm vừa_qua , Thu_Hằng là một trong những gương_mặt nghệ_sĩ trẻ Thủ_đô tích_cực trong công_tác học_tập , phấn_đấu và rèn_luyện không ngừng để vươn lên   Năm 2018 , Thu_Hằng đã giành giải Vàng Liên_hoan nghệ_thuật Châu_Á - Thái_Bình_Dương được tổ_chức tại Singapore , đồng_thời là gương_mặt sinh_viên tiêu_biểu của Học_viện âm_nhạc Quốc_Gia Việt_Nam , cô là đại_biểu tham_dự đại_hội Đại_biểu Toàn_Quốc_Hội sinh_viên Việt_Nam lần thứ 10   Nguyễn_Thu_Hằng cũng được ghi_nhận bởi là gương_mặt trẻ nhất trong lịch_sử giành giải Quán quân Sao mai khi cô vừa_mới tròn 19 tuổi   Giải_thưởng này đã nối dài niềm hạnh_phúc của Thu_Hằng sau thành_công của MV Nhà em ở lưng đồi vừa ra_mắt vào ngày 2/1/2019 vừa_qua   Xúc_động trước phần_thưởng cao_quý này , Thu_Hằng chia_sẻ : “ Từ hôm_qua tới giờ , Hằng cứ lâng_lâng sung_sướng , hạnh_phúc không nói nên lời khi vinh_dự được nhận phần_thưởng cao_quý là 1 trong 10 gương_mặt trẻ tiêu_biểu Thủ_đô   Có_lẽ đây là một dấu_ấn quá đẹp đối_với đời sinh_viên , với tuổi_trẻ của Hằng   Hằng thấy mình đã được các thầy_cô , được gia_đình , chị_gái định_hướng rất đúng khi luôn yêu_cầu Hằng tập_trung vào việc học , phấn_đấu hết_mình cho chặng đường dài của cuộc_đời nghệ_sĩ   Hằng xin cám_ơn các thầy_cô , cảm_ơn đoàn trường học_viện Âm_nhạc quốc_gia Việt_Nam đã dành sự ưu_ái cho Hằng , cảm_ơn Thành_đoàn Hà_Nội đã ghi_nhận những nỗ_lực của Hằng   Phần_thưởng là động_lực rất lớn để Hằng có cố_gắng nhiều hơn và đóng_góp sức trẻ của mình nhiều hơn_nữa cho công_tác cộng_đồng , xã_hội ” ',\n",
              " 'Theo nguồn_tin từ báo Dân việt , ngày 2/8 , lãnh_đạo UBND xã Đức_Phong cho biết , Công_an tỉnh Quảng_Ngãi và các đơn_vị chức_năng đang điều_tra làm rõ vụ án bà M  nhưng sau đó lại đưa mẹ vào nhà rồi đi mua thuốc cho mẹ uống   Phát_hiện vụ_việc , hàng_xóm đã báo cơ_quan công_an vào_cuộc điều_tra , làm rõ   Như báo Người Đưa_Tin đã đưa từ trước , tối_ngày 1/8 , Công_an huyện Mộ_Đức cho biết , cơ_quan đang phối_hợp với Công_an tỉnh Quảng_Ngãi để điều_tra , làm rõ nguyên_nhân vụ án_mạng khiến bà M  Khi cơ_quan điều_tra lấy lời khai các đối_tượng liên_quan thì Lộc khai nhận rằng , đã ra_tay sát_hại mẹ ruột chỉ vì bà bị bệnh , chăm_sóc mệt   Gần đây , Lộc thường hay la mắng , bạo_hành mẹ ruột và có biểu_hiện không bình_thường   Vụ_việc đang được Công_an tỉnh Quảng_Ngãi tiếp_tục điều_tra , làm rõ   Mộc_Trà ( tổng_hợp ) Qua những dấu_vết tại hiện_trường , công_an điều_tra nhận_định đây là vụ án_mạng nghiêm_trọng ',\n",
              " 'Ít_nhất 10 tân cử_nhân đã liên_hệ với báo Tuổi_Trẻ phản_ảnh về việc bị Công_ty_cổ_phần giáo_dục và môi_giới lao_động Dragon_Gold ( gọi tắt là Công_ty Dragon_Gold , trụ_sở chính tại 202 Cách_Mạng_Tháng_Tám , phường Bùi_Hữu_Nghĩa , quận Bình_Thuỷ , TP Cần_Thơ ) thu học_phí tìm việc với giá rất cao nhưng môi_giới việc_làm không như cam_kết   \" Khi đến , nhân_viên cam_kết trong 1 tháng kể từ ngày đóng tiền sẽ tìm được công_việc đúng với ngành học , mức lương thấp nhất 4 triệu đồng   Họ còn nói ngành của em hiện có 2 công_ty đang cần tuyển , chắc_chắn em sẽ có việc   lên , nhân_viên công_ty này yêu_cầu đóng thêm 1,8 triệu đồng tiền học_phí và chi_phí xin việc   đi vay_mượn nhiều nơi để đóng , tổng_cộng hai lần đóng là 1,9 triệu đồng   Công_ty Dragon_Gold đã ký một tờ cam_kết với A  ( 29 tuổi , ngụ TP Cần_Thơ ) và nhiều người khác cũng bức_xúc cho_biết do có nhu_cầu việc_làm nên đã tạo thông_tin cá_nhân tìm việc đăng trên mạng   Nhân_viên Công_ty Dragon_Gold đã liên_hệ thông_báo đang có nhiều vị_trí phù_hợp   Khi đến_nơi , nhân_viên tư_vấn hứa với những người trên sẽ có đối_tác ở Cần_Thơ tuyển_dụng với mức lương từ 7-8 triệu đồng   Sau đó , họ được \" học \" từ 1 đến 2 ngày và còn được đưa đến tham_quan một_số nhà_máy trên địa_bàn TP Cần_Thơ   \" Ngay khi vừa tham_quan về , việc_làm chưa có mà nhân_viên công_ty thông_báo phải đóng hết số tiền kinh_phí đào_tạo và môi_giới việc_làm   Cuối_cùng , họ chỉ bố_trí công_việc lương có 2 triệu đồng / tháng , em đành bỏ trắng tiền cọc rút hồ_sơ đi tìm việc khác \" - S  đến nay đã gần 2 tháng nhưng vẫn chưa được công_ty bố_trí việc_làm đúng như chuyên_môn và mức lương cam_kết   Không đại_trà nên không cần giấy_phép ? Sáng 21-12 , trong vai người tìm việc , PV Tuổi_Trẻ đã tới trụ_sở Công_ty Dragon_Gold   Mặc_dù PV nói không có bằng_cấp gì và chỉ có nghề hớt_tóc , nhân_viên công_ty này nói chắc_như_đinh_đóng_cột rằng sẽ mời các giảng_viên của trường ĐH , cao_đẳng trên địa_bàn về dạy một khoá cấp_tốc để làm nhân_viên công_ty tài_chính   Nữ nhân_viên tên Phụng tư_vấn công_ty sẽ thu 10 % học_phí và phí môi_giới tìm việc dựa trên mức lương thử việc   Ông Khoa thừa_nhận công_ty tham_gia tuyển_dụng , đào_tạo và giới_thiệu việc_làm cho 5-7 công_ty đối_tác   Ông Khoa cho_biết những người tố_cáo công_ty ông là \" không đúng sự_thật \" , vì số người này tự_ý bỏ ngang khoá đào_tạo và không chịu nhận việc mà công_ty giới_thiệu   Trong đó có các ngành giáo_dục , hỗ_trợ giáo_dục , môi_giới việc_làm   Mức thu của người có kinh_nghiệm là 10 % trên tổng mức lương thử việc , còn người chưa có kinh_nghiệm từ 1,6-1,9 triệu đồng   Đây là kinh_phí mời các giảng_viên Trường cao_đẳng Cần_Thơ sang đào_tạo và cũng là phí môi_giới tìm việc   Tôi đã mở được 7 khoá đào_tạo , giới_thiệu được việc_làm cho khoảng 70-80 người \" - ông Khoa khẳng_định   Khi PV đề_nghị cung_cấp giấy_phép đào_tạo hoặc môi_giới việc_làm do cơ_quan có thẩm_quyền cấp theo quy_định của pháp_luật thì ông Khoa nói không có và cho_rằng \" không đại_trà \" nên không cần phải xin giấy_phép và cũng chưa đến lúc phải xin ',\n",
              " 'Màn biểu_diễn trên tiêm_kích JAS -39 của phi_công Thuỵ_Điển Tập_đoàn Saab tuần trước công_bố video bay thử tiêm_kích hạng nhẹ JAS -39 Gripen , với những động_tác phức_tạp và nguy_hiểm , Aviationist đưa tin   Phi_công thử_nghiệm André_Brännström đã đẩy chiếc Gripen và bản_thân mình tới giới_hạn cao nhất   Tại độ cao nhỏ và tốc_độ lớn , chỉ một thao_tác sai cũng khiến máy_bay mất điều_khiển và đâm thẳng xuống đất , đòi_hỏi phi_công phải có trình_độ và bản_lĩnh lớn   Một phi_công nặng khoảng 80 kg sẽ phải chịu lực ép tương_đương 720 kg khi ở trạng_thái 9G , đồng_thời máu trong cơ_thể sẽ bị dồn về phía chân , gây tình_trạng thiếu máu não và bất_tỉnh nếu không được trang_bị và huấn_luyện tốt   Nếu duy_trì tình_trạng quá lâu , các mạch_máu trong mắt và não phi_công sẽ bị vỡ và gây xuất_huyết nặng , dẫn tới bất_tỉnh hoặc tử_vong ',\n",
              " ' HCM những ngày qua , nhiều bạn trẻ mặc đồng_phục xanh \" Việt_Nam Tái_Chế \" đã bắt_tay vào công_việc thu_gom của mình tại các hộ gia_đình   Trong vòng chỉ hơn một tuần phát_động , hoạt_động đã thu_hút được hơn 10 hộ gia_đình tham_gia với khoảng 30 thiết_bị thu_hồi đạt tiêu_chuẩn   Chia_sẻ với Tuổi_Trẻ Online , cô Miriam_Lassernig , phát_ngôn_viên của tổ_chức Việt_Nam Tái_Chế , cho_biết hoạt_động thu_gom nhằm tạo sự thuận_tiện cho người_dân có_thể thải bỏ lượng lớn rác_thải điện_tử , đồng_thời nâng_cao ý_thức về tầm quan_trọng của quy_trình tái_chế rác_thải điện_tử chuyên_nghiệp   Với mục_tiêu bảo_vệ môi_trường , các thành_viên của Việt_Nam Tái_Chế hiểu rằng rác_thải điện_tử là một mối đe_doạ cho môi_trường và con_người   Sau khi được thu_gom từ các hộ gia_đình , các sản_phẩm điện_tử sẽ được xử_lý theo một quy_trình chuyên_nghiệp và thân_thiện với môi_trường , nhằm đảm_bảo tối_đa hoá_lượng tài_nguyên thiên_nhiên thu_hồi được sau tái_chế   Nguyễn_Đình_Trọng , một tình_nguyện_viên của Việt_Nam Tái_Chế , cho_biết bạn thấy được những hoạt_động thiết_thực mà tổ_chức mang lại cho môi_trường và cuộc_sống con_người   Đình_Trọng nói : \" Tham_gia chiến_dịch thu_gom rác_thải điện_tử tận nhà còn là cơ_hội để tôi có_thể lan_toả thông_điệp xanh một_cách rộng_rãi hơn , cũng như biết thêm về tầm quan_trọng của các hoạt_động tái_chế chuyên_nghiệp , giúp bảo_vệ môi_trường thiên_nhiên \"   Đình_Trọng cũng cho_biết trong quá_trình thu_gom rác tại các hộ gia_đình và tiếp_xúc với họ , nhiều gia_đình có kiến_thức rất tốt về các loại rác_thải và mong_muốn những hoạt_động thu_gom và tái_chế sẽ được tổ_chức và nhân rộng hơn cho cộng_đồng   Sau khi tôi thu_gom TV xong , gia_đình họ đã mời tôi ở lại dùng cơm trưa   Trong bữa trưa đó , họ đã hỏi tôi nhiều câu_hỏi về rác_thải điện_tử cũng như Việt_Nam Tái_Chế   Họ nói rằng người_thân của họ cũng có nhiều thiết_bị điện_tử không còn sử_dụng , và còn khuyên người_thân liên_lạc với chúng_tôi \" ',\n",
              " ' Theo ông Putin , Tổng_thống Poroshenko rất giỏi trong việc tạo ra khủng_hoảng và châm ngòi cho các hành_động khiêu_khích rồi ngay_lập_tức đổ lỗi cho Nga   “ Đây đơn_giản là một chiêu_trò , nhưng tôi không muốn trở_thành một phần trong những chiêu_trò đó , và tôi sẽ không tham_gia ” , nhà_lãnh_đạo Nga nhấn_mạnh   Ông Poroshenko được cho là đã phải liên_lạc với Thủ_tướng Đức Angela_Merkel và nhờ bà chuyển lời tới ông Putin về yêu_cầu thả người và tàu_thuyền của Kiev   Phát_biểu tại Diễn_đàn kêu_gọi đầu_tư Nga tại Moscow hôm 18/11 , Tổng_thống Putin cho rằng mục_đích của Tổng_thống Poroshenko khi để xảy ra vụ đụng_độ trên biển với Nga là nhằm lôi_kéo tỷ_lệ ủng_hộ của cử_tri trước thềm cuộc bầu_cử tổng_thống vào tháng 3/2019  Cơ_quan An_ninh Liên_bang Nga ( FSB ) cho_biết các tàu tuần_tra biên_giới của nước này đã bắt_giữ 3 tàu hải_quân Ukraine tại Biển_Đen gần bán_đảo Crimea vào hôm 25/11 và đã sử_dụng vũ_khí để buộc các tàu này dừng lại   Tuyên_bố của FSB có đoạn : \" Các tàu của Hải_quân Ukraine gồm tàu Berdyansk , tàu Nikopol và tàu Yany_Kapu đã xâm_phạm biên_giới Nga , tìm cách thực_hiện các hành_động trái_phép khác bên trong vùng_biển của Nga vào_khoảng 19h ngày 25/11 theo giờ_địa_phương   Trong khi đó , hôm 5/12 Tổng_thống Poroshenko đã gặp gia_đình các thuỷ_thủ bị Nga bắt_giữ và cam_kết sẽ làm tất_cả mọi cách trong quyền_hạn của mình để đưa họ về Ukraine   Cả nước Ukraine đều tự_hào về những người thân_yêu của các bạn ” , ông Poroshenko nói với người_thân của các thuỷ_thủ ',\n",
              " 'Ban thẩm_phán liên_bang gồm ba người sẽ quyết_định có nên dỡ bỏ hoặc giữ sắc_lệnh cấm nhập_cảnh của Donald_Trump , trong đó cấm người từ 7 quốc_gia Hồi_giáo lớn nhập_cảnh Mỹ trong 90 ngày và đình_chỉ nhận người tị_nạn trong 120 ngày   Toà phúc_thẩm Khu_vực 9 vốn có tiếng là nghiêng về quan_điểm tự_do , tuy_nhiên điều này có xu_hướng mờ_nhạt dần trong những năm gần đây , khi các thẩm_phán do tổng_thống Jimmy_Carter bổ_nhiệm không còn tại vị , Arthur_Hellman , giáo_sư luật tại Đại_học Pittsburgh nhận_xét   \" Ban thẩm_phán lần này là một ban điển_hình tại toà phúc_thẩm Khu_vực 9 khi những người được bổ_nhiệm bởi tổng_thống đảng Dân_chủ nhiều hơn đảng Cộng_hoà , Carl_Tobias , giáo_sư luật tại Đại_học Richmond , nói   Ảnh : asucollegeoflaw Canby , 85 tuổi , là một trong nhiều thẩm_phán do tổng_thống đảng Dân_chủ Jimmy_Carter bổ_nhiệm đã giúp cho toà phúc_thẩm Khu_vực 9 có tiếng là theo quan_điểm tự_do   Vào đầu sự_nghiệp , Canby từng làm phụ_tá cho thẩm_phán toà_án tối_cao Charles_Whittaker và là trợ_lý đặc_biệt cho thượng_nghị_sĩ Walter_Mondale , người sau_này trở_thành phó tổng_thống của ông Carter   Các vụ kiện về nhập_cư đã luôn là vấn_đề trung_tâm tại toà Khu_vực 9 trong quãng thời_gian ông công_tác tại đây \" , Hellman nói   \" Điều đó khiến cho ông ấy có cái nhìn mà rất ít người khác có \" , Hellman nhận_xét thêm ',\n",
              " ' Theo ông Hải , dải phân cách sẽ cao khoảng 60 cm , là loại hàng rào nhẹ , di động , dự kiến được đặt từ bến chờ xe buýt đến các điểm giao cắt   \" Việc lắp dải phân cách để các phương tiện khác không lấn làn xe buýt nhanh , lập lại trật tự và phục vụ tuyến buýt nhanh hoạt động hiệu quả nhất \" , ông Hải cho biết   Hiện_buýt nhanh được đánh_giá chưa phát_huy hiệu_quả do thường_xuyên bị các phương_tiện khác lấn làn   Lãnh_đạo đội Cảnh_sát giao_thông số 3 và số 7 cho biết , trong thời gian đầu lực_lượng chức_năng chỉ nhắc_nhở mà chưa xử_phạt người lấn làn xe_buýt   Sau_này , các phương tiện cố tình không chấp hành sẽ bị xử phạt ',\n",
              " 'Luật_sư Australia gốc Việt_Ho_Le_Dinh đang ngồi uống cà_phê với một người bạn sau khu mua_sắm Bankstown_City_Plaza , trung_tâm thành_phố Sydney , Australia thì bị bắn liên_tiếp nhiều phát đạn vào người chiều_qua   Cảnh_sát gọi đây là \" vụ tấn_công có chủ_đích \" , ABC đưa tin   Cảnh_sát nhận_dạng kẻ tình_nghi \" có nước_da màu olive và dáng người đậm \"   Ông Antonio_Diaz , một người_dân ở khu Bankstown , kể rằng sau khi nghe thấy tiếng súng , ông trông thấy một người giống với mô_tả của cảnh_sát chạy trên con phố gần hiện_trường rồi lên xe ôtô   Hiện cảnh_sát vẫn đang truy_lùng hung_thủ và chưa biết động_cơ của vụ nổ_súng   Ông Van_Nguyen , một người bạn thân của nạn_nhân , cho_biết ông vô_cùng bàng_hoàng khi nghe tin   \" Ông ấy là một người tốt , giúp_đỡ rất nhiều người   Ông ấy không có cha_mẹ hoặc anh_chị_em ở đây \" , Van_Nguyen nói , cho_biết luật_sư Ho nổi_tiếng , chuyên xử_lý các vụ án hình_sự   Chắc_chắn chúng_tôi sẽ điều_tra hướng vào nghề_nghiệp của nạn_nhân \" , Scott_Cook , trưởng đội án_mạng ở New_South_Wales , phát_biểu tại họp_báo   Một nhân_chứng có_mặt tại cửa_hàng bánh_mì gần hiện_trường nhìn thấy luật_sư Ho nằm trên một vũng máu ngay sau các phát súng và hàng chục người đang ngồi uống cà_phê la_hét , chạy tháo_thân ',\n",
              " ' Ảnh : VGP Các hiện_vật được đấu_giá gồm một quả bóng , một áo đấu có đầy_đủ chữ_ký của các thành_viên đội_tuyển vừa giành chức vô_địch AFF cup hồi tháng 12/2018  Giá khởi_điểm của quả bóng và áo thi_đấu này là 15 tỷ đồng ; thời_gian đấu_giá vào lúc 18h00 ngày 13/1 tại chương_trình \" Sức_mạnh nhân_đạo \" tổ_chức tại Cung_Văn_hoá Hữu_nghị Hà_Nội   Trung_ương Hội_chữ_thập_đỏ Việt_Nam cho biết , toàn_bộ số tiền đấu_giá sẽ dành để hỗ_trợ người nghèo , nạn_nhân chất_độc_da_cam dịp Tết_Nguyên_đán Kỷ_Hợi 2019   Tháng 2/2018 , sau thành_tích Á quân tại Vòng chung_kết U23 châu_Á , ban huấn_luyện và các tuyển_thủ đã tặng Thủ_tướng một áo đấu và một quả bóng có chữ_ký toàn đội   Sau đó , Thủ_tướng Nguyễn_Xuân_Phúc đã trao lại cho Bộ Lao_động Thương_binh Xã_hội đấu_giá ủng_hộ người nghèo ',\n",
              " 'Theo báo Mainichi , trong phiên xử hôm_nay ( 18-6 ) tại toà_án quận Chiba , các công_tố_viên cáo_buộc ông Yasumasa_Shibuya , 47 tuổi , nguyên chủ_tịch hội phụ_huynh tại trường tiểu_học của bé Nhật_Linh , nạn_nhân bị sát_hại , đã phạm_tội ác \" máu lạnh , tàn_bạo và ghê_tởm \" khi bắt_cóc , tấn_công tình_dục và bóp_cổ giết chết em bé   Theo cáo_trạng , ông Shibuya đã bắt_cóc bé Nhật_Linh lên xe_hơi của ông này vào sáng 24-3-2017 tại thành_phố Matsudo , sau đó tấn_công tình_dục và sát_hại em ngay trong xe rồi quẳng thi_thể em bé xuống một con mương cạn ở thành_phố Abiko , cũng thuộc tỉnh Chiba , để phi_tang   Theo công_tố_viên , với hành_vi dã_man , nghi_phạm Shibuya đáng bị trừng_trị với hình_phạt nặng_nề nhất vì khi vào thời_điểm xảy ra vụ_việc , ông này đang là chủ_tịch hội phụ_huynh của trường   Cho tới lúc này ông Shibuya vẫn tiếp_tục bác_bỏ việc có liên_quan tới cái chết của bé gái Nhật_Linh và cho_rằng mọi cáo_buộc của các công_tố_viên là bịa_đặt , thêu_dệt   Các công_tố_viên cho_biết các xét_nghiệm mẫu máu và nước_bọt khớp với ADN của nạn_nhân đã được tìm thấy trong xe_hơi của ông Shibuya , đồng_thời mẫu ADN của nghi_phạm này cũng đã được tìm thấy trên thi_thể nạn_nhân   Tuy_nhiên các luật_sư của bị_cáo lại cho_rằng những mấu ADN này rất có_thể đã bị các nhà điều_tra cố_tình để lại ',\n",
              " 'Trong tư_pháp , các cụm_từ “ quản_thúc tại_gia ” , “ giam tại nhà ” , “ giám_sát điện_tử ” được hiểu là biện_pháp giam_giữ phạm_nhân tại nhà thay_vì trong nhà_tù   Khi đó , tại phiên thảo_luận tổ về dự_án luật Thi_hành án hình_sự sửa_đổi , Đại_biểu Quốc_hội Hồ_Đức_Phớc – Tổng Kiểm_toán Nhà_nước đề_nghị nghiên_cứu hình_thức “ tù tại_gia ” để giảm bớt áp_lực quá_tải trại_giam và áp_dụng đối_với những trường_hợp phạm_tội nhẹ , ít có khả_năng gây nguy_hiểm cho xã_hội   Một luồng ý_kiến cho_rằng , hình_thức “ tù tại_gia ” là 1 trong những ý_tưởng rất tiến_bộ , thể_hiện việc tôn_trọng quyền con_người , đồng_thời giảm bớt gánh_nặng cho xã_hội   Để áp_dụng được đề_xuất này cần có lộ_trình và cần nghiên_cứu hết_sức kỹ_lưỡng , đặc_biệt phải tham_khảo tại một_số quốc_gia đã triển_khai   Ngược_lại , 1 số chuyên_gia pháp_lý lại cho rằng , việc quy_định chấp_hành hình_phạt tù tại nhà trong thời_điểm hiện_tại là không cần_thiết   Hạn_chế rất lớn của hình_thức “ tù tại_gia ” đó là tính cải_tạo để phạm_nhân trở_thành một con_người có_ích hơn cho xã_hội sẽ không hiệu_quả , bởi_vì bản_thân họ sẽ không thấy được tính nghiêm_minh , răn_đe khắc_nghiệt của pháp_luật   Hình_thức tù tại gia không có gì khác_biệt quá lớn so với hình_thức cải_tạo không giam_giữ hoặc hưởng án_treo   Để độc_giả có góc nhìn rõ hơn về vấn_đề đang gây tranh_cãi , báo Người đưa tin tổ_chức buổi giao_lưu trực_tuyến : \" Tù tại gia – Liệu có khả_thi ? ” với sự tham_gia của các khách mời : Trân_trọng kính mời độc_giả quan_tâm gửi câu_hỏi cho các diễn giả đến địa_chỉ email : toasoan@nguoiduatin  Báo Người đưa tin bắt_đầu tiếp_nhận các câu_hỏi của độc_giả từ hôm_nay cho đến khi buổi giao_lưu trực_tuyến kết_thúc vào 17h ngày_ngày 21/11/2018 ']"
            ]
          },
          "metadata": {
            "tags": []
          },
          "execution_count": 188
        }
      ]
    },
    {
      "cell_type": "code",
      "metadata": {
        "id": "68UmTt3sDxbx"
      },
      "source": [
        "text = 'Cảnh_sát Canada vừa công_bố nguyên_nhân cái chết của vợ_chồng tỉ_phú Barry_Sherman và bà Honey , song kết_luận sơ_bộ của vụ_việc chỉ góp thêm bí_ẩn cho vụ_việc chấn_động này . Nhà sáng_lập hãng dược Apotex , ông Barry_Sherman , 75 tuổi , và vợ , bà Honey_Sherman , 70 tuổi , được tìm thấy đã chết tại nhà_riêng ở North_York hôm 15-12 . Cảnh_sát Toronto đánh_giá vụ_việc là \" đáng ngờ \" nên đã yêu_cầu lực_lượng điều_tra án_mạng vào_cuộc , theo thông_tin từ Đài CBC_News ( Canada ) ngày 18-12 . Trong thông_cáo phát đi hôm 17-12 ( giờ_địa_phương ) , cảnh_sát Toronto tuyên_bố cả hai nạn_nhân đều bị \" ngạt thở do dây buộc \" , nghĩa_là bị xiết cổ , cho đến chết . Tuy_nhiên , điều khó hiểu là các điều_tra_viên tuyên_bố họ sẽ không tìm_kiếm thêm nghi_can nào khác trong vụ_việc , theo Sky_News . Một nguồn_tin cảnh_sát trước đó cho CBC News biết một người ngoài gia_đình Sherman đã phát_hiện ra thi_thể vợ_chồng tỉ_phú , song cảnh_sát không tiết_lộ gì nhiều về quá_trình điều_tra . Tờ The_Globe and Mail dẫn một nguồn thạo tin cho biết người phát_hiện thi_thể là một nhân_viên môi_giới địa_ốc , vốn đang thu_xếp bán ngôi nhà của ông_bà Sherman . Báo Globe and Mail khẳng_định không có dấu_hiệu ngôi nhà đã bị xâm_nhập và không có lời nhắn hay thư tuyệt_mệnh gì để lại hiện_trường . Bất_chấp sự \" kín_tiếng \" của cảnh_sát , nhiều hãng tin đã dẫn chính nguồn_tin từ cảnh_sát cho_hay vụ_việc đang được điều_tra theo hướng \" giết người rồi tự_tử \" , tức một trong hai người đã đoạt mạng người kia trước khi tự kết_liễu bản_thân . Tuy_nhiên , trong thông_cáo phát đi ngày 16-12 , gia_đình Sherman khẳng_định \" cha_mẹ chúng_tôi đã sống rất_đỗi nhiệt_thành và luôn hướng về gia_đình và cộng_đồng , điều này hoàn_toàn trái_ngược với các tin_đồn đáng tiếc trên mạng xã_hội xoay quanh cái chết của họ \" . Gia_đình Sherman cũng chỉ_trích các nguồn_tin cảnh_sát là \" vô_trách_nhiệm \" khi thông_tin không đúng cho truyền_thông . \" ( Giả_thuyết đây là vụ giết người rồi tự_tử ) là thứ mà không ai trong gia_đình , bạn_bè hay đồng_nghiệp ( của cha_mẹ chúng_tôi ) tin là thật \" - thông_cáo viết . Gia_đình nạn_nhân vì_thế yêu_cầu cảnh_sát tiến_hành một cuộc điều_tra hình_sự \" toàn_diện , cật_lực và khách_quan \" về cái chết của cha_mẹ họ . Điều_tra_viên phụ_trách án_mạng , ông David_Hopkinson , chia_sẻ với đài Sky_News rằng \" vụ án có nhiều điểm đáng ngờ và chúng_tôi đang xử_lý vụ_việc theo hướng đó \" . Theo báo The_Star ( Canada ) , ông Sherman là một trong những người giàu nhất ở Canada . Vợ_chồng tỉ_phú Sherman đã quyên_góp từ_thiện hàng triệu USD cho nhiều tổ_chức thiện_nguyện . Chính bộ_phận công_tác xã_hội của Công_ty Apotex cũng đã vận_chuyển các đợt thuốc_men hỗ_trợ những vùng khủng_hoảng trị_giá nhiều triệu USD . Vợ_chồng tỉ phủ Canada_Barry_Sherman'"
      ],
      "execution_count": 189,
      "outputs": []
    },
    {
      "cell_type": "code",
      "metadata": {
        "id": "ZKlqb-OcMLxQ"
      },
      "source": [
        "sentence_score_list, sentence_list = score_article(text, 0)\n",
        "\n",
        "#summary = generate_summary(sentence_score_array, sentence_list)"
      ],
      "execution_count": 200,
      "outputs": []
    },
    {
      "cell_type": "code",
      "metadata": {
        "id": "T94wu-A-Mdx-",
        "outputId": "edfb9660-a639-4e21-8cff-38472a56f863",
        "colab": {
          "base_uri": "https://localhost:8080/"
        }
      },
      "source": [
        "print(sentence_score_list)"
      ],
      "execution_count": 201,
      "outputs": [
        {
          "output_type": "stream",
          "text": [
            "[2.1562970129699295, 1.4325857241515272, 1.60128963968078, 1.4539907682641138, 1.048115301643692, 2.502761832981843, 1.9905970245411577, 1.2587576548035004, 2.5290491836424933, 2.6702851689142264, 1.34650480703621, 1.530755494516098, 1.4023946982185336, 1.4503766362112245, 1.331042482816362, 1.2236336130966687, 0.9838743725182086, 0.3037046932576929]\n"
          ],
          "name": "stdout"
        }
      ]
    },
    {
      "cell_type": "code",
      "metadata": {
        "id": "4bLOO8TTMiIu",
        "outputId": "52fe766d-6f44-450a-fac1-c55ebafb9433",
        "colab": {
          "base_uri": "https://localhost:8080/"
        }
      },
      "source": [
        "sentence_score_array = np.asarray(sentence_score_list)\n",
        "np.mean(sentence_score_array)"
      ],
      "execution_count": 202,
      "outputs": [
        {
          "output_type": "execute_result",
          "data": {
            "text/plain": [
              "1.567556450514681"
            ]
          },
          "metadata": {
            "tags": []
          },
          "execution_count": 202
        }
      ]
    },
    {
      "cell_type": "code",
      "metadata": {
        "id": "s1VKhk1eNIBX",
        "outputId": "4d17e18d-229a-4c2e-a0d1-d77f16ce2b1d",
        "colab": {
          "base_uri": "https://localhost:8080/",
          "height": 171
        }
      },
      "source": [
        "generate_summary(sentence_score_array, sentence_list)"
      ],
      "execution_count": 203,
      "outputs": [
        {
          "output_type": "execute_result",
          "data": {
            "application/vnd.google.colaboratory.intrinsic+json": {
              "type": "string"
            },
            "text/plain": [
              "'Cảnh_sát Canada vừa công_bố nguyên_nhân cái chết của vợ_chồng tỉ_phú Barry_Sherman và bà Honey , song kết_luận sơ_bộ của vụ_việc chỉ góp thêm bí_ẩn cho vụ_việc chấn_động này   Một nguồn_tin cảnh_sát trước đó cho CBC News biết một người ngoài gia_đình Sherman đã phát_hiện ra thi_thể vợ_chồng tỉ_phú , song cảnh_sát không tiết_lộ gì nhiều về quá_trình điều_tra   Tờ The_Globe and Mail dẫn một nguồn thạo tin cho biết người phát_hiện thi_thể là một nhân_viên môi_giới địa_ốc , vốn đang thu_xếp bán ngôi nhà của ông_bà Sherman   Bất_chấp sự \" kín_tiếng \" của cảnh_sát , nhiều hãng tin đã dẫn chính nguồn_tin từ cảnh_sát cho_hay vụ_việc đang được điều_tra theo hướng \" giết người rồi tự_tử \" , tức một trong hai người đã đoạt mạng người kia trước khi tự kết_liễu bản_thân   Tuy_nhiên , trong thông_cáo phát đi ngày 16-12 , gia_đình Sherman khẳng_định \" cha_mẹ chúng_tôi đã sống rất_đỗi nhiệt_thành và luôn hướng về gia_đình và cộng_đồng , điều này hoàn_toàn trái_ngược với các tin_đồn đáng tiếc trên mạng xã_hội xoay quanh cái chết của họ \" '"
            ]
          },
          "metadata": {
            "tags": []
          },
          "execution_count": 203
        }
      ]
    },
    {
      "cell_type": "code",
      "metadata": {
        "id": "U45GC5ZSNiRk"
      },
      "source": [
        ""
      ],
      "execution_count": null,
      "outputs": []
    }
  ]
}