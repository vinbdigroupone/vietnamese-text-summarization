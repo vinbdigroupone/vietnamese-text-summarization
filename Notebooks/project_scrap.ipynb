{
  "nbformat": 4,
  "nbformat_minor": 0,
  "metadata": {
    "colab": {
      "name": "project-scrap.ipynb",
      "provenance": [],
      "collapsed_sections": []
    },
    "kernelspec": {
      "name": "python3",
      "display_name": "Python 3"
    }
  },
  "cells": [
    {
      "cell_type": "code",
      "metadata": {
        "id": "dOmArrAVU2rX"
      },
      "source": [
        "import os\n",
        "import numpy as np\n",
        "import pandas as pd\n",
        "import matplotlib.pyplot as plt\n",
        "from sklearn.feature_extraction.text import TfidfVectorizer"
      ],
      "execution_count": 2,
      "outputs": []
    },
    {
      "cell_type": "code",
      "metadata": {
        "id": "s-4nq3PsdKmu",
        "outputId": "ff6f0cbb-e965-45a6-c605-5b57bb24c5cb",
        "colab": {
          "base_uri": "https://localhost:8080/"
        }
      },
      "source": [
        "#!git clone 'https://github.com/ThanhChinhBK/vietnews'"
      ],
      "execution_count": 2,
      "outputs": [
        {
          "output_type": "stream",
          "text": [
            "Cloning into 'vietnews'...\n",
            "remote: Enumerating objects: 143827, done.\u001b[K\n",
            "remote: Counting objects: 100% (143827/143827), done.\u001b[K\n",
            "remote: Compressing objects: 100% (143815/143815), done.\u001b[K\n",
            "remote: Total 143827 (delta 11), reused 143827 (delta 11), pack-reused 0\u001b[K\n",
            "Receiving objects: 100% (143827/143827), 194.68 MiB | 17.15 MiB/s, done.\n",
            "Resolving deltas: 100% (11/11), done.\n",
            "Checking out files: 100% (150704/150704), done.\n"
          ],
          "name": "stdout"
        }
      ]
    },
    {
      "cell_type": "code",
      "metadata": {
        "id": "S7DaETawc8kO"
      },
      "source": [
        "article_list = []\n",
        "\n",
        "for file in os.listdir('/content/vietnews/data/train_tokenized'):\n",
        "  #print(file)\n",
        "  with open('/content/vietnews/data/train_tokenized/' + file, 'r') as f:\n",
        "    article = f.read().splitlines()\n",
        "    article_list.append(article[4:-1])   # leave out titles, abstracts, image subtitles\n",
        "    f.close()"
      ],
      "execution_count": 11,
      "outputs": []
    },
    {
      "cell_type": "code",
      "metadata": {
        "id": "QieOKTCCnzeW",
        "outputId": "56533e20-9340-4e5f-f45b-c6edd568ced2",
        "colab": {
          "base_uri": "https://localhost:8080/"
        }
      },
      "source": [
        "article_list[2]"
      ],
      "execution_count": 4,
      "outputs": [
        {
          "output_type": "execute_result",
          "data": {
            "text/plain": [
              "['Lãnh_đạo Triều_Tiên_Kim_Jong-un ( trái ) và Tổng_thống Mỹ Donald_Trump trò_chuyện riêng tại hội_nghị thượng_đỉnh lần hai ở Hà_Nội hôm 28/2 .',\n",
              " '\" Chúng_ta đã vượt qua đống tro tàn hậu_chiến và Cuộc Hành_quân Khổ_ải nhưng những thách_thức mà chúng_ta đang phải đối_mặt trong 10 năm trở_lại đây thực_tế là những khó_khăn nghiêm_trọng nhất trong lịch_sử ( nước Triều_Tiên ) cộng_hoà \" , hãng tin Hàn_Quốc_Yonhap dẫn báo Rodong_Sinmun của đảng cầm_quyền Lao_động Triều_Tiên ngày 21/3 đưa tin .',\n",
              " '\" Cuộc Hành_quân Khổ_ải \" ám_chỉ giai_đoạn những năm 1990 của thế_kỷ trước khi Triều_Tiên vật_lộn với nạn đói và nhiều người đã vượt_biên để thoát khỏi cảnh đói_khát .',\n",
              " '\" Chúng_ta đã chứng_minh rằng đến cuối_cùng chúng_ta có_thể tự mở ra con_đường rạng_rỡ phía trước dù đối_mặt với bất_cứ thách_thức nào \" , tờ_báo này viết .',\n",
              " '\" Tự_lực là một việc khó_khăn nhưng nó giống như một liều thuốc giúp tăng_cường sức_mạnh quốc_gia \" .',\n",
              " 'Tờ_báo này cho_rằng việc phụ_thuộc vào sự giúp_đỡ từ bên ngoài giống như \" thuốc_độc \" , khiến con_người u_mê và làm suy_giảm sức_mạnh dân_tộc .',\n",
              " 'Hội_nghị thượng_đỉnh Mỹ - Triều tại Hà_Nội hồi cuối tháng trước kết_thúc mà không đạt được thoả_thuận nào .',\n",
              " 'Tổng_thống Trump cho_rằng nguyên_nhân bất_đồng là do Bình_Nhưỡng yêu_cầu gỡ bỏ toàn_bộ lệnh trừng_phạt .',\n",
              " 'Phía Triều_Tiên phủ_nhận và tuyên_bố lãnh_đạo Kim_Jong-un chỉ muốn gỡ bỏ 5 trong tổng_số 11 lệnh trừng_phạt kinh_tế để đổi lấy việc phá_huỷ tổ_hợp hạt_nhân chính Yongbyon .',\n",
              " 'Tuần trước , thứ_trưởng ngoại_giao Triều_Tiên_Choe_Son - hui đe_doạ chấm_dứt đàm_phán hạt_nhân với Mỹ và nói Bình_Nhưỡng sẽ không nhượng_bộ trước những yêu_cầu \" xã_hội_đen \" của Washington .',\n",
              " 'Nữ quan_chức ngoại_giao này cũng cho_biết lãnh_đạo Kim_Jong-un sẽ sớm quyết_định có tiếp_tục đối_thoại với Mỹ hay không .',\n",
              " 'Trong khi đó , hãng tin Yonhap hôm 6/3 đưa tin cơ_quan tình_báo quốc_gia Hàn_Quốc phát_hiện dấu_hiệu Bình_Nhưỡng khôi_phục bãi phóng thử tên_lửa Tongchang - ri , vốn được cho là đã bị phá_bỏ hồi năm_ngoái sau hội_nghị lần đầu tại Singapore .',\n",
              " 'An_Hồng',\n",
              " '',\n",
              " '']"
            ]
          },
          "metadata": {
            "tags": []
          },
          "execution_count": 4
        }
      ]
    },
    {
      "cell_type": "code",
      "metadata": {
        "id": "vAfps4YRuEJH"
      },
      "source": [
        "for i in range(len(article_list)):\n",
        "  article_list[i] = list(filter(None, article_list[i]))\n",
        "  article_list[i] = ' '.join(article_list[i])\n",
        "  #article_list[i] = [x.replace('_', ' ') for x in article_list[i]]\n",
        "  article_list[i] = article_list[i].replace('_', ' ')"
      ],
      "execution_count": 12,
      "outputs": []
    },
    {
      "cell_type": "code",
      "metadata": {
        "id": "zJNxTUJ5vusb",
        "outputId": "944a25ba-b07f-4aba-e416-9090c15a722c",
        "colab": {
          "base_uri": "https://localhost:8080/",
          "height": 103
        }
      },
      "source": [
        "article_list[2]"
      ],
      "execution_count": 13,
      "outputs": [
        {
          "output_type": "execute_result",
          "data": {
            "application/vnd.google.colaboratory.intrinsic+json": {
              "type": "string"
            },
            "text/plain": [
              "'Lãnh đạo Triều Tiên Kim Jong-un ( trái ) và Tổng thống Mỹ Donald Trump trò chuyện riêng tại hội nghị thượng đỉnh lần hai ở Hà Nội hôm 28/2 . \" Chúng ta đã vượt qua đống tro tàn hậu chiến và Cuộc Hành quân Khổ ải nhưng những thách thức mà chúng ta đang phải đối mặt trong 10 năm trở lại đây thực tế là những khó khăn nghiêm trọng nhất trong lịch sử ( nước Triều Tiên ) cộng hoà \" , hãng tin Hàn Quốc Yonhap dẫn báo Rodong Sinmun của đảng cầm quyền Lao động Triều Tiên ngày 21/3 đưa tin . \" Cuộc Hành quân Khổ ải \" ám chỉ giai đoạn những năm 1990 của thế kỷ trước khi Triều Tiên vật lộn với nạn đói và nhiều người đã vượt biên để thoát khỏi cảnh đói khát . \" Chúng ta đã chứng minh rằng đến cuối cùng chúng ta có thể tự mở ra con đường rạng rỡ phía trước dù đối mặt với bất cứ thách thức nào \" , tờ báo này viết . \" Tự lực là một việc khó khăn nhưng nó giống như một liều thuốc giúp tăng cường sức mạnh quốc gia \" . Tờ báo này cho rằng việc phụ thuộc vào sự giúp đỡ từ bên ngoài giống như \" thuốc độc \" , khiến con người u mê và làm suy giảm sức mạnh dân tộc . Hội nghị thượng đỉnh Mỹ - Triều tại Hà Nội hồi cuối tháng trước kết thúc mà không đạt được thoả thuận nào . Tổng thống Trump cho rằng nguyên nhân bất đồng là do Bình Nhưỡng yêu cầu gỡ bỏ toàn bộ lệnh trừng phạt . Phía Triều Tiên phủ nhận và tuyên bố lãnh đạo Kim Jong-un chỉ muốn gỡ bỏ 5 trong tổng số 11 lệnh trừng phạt kinh tế để đổi lấy việc phá huỷ tổ hợp hạt nhân chính Yongbyon . Tuần trước , thứ trưởng ngoại giao Triều Tiên Choe Son - hui đe doạ chấm dứt đàm phán hạt nhân với Mỹ và nói Bình Nhưỡng sẽ không nhượng bộ trước những yêu cầu \" xã hội đen \" của Washington . Nữ quan chức ngoại giao này cũng cho biết lãnh đạo Kim Jong-un sẽ sớm quyết định có tiếp tục đối thoại với Mỹ hay không . Trong khi đó , hãng tin Yonhap hôm 6/3 đưa tin cơ quan tình báo quốc gia Hàn Quốc phát hiện dấu hiệu Bình Nhưỡng khôi phục bãi phóng thử tên lửa Tongchang - ri , vốn được cho là đã bị phá bỏ hồi năm ngoái sau hội nghị lần đầu tại Singapore . An Hồng'"
            ]
          },
          "metadata": {
            "tags": []
          },
          "execution_count": 13
        }
      ]
    },
    {
      "cell_type": "code",
      "metadata": {
        "id": "l1NtHBUy2o2C"
      },
      "source": [
        "tfidf = TfidfVectorizer()\n",
        "tfidf_matrix = tfidf.fit_transform(article_list)"
      ],
      "execution_count": 18,
      "outputs": []
    },
    {
      "cell_type": "code",
      "metadata": {
        "id": "E6HcEVDL25Xo",
        "outputId": "76c4bd00-44aa-48a5-e88e-6585366cd6d5",
        "colab": {
          "base_uri": "https://localhost:8080/"
        }
      },
      "source": [
        "print(tfidf_matrix.shape)"
      ],
      "execution_count": 20,
      "outputs": [
        {
          "output_type": "stream",
          "text": [
            "(105418, 97249)\n"
          ],
          "name": "stdout"
        }
      ]
    },
    {
      "cell_type": "markdown",
      "metadata": {
        "id": "B5gl5x59to54"
      },
      "source": [
        "Kết thúc preprocessing"
      ]
    },
    {
      "cell_type": "code",
      "metadata": {
        "id": "VrT46I5dd3li",
        "outputId": "0f01671c-1dbf-4419-a2a9-8a3d5dea64e4",
        "colab": {
          "base_uri": "https://localhost:8080/"
        }
      },
      "source": [
        "# index_ = 0\n",
        "\n",
        "# for i_article in article_list[:5]:\n",
        "\n",
        "#   sentence_list = i_article.split('.')\n",
        "#   sentence_score_list = []\n",
        "\n",
        "#   for i_sentence in sentence_list:\n",
        "#     i_sentence_score = 0\n",
        "#     for i_word.lower() in i_sentence.split(' '):\n",
        "#       i_sentence_score += tfidf_matrix[index_, tfidf.vocabulary_[i_word]]\n",
        "#     sentence_score_list.append(i_sentence_score)\n",
        "#   index += 1\n",
        "\n"
      ],
      "execution_count": 16,
      "outputs": [
        {
          "output_type": "stream",
          "text": [
            "['Cảnh sát Canada vừa công bố nguyên nhân cái chết của vợ chồng tỉ phú Barry Sherman và bà Honey , song kết luận sơ bộ của vụ việc chỉ góp thêm bí ẩn cho vụ việc chấn động này ', ' Nhà sáng lập hãng dược Apotex , ông Barry Sherman , 75 tuổi , và vợ , bà Honey Sherman , 70 tuổi , được tìm thấy đã chết tại nhà riêng ở North York hôm 15-12 ', ' Cảnh sát Toronto đánh giá vụ việc là \" đáng ngờ \" nên đã yêu cầu lực lượng điều tra án mạng vào cuộc , theo thông tin từ Đài CBC News ( Canada ) ngày 18-12 ', ' Trong thông cáo phát đi hôm 17-12 ( giờ địa phương ) , cảnh sát Toronto tuyên bố cả hai nạn nhân đều bị \" ngạt thở do dây buộc \" , nghĩa là bị xiết cổ , cho đến chết ', ' Tuy nhiên , điều khó hiểu là các điều tra viên tuyên bố họ sẽ không tìm kiếm thêm nghi can nào khác trong vụ việc , theo Sky News ', ' Một nguồn tin cảnh sát trước đó cho CBC News biết một người ngoài gia đình Sherman đã phát hiện ra thi thể vợ chồng tỉ phú , song cảnh sát không tiết lộ gì nhiều về quá trình điều tra ', ' Tờ The Globe and Mail dẫn một nguồn thạo tin cho biết người phát hiện thi thể là một nhân viên môi giới địa ốc , vốn đang thu xếp bán ngôi nhà của ông bà Sherman ', ' Báo Globe and Mail khẳng định không có dấu hiệu ngôi nhà đã bị xâm nhập và không có lời nhắn hay thư tuyệt mệnh gì để lại hiện trường ', ' Bất chấp sự \" kín tiếng \" của cảnh sát , nhiều hãng tin đã dẫn chính nguồn tin từ cảnh sát cho hay vụ việc đang được điều tra theo hướng \" giết người rồi tự tử \" , tức một trong hai người đã đoạt mạng người kia trước khi tự kết liễu bản thân ', ' Tuy nhiên , trong thông cáo phát đi ngày 16-12 , gia đình Sherman khẳng định \" cha mẹ chúng tôi đã sống rất đỗi nhiệt thành và luôn hướng về gia đình và cộng đồng , điều này hoàn toàn trái ngược với các tin đồn đáng tiếc trên mạng xã hội xoay quanh cái chết của họ \" ', ' Gia đình Sherman cũng chỉ trích các nguồn tin cảnh sát là \" vô trách nhiệm \" khi thông tin không đúng cho truyền thông ', ' \" ( Giả thuyết đây là vụ giết người rồi tự tử ) là thứ mà không ai trong gia đình , bạn bè hay đồng nghiệp ( của cha mẹ chúng tôi ) tin là thật \" - thông cáo viết ', ' Gia đình nạn nhân vì thế yêu cầu cảnh sát tiến hành một cuộc điều tra hình sự \" toàn diện , cật lực và khách quan \" về cái chết của cha mẹ họ ', ' Điều tra viên phụ trách án mạng , ông David Hopkinson , chia sẻ với đài Sky News rằng \" vụ án có nhiều điểm đáng ngờ và chúng tôi đang xử lý vụ việc theo hướng đó \" ', ' Theo báo The Star ( Canada ) , ông Sherman là một trong những người giàu nhất ở Canada ', ' Vợ chồng tỉ phú Sherman đã quyên góp từ thiện hàng triệu USD cho nhiều tổ chức thiện nguyện ', ' Chính bộ phận công tác xã hội của Công ty Apotex cũng đã vận chuyển các đợt thuốc men hỗ trợ những vùng khủng hoảng trị giá nhiều triệu USD ', ' Vợ chồng tỉ phủ Canada Barry Sherman - Ảnh : REUTERS ', '']\n",
            "['Thủ tướng Nhật Shinzo Abe và tân Tổng thống Donald Trump bắt tay hôm 17/11/2016 tại New York ', ' Ông Trump dự kiến chào đón ông Abe tại Nhà Trắng vào ngày 10/2 ', ' Ông hôm 5/2 trả lời đài phát thanh Westwood One Sports , cho rằng để hiểu về ai đó , đánh golf là hoạt động tốt hơn ăn trưa ', ' Bản ghi chép cuộc phỏng vấn được Nhà Trắng công bố sau đó ', ' Khi được hỏi liệu ông có đặt cược vào ván golf tại khu nghỉ dưỡng Mar - a - Lago , thị trấn Palm Beach hôm 11/2 hay không , ông Trump đáp : \" Tôi không biết ', ' Tôi biết ông ấy thích môn này , và chúng tôi sẽ có rất nhiều khoảnh khắc vui vẻ ', ' Điều đó sẽ không quan trọng ', ' Tôi sẽ đảm bảo ông là bạn chơi của tôi \" ', ' Các chủ đề an ninh , thương mại , chính sách tiền tệ dự kiến bao trùm cuộc gặp giữa lãnh đạo Mỹ và Nhật ', ' Ông Trump từng chỉ trích việc các nhà sản xuất Mỹ không được tiếp cận nhiều với thị trường ôtô Nhật và cáo buộc Tokyo sử dụng chính sách tiền tệ để làm mất giá đồng yen ', ' Ông cũng gộp Nhật với Trung Quốc và Mexico là những nước lớn góp phần dẫn đến tình trạng thâm hụt thương mại của Mỹ ', ' Ông Abe là lãnh đạo nước ngoài đầu tiên gặp ông Trump sau khi ông thắng cử tổng thống hồi tháng 11/2016', ' Trọng Giáp']\n",
            "['Lãnh đạo Triều Tiên Kim Jong-un ( trái ) và Tổng thống Mỹ Donald Trump trò chuyện riêng tại hội nghị thượng đỉnh lần hai ở Hà Nội hôm 28/2 ', ' \" Chúng ta đã vượt qua đống tro tàn hậu chiến và Cuộc Hành quân Khổ ải nhưng những thách thức mà chúng ta đang phải đối mặt trong 10 năm trở lại đây thực tế là những khó khăn nghiêm trọng nhất trong lịch sử ( nước Triều Tiên ) cộng hoà \" , hãng tin Hàn Quốc Yonhap dẫn báo Rodong Sinmun của đảng cầm quyền Lao động Triều Tiên ngày 21/3 đưa tin ', ' \" Cuộc Hành quân Khổ ải \" ám chỉ giai đoạn những năm 1990 của thế kỷ trước khi Triều Tiên vật lộn với nạn đói và nhiều người đã vượt biên để thoát khỏi cảnh đói khát ', ' \" Chúng ta đã chứng minh rằng đến cuối cùng chúng ta có thể tự mở ra con đường rạng rỡ phía trước dù đối mặt với bất cứ thách thức nào \" , tờ báo này viết ', ' \" Tự lực là một việc khó khăn nhưng nó giống như một liều thuốc giúp tăng cường sức mạnh quốc gia \" ', ' Tờ báo này cho rằng việc phụ thuộc vào sự giúp đỡ từ bên ngoài giống như \" thuốc độc \" , khiến con người u mê và làm suy giảm sức mạnh dân tộc ', ' Hội nghị thượng đỉnh Mỹ - Triều tại Hà Nội hồi cuối tháng trước kết thúc mà không đạt được thoả thuận nào ', ' Tổng thống Trump cho rằng nguyên nhân bất đồng là do Bình Nhưỡng yêu cầu gỡ bỏ toàn bộ lệnh trừng phạt ', ' Phía Triều Tiên phủ nhận và tuyên bố lãnh đạo Kim Jong-un chỉ muốn gỡ bỏ 5 trong tổng số 11 lệnh trừng phạt kinh tế để đổi lấy việc phá huỷ tổ hợp hạt nhân chính Yongbyon ', ' Tuần trước , thứ trưởng ngoại giao Triều Tiên Choe Son - hui đe doạ chấm dứt đàm phán hạt nhân với Mỹ và nói Bình Nhưỡng sẽ không nhượng bộ trước những yêu cầu \" xã hội đen \" của Washington ', ' Nữ quan chức ngoại giao này cũng cho biết lãnh đạo Kim Jong-un sẽ sớm quyết định có tiếp tục đối thoại với Mỹ hay không ', ' Trong khi đó , hãng tin Yonhap hôm 6/3 đưa tin cơ quan tình báo quốc gia Hàn Quốc phát hiện dấu hiệu Bình Nhưỡng khôi phục bãi phóng thử tên lửa Tongchang - ri , vốn được cho là đã bị phá bỏ hồi năm ngoái sau hội nghị lần đầu tại Singapore ', ' An Hồng']\n",
            "['Theo ghi nhận của Tuổi Trẻ Online , đến hơn 16h chiều nay , những người dân cuối cùng của ba xã Hồng Kỳ , Nam Sơn , Bắc Sơn ( huyện Sóc Sơn , Hà Nội ) bức xúc vì chuyện giải phóng mặt bằng , di dân ra ngoài vùng ảnh hưởng môi trường của Khu liên hợp xử lý chất thải Sóc Sơn đã rời khỏi hiện trường ', ' Các xe chở rác của Công ty TNHH MTV Môi trường đô thị Hà Nội đã có thể vận chuyển rác vào Khu Liên hợp xử lý chất thải Sóc Sơn sau nhiều ngày bị gián đoạn do người dân tập trung dựng lều ngăn cản lối vào ', ' Như Tuổi Trẻ Online đã đưa tin , từ nhiều ngày này , do rác thải của Hà Nội không thể tập kết vào Khu liên hợp xử lý chất thải Sóc Sơn , rác tràn ngập trên nhiều tuyến đường phố , khu dân cư của thủ đô ', ' Theo UBND TP Hà Nội , nguyên nhân của tình trạng này là một số hộ dân ở ba xã Hồng Kỳ , Nam Sơn , Bắc Sơn của huyện Sóc Sơn do bức xúc về việc giải phóng mặt bằng , di dân ra ngoài vùng ảnh hưởng môi trường của Khu liên hợp xử lý chất thải Sóc Sơn đã dựng lều chặn xe chở rác ', ' Trước đó , tại hội nghị giao ban trực tuyến của Hà Nội với các quận , huyện , thị xã sáng 14-1 , lãnh đạo huyện Sóc Sơn cho biết ngay sau khi có chỉ đạo của UBND TP Hà Nội , huyện tiếp tục tuyên truyền , vận động người dân dỡ bỏ lều lán , trở về nhà ', ' \" Đến sáng 14-1 cơ bản người dân đã dỡ lều lán , tuy nhiên còn khoảng 20 người tiếp tục chặn đường vào khu xử lý rác thải \" - lãnh đạo huyện Sóc Sơn cho hay ', ' Để giải quyết dứt điểm tình trạng người dân chặn xe vận chuyển rác vào khu xử lý chất thải , ngày 13-1 , UBND TP Hà Nội đã gửi văn bản đến các đơn vị liên quan về việc giải phóng mặt bằng theo chỉ giới quy hoạch bán kính 500m quanh Khu liên hợp xử lý chất thải Sóc Sơn ', ' Theo đó , trước ngày 15-1 , huyện Sóc Sơn phải hoàn thiện hồ sơ đo đạc , bản đồ hiện trạng vùng ảnh hưởng môi trường bán kính 500m Khu liên hợp xử lý chất thải Sóc Sơn và trình Sở Tài nguyên và môi trường xác nhận ', ' Đến ngày 30-3 , huyện Sóc Sơn hoàn thành khảo sát số lượng , lập , thẩm định và phê duyệt phương án bồi thường , hỗ trợ , tái định cư cho dân , đảm bảo tiến độ trong quý 2-2019 ', ' Huyện Sóc Sơn cũng được yêu cầu chịu trách nhiệm giải thích để dân không cản trở việc vận chuyển rác vào khu xử lý chất thải ', '']\n",
            "['\" Tôi nghĩ họ đã quá tập trung vào chính trị đến mức không thống nhất hành động với nhau ở cuối chương trình \" , ông Trump nói trong cuộc phỏng vấn hôm qua với Breitbart News , trang tin tức bảo thủ từng do Steve Bannon , cố vấn then chốt của tổng thống , điều hành ', ' Giải thưởng Oscar của Viện Hàn lâm Mỹ lần thứ 89 diễn ra vào tối 26/2 tại Los Angeles và kết thúc với một sự cố khiến người xem đài khắp hành tinh ngơ ngác ', ' Tác phẩm nhạc kịch gây sốt La La Land ban đầu được công bố là \" Phim hay nhất \" nhưng sau đó , Moonlight được đính chính mới là chủ nhân thật sự của giải thưởng này ', ' \" Khá buồn ', ' Điều đó đã làm mất đi vẻ đẹp của giải Oscar ', ' Đó không còn là một buổi tối quyến rũ nữa ', ' Tôi từng tham dự giải Oscar rồi ', ' Chương trình lần này thiếu một điều gì đó đặc biệt và cuối cùng lại kết thúc theo cách đó rất đáng buồn \" , ông nói thêm ', ' Vợ chồng ông Trump tại giải Oscar năm 2011 ', ' Trong các phần công bố giải thưởng , các ngôi sao và người dẫn chương trình Jimmy Kimmel liên tục nói kháy và chỉ trích Tổng thống Trump ', ' Kimmel cho hay lễ trao giải đang được khán giả từ \" các nước căm ghét chúng ta \" trên khắp thế giới theo dõi ', ' Ông cũng kêu gọi các khán giả nỗ lực hoà giải với các đối thủ chính trị của họ ', ' \" Nếu chúng ta làm được điều đó , chúng ta có thể khiến nước Mỹ vĩ đại trở lại \" , ông nói , nhắc đến khẩu hiệu tranh cử của ông Trump ', ' Kimmel cũng mỉa mai việc Nhà Trắng cấm nhiều hãng truyền thông tham gia họp báo và viết một thông điệp gửi đến ông Trump trên Twitter , đề cao chiến thắng của Mahershala Ali , người Hồi giáo đầu tiên giành giải Oscar ', ' Bất chấp được truyền hình trực tiếp ở 226 quốc gia và sự cố công bố nhầm giải lớn nhất , lễ trao giải Oscar năm nay không thu hút người xem ', ' Lượng khán giải theo dõi chương trình trên kênh ABC đạt kỷ lục thấp nhất kể từ năm 2008 ', ' Có khoảng 32,9 triệu người Mỹ xem Oscar , giảm 4 % so với năm ngoái , theo số liệu của Nielsen ', ' Anh Ngọc']\n"
          ],
          "name": "stdout"
        }
      ]
    },
    {
      "cell_type": "code",
      "metadata": {
        "id": "jHS64_6lguSa",
        "outputId": "8e994f6b-1223-46c3-aa5c-ac8e465571d2",
        "colab": {
          "base_uri": "https://localhost:8080/"
        }
      },
      "source": [
        "tfidf_matrix[1,tfidf.vocabulary_['nhật']]"
      ],
      "execution_count": 30,
      "outputs": [
        {
          "output_type": "execute_result",
          "data": {
            "text/plain": [
              "0.2055191032930217"
            ]
          },
          "metadata": {
            "tags": []
          },
          "execution_count": 30
        }
      ]
    },
    {
      "cell_type": "code",
      "metadata": {
        "id": "7KiE8KpWh1yi"
      },
      "source": [
        "def score_sentence(sentence, a_index_):\n",
        "  sentence_score = 0\n",
        "  for i_word.lower() in i_sentence.split(' '):\n",
        "      sentence_score += tfidf_matrix[a_index_, tfidf.vocabulary_[i_word]]\n",
        "  \n",
        "  return sentence_score\n",
        "\n",
        "\n",
        "def score_article(article):\n",
        "  sentence_score_list = []\n",
        "  sentence_list = article.split('.')\n",
        "\n",
        "  for i_sentence in sentence_list:\n",
        "    sentence_score = score_sentence(i_sentence)\n",
        "    sentence_score_list.append(sentence_score)\n",
        "\n",
        "  return sentence_score_list, sentence_list\n",
        "\n",
        "\n",
        "def get_summary(sentence_score_list, sentence_list):\n",
        "  mean_score = np.mean(sentence_score_list)\n",
        "  sentence_score_list > mean_score\n"
      ],
      "execution_count": null,
      "outputs": []
    },
    {
      "cell_type": "code",
      "metadata": {
        "id": "Ak6hATh6ri3Y",
        "outputId": "ea563abd-7385-41ce-b5d8-0b98898b3496",
        "colab": {
          "base_uri": "https://localhost:8080/",
          "height": 197
        }
      },
      "source": [
        "mean = 11\n",
        "score_list = [1,2, 3,4, 578, 12, 324]\n"
      ],
      "execution_count": 36,
      "outputs": [
        {
          "output_type": "error",
          "ename": "TypeError",
          "evalue": "ignored",
          "traceback": [
            "\u001b[0;31m---------------------------------------------------------------------------\u001b[0m",
            "\u001b[0;31mTypeError\u001b[0m                                 Traceback (most recent call last)",
            "\u001b[0;32m<ipython-input-36-09ea304fe6d1>\u001b[0m in \u001b[0;36m<module>\u001b[0;34m()\u001b[0m\n\u001b[1;32m      1\u001b[0m \u001b[0mmean\u001b[0m \u001b[0;34m=\u001b[0m \u001b[0;36m11\u001b[0m\u001b[0;34m\u001b[0m\u001b[0;34m\u001b[0m\u001b[0m\n\u001b[1;32m      2\u001b[0m \u001b[0mscore_list\u001b[0m \u001b[0;34m=\u001b[0m \u001b[0;34m[\u001b[0m\u001b[0;36m1\u001b[0m\u001b[0;34m,\u001b[0m\u001b[0;36m2\u001b[0m\u001b[0;34m,\u001b[0m \u001b[0;36m3\u001b[0m\u001b[0;34m,\u001b[0m\u001b[0;36m4\u001b[0m\u001b[0;34m,\u001b[0m \u001b[0;36m578\u001b[0m\u001b[0;34m,\u001b[0m \u001b[0;36m12\u001b[0m\u001b[0;34m,\u001b[0m \u001b[0;36m324\u001b[0m\u001b[0;34m]\u001b[0m\u001b[0;34m\u001b[0m\u001b[0;34m\u001b[0m\u001b[0m\n\u001b[0;32m----> 3\u001b[0;31m \u001b[0mscore_list\u001b[0m\u001b[0;34m[\u001b[0m\u001b[0mscore_list\u001b[0m \u001b[0;34m>\u001b[0m \u001b[0mmean\u001b[0m\u001b[0;34m]\u001b[0m\u001b[0;34m\u001b[0m\u001b[0;34m\u001b[0m\u001b[0m\n\u001b[0m",
            "\u001b[0;31mTypeError\u001b[0m: '>' not supported between instances of 'list' and 'int'"
          ]
        }
      ]
    },
    {
      "cell_type": "code",
      "metadata": {
        "id": "M2ZzafXqrqDW"
      },
      "source": [
        ""
      ],
      "execution_count": null,
      "outputs": []
    }
  ]
}