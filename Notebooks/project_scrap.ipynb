{
  "nbformat": 4,
  "nbformat_minor": 0,
  "metadata": {
    "colab": {
      "name": "project_scrap.ipynb",
      "provenance": [],
      "collapsed_sections": []
    },
    "kernelspec": {
      "display_name": "Python 3",
      "name": "python3"
    }
  },
  "cells": [
    {
      "cell_type": "code",
      "metadata": {
        "id": "dOmArrAVU2rX"
      },
      "source": [
        "import os\n",
        "import numpy as np\n",
        "import pandas as pd\n",
        "import matplotlib.pyplot as plt\n",
        "import re\n",
        "from sklearn.feature_extraction.text import TfidfVectorizer"
      ],
      "execution_count": 3,
      "outputs": []
    },
    {
      "cell_type": "code",
      "metadata": {
        "id": "s-4nq3PsdKmu",
        "outputId": "89281544-243d-4a31-8dcd-84f4121c06de",
        "colab": {
          "base_uri": "https://localhost:8080/"
        }
      },
      "source": [
        "!git clone 'https://github.com/ThanhChinhBK/vietnews'"
      ],
      "execution_count": 1,
      "outputs": [
        {
          "output_type": "stream",
          "text": [
            "Cloning into 'vietnews'...\n",
            "remote: Enumerating objects: 143827, done.\u001b[K\n",
            "remote: Counting objects: 100% (143827/143827), done.\u001b[K\n",
            "remote: Compressing objects: 100% (143815/143815), done.\u001b[K\n",
            "remote: Total 143827 (delta 11), reused 143827 (delta 11), pack-reused 0\u001b[K\n",
            "Receiving objects: 100% (143827/143827), 194.68 MiB | 16.84 MiB/s, done.\n",
            "Resolving deltas: 100% (11/11), done.\n",
            "Checking out files: 100% (150704/150704), done.\n"
          ],
          "name": "stdout"
        }
      ]
    },
    {
      "cell_type": "code",
      "metadata": {
        "id": "S7DaETawc8kO"
      },
      "source": [
        "article_list = []\n",
        "\n",
        "for file in os.listdir('/content/vietnews/data/train_tokenized'):\n",
        "  #print(file)\n",
        "  with open('/content/vietnews/data/train_tokenized/' + file, 'r') as f:\n",
        "    article = f.read().splitlines()\n",
        "    article_list.append(article[4:-1])   # leave out titles, abstracts\n",
        "    f.close()"
      ],
      "execution_count": 4,
      "outputs": []
    },
    {
      "cell_type": "code",
      "metadata": {
        "id": "QieOKTCCnzeW",
        "outputId": "a5f9a42b-58f7-4d23-b986-81c13c5da637",
        "colab": {
          "base_uri": "https://localhost:8080/"
        }
      },
      "source": [
        "article_list[0]"
      ],
      "execution_count": 5,
      "outputs": [
        {
          "output_type": "execute_result",
          "data": {
            "text/plain": [
              "['Góp_phần vắt_óc suy_nghĩ để cứu đội_bóng \" Heo_Rừng \" của Thái_Lan , có_thể nói tỉ_phú công_nghệ Elon_Musk là một trong số những người được chú_ý hàng_đầu khi ông đề_xuất chế_tạo một chiếc tàu_ngầm mini đưa vào hang chở người ra .',\n",
              " 'Ông cũng liên_tục cập_nhật tình_hình , và mới_đây nhất là đích_thân đến xứ_sở Chùa vàng .',\n",
              " 'Tuy_nhiên , thật tiếc khi đề_xuất của ông không được sử_dụng dù đã đưa đến tận nơi .',\n",
              " 'Theo đài BBC , trả_lời phỏng_vấn mới_đây , ông Narongsak_Osotthanakorn - người đứng đầu chiến_dịch giải_cứu , nói rằng ông trân_trọng sự giúp_đỡ của tỉ_phú Musk cùng đồng_đội , nhưng \" thiết_bị họ mang tới để hỗ_trợ không thực_tế với nhiệm_vụ của chúng_tôi \" .',\n",
              " '\" Mặc_dù thiết_bị của họ tốt và tinh_vi về mặt công_nghệ , nó không phù_hợp với nhiệm_vụ của chúng_tôi để đưa vào hang \" - chỉ_huy chiến_dịch giải_cứu đội_bóng \" Heo_Rừng \" cho biết .',\n",
              " 'Trước đó , cùng ngày , tỉ_phú Musk thông_báo trên Twitter rằng ông đã có_mặt tại hang Tham_Luang cùng với chiếc tàu_ngầm mini nguyên_mẫu được chế_tạo để đưa 4 cầu_thủ nhí và 1 huấn_luyện_viên vẫn còn mắc_kẹt trong hang ra ngoài .',\n",
              " '\" Để lại tàu_ngầm ở đây phòng trường_hợp có_thể hữu_ích trong tương_lai .',\n",
              " 'Đất_nước Thái_Lan rất xinh_đẹp \" , ông Musk viết trên Twitter .',\n",
              " 'Tướng Werachon_Sukondhapatipak - người_phát_ngôn của Thủ_tướng Prayuth_Chan - o - cha ngày 10-7 cho_biết Thủ_tướng Thái_Lan rất cảm_kích sáng_kiến của tỉ_phú Elon_Musk để giải_cứu đội_bóng \" Heo_Rừng \" và ông cực_kỳ cảm_động vì ông Musk đã đích_thân tới Chiang_Rai để giúp_đỡ .',\n",
              " 'Ông Werachon tường_thuật lại rằng Thủ_tướng Prayuth được truyền cảm_hứng bởi sự tốt_bụng và quyết_tâm chân_thật của tỉ_phú Musk để hỗ_trợ hoạt_động giải_cứu khó_khăn như_vậy .',\n",
              " 'Dù bao_nhiêu công_sức \" đổ sông đổ biển \" , sự nhiệt_tình của ông chủ tập_đoàn công_nghệ khám_phá không_gian SpaceX vẫn được người_dân Thái_Lan khen không ngớt lời .',\n",
              " 'Bày_tỏ lòng biết_ơn tới tỉ_phú Musk , tài_khoản Facebook của nhóm nhà địa_lý tham_gia khảo_sát hang Tham_Luang viết : \" Xin cảm_ơn Elon vì đã cung_cấp cho chúng_tôi nhiều thiết_bị và hướng_dẫn hữu_ích từ đội kỹ_thuật của ông .',\n",
              " 'Đó là một vinh_dự đối_với đội_ngũ các nhà địa_lý Thái_Lan chúng_tôi , những người tham_gia cuộc gặp vào tối qua .',\n",
              " 'Chúng_tôi chúc ông có một khoảng thời_gian đẹp ở Thái_Lan \" , tài_khoản Thai_Geographers viết .',\n",
              " 'Theo tờ Khaosod , trên mạng xã_hội Twitter , người dùng đã đăng hơn 90.000 tweet nói về ông Musk , khiến vị tỉ_phú trở_thành một trong những cái tên được đề_cập hàng_đầu trong ngày 10-7 .',\n",
              " 'Hầu_hết người Thái cảm_thấy hứng_thú vì một tên_tuổi lớn của thế_giới đã trực_tiếp tới Thái_Lan để hỗ_trợ .',\n",
              " '\" Elon_Musk , người mà cả thế_giới gọi là Người Sắt ngoài đời thực , đã đích_thân lặng_lẽ tới Thái_Lan để cho chúng_tôi một chiếc tàu ngầm giải_cứu đội_bóng Heo_Rừng .',\n",
              " 'Ông đã vạch kế_hoạch giải_cứu một_cách thầm_lặng và thậm_chí đến đây cũng thầm_lặng \" , một tài_khoản viết lời khen_ngợi .',\n",
              " '\" Cám_ơn ông rất nhiều , tỉ_phú Elon_Musk à ! \"',\n",
              " 'là cách người dùng có tên @ Junkojang bày_tỏ sự biết_ơn tới vị tỉ_phú .',\n",
              " 'Trong khi đó , tài_khoản @ evoflo tỏ ra hào_hứng : \" Thái_Lan đã có cơ_hội gặp_mặt những người nổi_tiếng của thế_giới mà chúng_ta chưa từng nghĩ sẽ có cơ_hội gặp .',\n",
              " 'Chúng_ta đã thấy Mark_Zuckerberg trong một quán pub ở Thonglor và giờ là Elon_Musk tới giúp đội_bóng Heo Rừng bên trong hang Tham_Luang ở Chiang_Rai \" .',\n",
              " 'Bên cạnh những lời khen dành ông Musk , một_số người lại nói rằng việc vị tỉ_phú mang tàu_ngầm mini tới Thái_Lan chỉ là để PR bản_thân , khi hơn 1/2 số người mắc_kẹt đã được đưa ra ngoài .',\n",
              " 'Tuy_nhiên , dù động_cơ là gì , hành_động của ông Musk đã để lại ấn_tượng đẹp trong lòng người_dân Thái và thế_giới .',\n",
              " 'Việc hiến_kế , lên kế_hoạch , bám sát tình_hình , và trực_tiếp đến Thái_Lan đã cho thấy ông thực_sự nhiệt_tình trong việc hỗ_trợ cứu_giúp .',\n",
              " 'Như một_số tờ báo_viết , quả_thật những chú bé \" Heo_Rừng \" đã mang thế_giới xích lại gần hơn .',\n",
              " 'Trước khi đến hang Tham_Luang , tỉ_phú Elon_Musk đã có cuộc nói_chuyện với Thủ_tướng Thái_Lan Prayuth_Chan - o - cha ở sân_bay Mae_Fah_Luang của Chiang_Rai .',\n",
              " 'Ngoài vấn_đề giải_cứu đội_bóng , ông Prayuth cũng kêu_gọi vị tỉ_phú đầu_tư vào Hành_lang kinh_tế phía Đông của Thái_Lan .',\n",
              " 'Trong hai ngày 8 và 9-7 , lực_lượng cứu_hộ Thái_Lan đã hai lần vào hang Tham_Luang để đưa tổng_cộng 8 người trong tổng_số 13 thành_viên đội_bóng thiếu_niên Thái_Lan bị mắc_kẹt .',\n",
              " 'Như_vậy , còn 4 bé trai còn lại và 1 huấn_luyện_viên kẹt lại trong hang đêm thứ 17 .',\n",
              " '',\n",
              " 'Tỉ_phú Elon_Musk và chiếc tàu_ngầm mini được chế_tạo từ một tên_lửa quỹ_đạo của công_ty không_gian của ông - Ảnh : TWITTER .',\n",
              " 'Tỉ_phú Elon_Musk đăng trên Twitter về việc đã đưa tàu_ngầm mini tới Thái_Lan .',\n",
              " '- Ảnh chụp màn_hình .',\n",
              " 'Minh_hoạ 12 cậu bé trong đội_bóng Heo Rừng và huấn_luyện_viên Ekkapol_Chantawong - Ảnh : BBC .']"
            ]
          },
          "metadata": {
            "tags": []
          },
          "execution_count": 5
        }
      ]
    },
    {
      "cell_type": "code",
      "metadata": {
        "id": "vAfps4YRuEJH"
      },
      "source": [
        "for i in range(len(article_list)):\n",
        "  article_list[i] = list(filter(None, article_list[i]))   # Remove blank spaces\n",
        "  article_list[i] = ' '.join(article_list[i])"
      ],
      "execution_count": 6,
      "outputs": []
    },
    {
      "cell_type": "code",
      "metadata": {
        "id": "zJNxTUJ5vusb",
        "outputId": "6e6675b9-5830-4f0b-cfea-349512bcd273",
        "colab": {
          "base_uri": "https://localhost:8080/",
          "height": 188
        }
      },
      "source": [
        "article_list[0]"
      ],
      "execution_count": 7,
      "outputs": [
        {
          "output_type": "execute_result",
          "data": {
            "application/vnd.google.colaboratory.intrinsic+json": {
              "type": "string"
            },
            "text/plain": [
              "'Góp_phần vắt_óc suy_nghĩ để cứu đội_bóng \" Heo_Rừng \" của Thái_Lan , có_thể nói tỉ_phú công_nghệ Elon_Musk là một trong số những người được chú_ý hàng_đầu khi ông đề_xuất chế_tạo một chiếc tàu_ngầm mini đưa vào hang chở người ra . Ông cũng liên_tục cập_nhật tình_hình , và mới_đây nhất là đích_thân đến xứ_sở Chùa vàng . Tuy_nhiên , thật tiếc khi đề_xuất của ông không được sử_dụng dù đã đưa đến tận nơi . Theo đài BBC , trả_lời phỏng_vấn mới_đây , ông Narongsak_Osotthanakorn - người đứng đầu chiến_dịch giải_cứu , nói rằng ông trân_trọng sự giúp_đỡ của tỉ_phú Musk cùng đồng_đội , nhưng \" thiết_bị họ mang tới để hỗ_trợ không thực_tế với nhiệm_vụ của chúng_tôi \" . \" Mặc_dù thiết_bị của họ tốt và tinh_vi về mặt công_nghệ , nó không phù_hợp với nhiệm_vụ của chúng_tôi để đưa vào hang \" - chỉ_huy chiến_dịch giải_cứu đội_bóng \" Heo_Rừng \" cho biết . Trước đó , cùng ngày , tỉ_phú Musk thông_báo trên Twitter rằng ông đã có_mặt tại hang Tham_Luang cùng với chiếc tàu_ngầm mini nguyên_mẫu được chế_tạo để đưa 4 cầu_thủ nhí và 1 huấn_luyện_viên vẫn còn mắc_kẹt trong hang ra ngoài . \" Để lại tàu_ngầm ở đây phòng trường_hợp có_thể hữu_ích trong tương_lai . Đất_nước Thái_Lan rất xinh_đẹp \" , ông Musk viết trên Twitter . Tướng Werachon_Sukondhapatipak - người_phát_ngôn của Thủ_tướng Prayuth_Chan - o - cha ngày 10-7 cho_biết Thủ_tướng Thái_Lan rất cảm_kích sáng_kiến của tỉ_phú Elon_Musk để giải_cứu đội_bóng \" Heo_Rừng \" và ông cực_kỳ cảm_động vì ông Musk đã đích_thân tới Chiang_Rai để giúp_đỡ . Ông Werachon tường_thuật lại rằng Thủ_tướng Prayuth được truyền cảm_hứng bởi sự tốt_bụng và quyết_tâm chân_thật của tỉ_phú Musk để hỗ_trợ hoạt_động giải_cứu khó_khăn như_vậy . Dù bao_nhiêu công_sức \" đổ sông đổ biển \" , sự nhiệt_tình của ông chủ tập_đoàn công_nghệ khám_phá không_gian SpaceX vẫn được người_dân Thái_Lan khen không ngớt lời . Bày_tỏ lòng biết_ơn tới tỉ_phú Musk , tài_khoản Facebook của nhóm nhà địa_lý tham_gia khảo_sát hang Tham_Luang viết : \" Xin cảm_ơn Elon vì đã cung_cấp cho chúng_tôi nhiều thiết_bị và hướng_dẫn hữu_ích từ đội kỹ_thuật của ông . Đó là một vinh_dự đối_với đội_ngũ các nhà địa_lý Thái_Lan chúng_tôi , những người tham_gia cuộc gặp vào tối qua . Chúng_tôi chúc ông có một khoảng thời_gian đẹp ở Thái_Lan \" , tài_khoản Thai_Geographers viết . Theo tờ Khaosod , trên mạng xã_hội Twitter , người dùng đã đăng hơn 90.000 tweet nói về ông Musk , khiến vị tỉ_phú trở_thành một trong những cái tên được đề_cập hàng_đầu trong ngày 10-7 . Hầu_hết người Thái cảm_thấy hứng_thú vì một tên_tuổi lớn của thế_giới đã trực_tiếp tới Thái_Lan để hỗ_trợ . \" Elon_Musk , người mà cả thế_giới gọi là Người Sắt ngoài đời thực , đã đích_thân lặng_lẽ tới Thái_Lan để cho chúng_tôi một chiếc tàu ngầm giải_cứu đội_bóng Heo_Rừng . Ông đã vạch kế_hoạch giải_cứu một_cách thầm_lặng và thậm_chí đến đây cũng thầm_lặng \" , một tài_khoản viết lời khen_ngợi . \" Cám_ơn ông rất nhiều , tỉ_phú Elon_Musk à ! \" là cách người dùng có tên @ Junkojang bày_tỏ sự biết_ơn tới vị tỉ_phú . Trong khi đó , tài_khoản @ evoflo tỏ ra hào_hứng : \" Thái_Lan đã có cơ_hội gặp_mặt những người nổi_tiếng của thế_giới mà chúng_ta chưa từng nghĩ sẽ có cơ_hội gặp . Chúng_ta đã thấy Mark_Zuckerberg trong một quán pub ở Thonglor và giờ là Elon_Musk tới giúp đội_bóng Heo Rừng bên trong hang Tham_Luang ở Chiang_Rai \" . Bên cạnh những lời khen dành ông Musk , một_số người lại nói rằng việc vị tỉ_phú mang tàu_ngầm mini tới Thái_Lan chỉ là để PR bản_thân , khi hơn 1/2 số người mắc_kẹt đã được đưa ra ngoài . Tuy_nhiên , dù động_cơ là gì , hành_động của ông Musk đã để lại ấn_tượng đẹp trong lòng người_dân Thái và thế_giới . Việc hiến_kế , lên kế_hoạch , bám sát tình_hình , và trực_tiếp đến Thái_Lan đã cho thấy ông thực_sự nhiệt_tình trong việc hỗ_trợ cứu_giúp . Như một_số tờ báo_viết , quả_thật những chú bé \" Heo_Rừng \" đã mang thế_giới xích lại gần hơn . Trước khi đến hang Tham_Luang , tỉ_phú Elon_Musk đã có cuộc nói_chuyện với Thủ_tướng Thái_Lan Prayuth_Chan - o - cha ở sân_bay Mae_Fah_Luang của Chiang_Rai . Ngoài vấn_đề giải_cứu đội_bóng , ông Prayuth cũng kêu_gọi vị tỉ_phú đầu_tư vào Hành_lang kinh_tế phía Đông của Thái_Lan . Trong hai ngày 8 và 9-7 , lực_lượng cứu_hộ Thái_Lan đã hai lần vào hang Tham_Luang để đưa tổng_cộng 8 người trong tổng_số 13 thành_viên đội_bóng thiếu_niên Thái_Lan bị mắc_kẹt . Như_vậy , còn 4 bé trai còn lại và 1 huấn_luyện_viên kẹt lại trong hang đêm thứ 17 . Tỉ_phú Elon_Musk và chiếc tàu_ngầm mini được chế_tạo từ một tên_lửa quỹ_đạo của công_ty không_gian của ông - Ảnh : TWITTER . Tỉ_phú Elon_Musk đăng trên Twitter về việc đã đưa tàu_ngầm mini tới Thái_Lan . - Ảnh chụp màn_hình . Minh_hoạ 12 cậu bé trong đội_bóng Heo Rừng và huấn_luyện_viên Ekkapol_Chantawong - Ảnh : BBC .'"
            ]
          },
          "metadata": {
            "tags": []
          },
          "execution_count": 7
        }
      ]
    },
    {
      "cell_type": "code",
      "metadata": {
        "id": "l1NtHBUy2o2C"
      },
      "source": [
        "# Fit Tfidf\n",
        "tfidf = TfidfVectorizer()\n",
        "tfidf_matrix = tfidf.fit_transform(article_list)"
      ],
      "execution_count": 8,
      "outputs": []
    },
    {
      "cell_type": "code",
      "metadata": {
        "id": "E6HcEVDL25Xo",
        "outputId": "683cff82-9f51-41bf-9e17-f9840f67cb2d",
        "colab": {
          "base_uri": "https://localhost:8080/"
        }
      },
      "source": [
        "print(tfidf_matrix.shape)"
      ],
      "execution_count": 9,
      "outputs": [
        {
          "output_type": "stream",
          "text": [
            "(105418, 238217)\n"
          ],
          "name": "stdout"
        }
      ]
    },
    {
      "cell_type": "markdown",
      "metadata": {
        "id": "B5gl5x59to54"
      },
      "source": [
        "Kết thúc preprocessing"
      ]
    },
    {
      "cell_type": "code",
      "metadata": {
        "id": "7KiE8KpWh1yi"
      },
      "source": [
        "def score_sentence(sentence, a_index_):\n",
        "  # Calculate the sum tfidf score of words as sentence score\n",
        "  # Take in a sentence (string), and the article's index in the corpus (for word lookup)\n",
        "\n",
        "  sentence_score = 0\n",
        "  sentence = sentence.replace(' ,', '').strip()\n",
        "\n",
        "  # For each word in a sentence, look up its score from tfidf matrix, return 0 if lookup fails\n",
        "  for i_word in sentence.split(' '):\n",
        "    #print(i_word)\n",
        "    sentence_score += tfidf_matrix[a_index_, tfidf.vocabulary_.get(i_word.lower(), 217377)]\n",
        "  \n",
        "  return sentence_score\n",
        "\n",
        "\n",
        "def score_article(article, a_index_):\n",
        "  # Generate a list of scores of each sentence of an article\n",
        "  # Take in an article (list of sentences), and the article's index in the corpus (for word lookup)\n",
        "\n",
        "  sentence_score_list = []\n",
        "  sentence_list = article.split('.')\n",
        "\n",
        "  # For each sentence in an article, call score_sentence and append output to sentence_score_list\n",
        "  for i_sentence in sentence_list:\n",
        "    sentence_score = score_sentence(i_sentence, a_index_)\n",
        "    sentence_score_list.append(sentence_score)\n",
        "\n",
        "  return sentence_score_list, sentence_list\n",
        "\n",
        "\n",
        "def generate_summary(sentence_score_list, sentence_list, alpha=1.15):\n",
        "  # Generate a summary from sentences that have score alpha times larger than the article' sentence mean score\n",
        "  # Take in a list of sentence scores, list of sentences, thresholding multiplier alpha\n",
        "\n",
        "  sentence_score_array = np.asarray(sentence_score_list)\n",
        "  mean_score = np.mean(sentence_score_array)\n",
        "  sentence_list_arr = np.asarray(sentence_list, dtype=object)\n",
        "  summary = sentence_list_arr[sentence_score_array > alpha*mean_score]\n",
        "  summary = ' '.join(summary)\n",
        "\n",
        "  return summary\n"
      ],
      "execution_count": 11,
      "outputs": []
    },
    {
      "cell_type": "code",
      "metadata": {
        "id": "yCY6SatBv-Br"
      },
      "source": [
        "# Generate summary for 50 articles\n",
        "a_index_ = 0\n",
        "summary_list = []\n",
        "\n",
        "for i_article in article_list[:50]:\n",
        "  #print(a_index_)\n",
        "  #print(i_article)\n",
        "  sentence_score_list, sentence_list = score_article(i_article, a_index_)\n",
        "  summary = generate_summary(sentence_score_list, sentence_list)\n",
        "  summary_list.append(summary)\n",
        "  a_index_ += 1"
      ],
      "execution_count": 30,
      "outputs": []
    },
    {
      "cell_type": "code",
      "metadata": {
        "id": "t_ZsS87I_D5r",
        "outputId": "63f0c09c-6348-4ef3-85be-ae0cf110bb25",
        "colab": {
          "base_uri": "https://localhost:8080/"
        }
      },
      "source": [
        "#np.argmin(np.sum(tfidf_matrix, axis=0))"
      ],
      "execution_count": null,
      "outputs": [
        {
          "output_type": "execute_result",
          "data": {
            "text/plain": [
              "217377"
            ]
          },
          "metadata": {
            "tags": []
          },
          "execution_count": 153
        }
      ]
    },
    {
      "cell_type": "code",
      "metadata": {
        "id": "mckrqQ3UC1qE",
        "outputId": "461a3843-a1d0-4467-884b-d50be2913007",
        "colab": {
          "base_uri": "https://localhost:8080/"
        }
      },
      "source": [
        "summary_list[:5]"
      ],
      "execution_count": 31,
      "outputs": [
        {
          "output_type": "execute_result",
          "data": {
            "text/plain": [
              "['Góp_phần vắt_óc suy_nghĩ để cứu đội_bóng \" Heo_Rừng \" của Thái_Lan , có_thể nói tỉ_phú công_nghệ Elon_Musk là một trong số những người được chú_ý hàng_đầu khi ông đề_xuất chế_tạo một chiếc tàu_ngầm mini đưa vào hang chở người ra   Theo đài BBC , trả_lời phỏng_vấn mới_đây , ông Narongsak_Osotthanakorn - người đứng đầu chiến_dịch giải_cứu , nói rằng ông trân_trọng sự giúp_đỡ của tỉ_phú Musk cùng đồng_đội , nhưng \" thiết_bị họ mang tới để hỗ_trợ không thực_tế với nhiệm_vụ của chúng_tôi \"   Trước đó , cùng ngày , tỉ_phú Musk thông_báo trên Twitter rằng ông đã có_mặt tại hang Tham_Luang cùng với chiếc tàu_ngầm mini nguyên_mẫu được chế_tạo để đưa 4 cầu_thủ nhí và 1 huấn_luyện_viên vẫn còn mắc_kẹt trong hang ra ngoài   Tướng Werachon_Sukondhapatipak - người_phát_ngôn của Thủ_tướng Prayuth_Chan - o - cha ngày 10-7 cho_biết Thủ_tướng Thái_Lan rất cảm_kích sáng_kiến của tỉ_phú Elon_Musk để giải_cứu đội_bóng \" Heo_Rừng \" và ông cực_kỳ cảm_động vì ông Musk đã đích_thân tới Chiang_Rai để giúp_đỡ   Ông Werachon tường_thuật lại rằng Thủ_tướng Prayuth được truyền cảm_hứng bởi sự tốt_bụng và quyết_tâm chân_thật của tỉ_phú Musk để hỗ_trợ hoạt_động giải_cứu khó_khăn như_vậy   Bày_tỏ lòng biết_ơn tới tỉ_phú Musk , tài_khoản Facebook của nhóm nhà địa_lý tham_gia khảo_sát hang Tham_Luang viết : \" Xin cảm_ơn Elon vì đã cung_cấp cho chúng_tôi nhiều thiết_bị và hướng_dẫn hữu_ích từ đội kỹ_thuật của ông   \" Elon_Musk , người mà cả thế_giới gọi là Người Sắt ngoài đời thực , đã đích_thân lặng_lẽ tới Thái_Lan để cho chúng_tôi một chiếc tàu ngầm giải_cứu đội_bóng Heo_Rừng   \" Cám_ơn ông rất nhiều , tỉ_phú Elon_Musk à ! \" là cách người dùng có tên @ Junkojang bày_tỏ sự biết_ơn tới vị tỉ_phú   Chúng_ta đã thấy Mark_Zuckerberg trong một quán pub ở Thonglor và giờ là Elon_Musk tới giúp đội_bóng Heo Rừng bên trong hang Tham_Luang ở Chiang_Rai \"   Bên cạnh những lời khen dành ông Musk , một_số người lại nói rằng việc vị tỉ_phú mang tàu_ngầm mini tới Thái_Lan chỉ là để PR bản_thân , khi hơn 1/2 số người mắc_kẹt đã được đưa ra ngoài   Trước khi đến hang Tham_Luang , tỉ_phú Elon_Musk đã có cuộc nói_chuyện với Thủ_tướng Thái_Lan Prayuth_Chan - o - cha ở sân_bay Mae_Fah_Luang của Chiang_Rai   Trong hai ngày 8 và 9-7 , lực_lượng cứu_hộ Thái_Lan đã hai lần vào hang Tham_Luang để đưa tổng_cộng 8 người trong tổng_số 13 thành_viên đội_bóng thiếu_niên Thái_Lan bị mắc_kẹt   Tỉ_phú Elon_Musk và chiếc tàu_ngầm mini được chế_tạo từ một tên_lửa quỹ_đạo của công_ty không_gian của ông - Ảnh : TWITTER ',\n",
              " ' Sở Công_thương được đề_nghị quản_lý chặt_chẽ việc cấp các loại giấy_phép kinh_doanh chất dễ gây cháy nổ ; xử lý nghiêm các cơ_sở sản_xuất , kinh_doanh hoá_chất hoạt_động trái_phép ; đề_xuất địa_điểm và xây_dựng đề_án thành_lập chợ đầu_mối kinh_doanh hoá_chất để di_dời tất_cả các cơ_sở này ra khỏi khu dân_cư   Phó giám_đốc Sở Cảnh_sát PCCC TP HCM Trần_Thanh_Châu cho biết , toàn thành_phố có khoảng 130 cơ_sở kinh_doanh , sản_xuất hoá_chất nhỏ tại các khu dân_cư , nổi_bật là khu_vực gần chợ Kim_Biên ( quận 5 ) ',\n",
              " ' \" Với trách_nhiệm xã_hội của mình , nhà_trường đã xác_lập quan_điểm rằng cần phải thúc_đẩy việc xây_dựng lối sống xanh cho toàn_thể cán_bộ giảng_viên và sinh_viên của nhà_trường để những giá_trị đó sẽ mãi đồng_hành cùng các sinh_viên sau khi hoàn_tất chương_trình đào_tạo , từ đó góp_phần lan_toả rộng_rãi tinh_thần này trong xã_hội \" , bà Lan nói   Chương_trình Đại_học xanh với các nội_dung chính : thực_hiện các chương_trình thúc_đẩy quá_trình thay_đổi nhận_thức để thích_ứng với lối sống xanh : gồm các chương_trình tập_huấn , tổ_chức các cuộc_thi về ý_tưởng xanh , giữ_gìn cảnh_quan và vệ_sinh môi_trường … Tổ_chức các hoạt_động cụ_thể để bảo_vệ môi_trường : phân_loại rác tại nguồn theo chương_trình của TP  HCM , cải_tạo cảnh_quan , hạn_chế và nói không với chất nhựa dùng một lần ( dùng các bình thuỷ_tinh đựng nước thay_thế cho các chai nhựa trong các cuộc họp , vận_động tài_trợ bình nhựa dùng nhiều lần để phát cho cán_bộ giảng_viên , áp_dụng các chính_sách khuyến_khích hạn_chế dùng ly nhựa hay chai nhựa dùng một lần tại các canteen của trường ) ; Xây_dựng văn_hoá sống xanh : với các chương_trình làm tác_động đến sự thay_đổi nhận_thức hướng đến lối sống xanh ; các hoạt_động để thực_hiện lối sống xanh , theo thời_gian nhà_trường sẽ hình_thành Văn_hoá sống xanh trong nếp nghĩ , nếp làm   Xây_dựng không_gian học_tập và làm_việc xanh bằng sự đồng_hành của giảng_viên , sinh_viên : USSH ’ s garden - vườn học_tập là các chương_trình điển_hình khởi_đầu , thực_hiện tiết_kiệm điện , nước hướng tới dùng năng_lượng tái_tạo thay_thế trong tương_lai … Đặc_biệt , USSH ’ s Garden là một nội_dung quan_trọng của chương_trình ',\n",
              " ' Theo_dõi quá_trình xét_xử cho thấy , mấu_chốt của vụ án nằm ở bản hợp_đồng tổng thầu EPC số 33 được cho là ký sai nguyên_tắc giữa Tổng_công_ty Điện_lực Dầu_khí Việt_Nam ( PV Power ) và Tổng_công_ty Cổ_phần Xây_lắp Dầu_khí Việt_Nam ( PVC ) , sau đó là hợp_đồng 4194 chuyển_đổi chủ_thể từ PV Power thành PVN   Theo cáo_trạng , Vũ_Hồng_Chương với vai_trò Trưởng_ban QLDA Nhiệt_điện Thái_Bình 2 , biết rõ Hợp_đồng EPC số 33 được ký trái quy_định , việc lãnh_đạo PVN chỉ_đạo ban QLDA tạm_ứng cho PVC là trái quy_định song vẫn lập các thủ_tục chi tạm_ứng số tiền trên cho PVC , do_đó bị buộc_tội Cố_ý làm trái quy_định của Nhà_nước về kinh_tế gây hậu_quả nghiêm_trọng theo Khoản 3 Điều 165 Bộ luật_hình_sự 1999   Tuy_nhiên , tại phiên_toà , bị_cáo Vũ_Hồng_Chương khi tự bào_chữa cho mình đã lý_luận rằng , biết hợp_đồng có vấn_đề lớn nhưng do là đơn_vị cấp dưới , hạch_toán phụ_thuộc , phải chịu \" sức_ép ghê_gớm \" từ ông Đinh_La_Thăng , ông Nguyễn_Xuân_Sơn ( Phó tổng_giám_đốc PVN ) nên buộc phải ký các uỷ_nhiệm chi tạm_ứng tiền   Đồng_thời , mỗi cán_bộ phải có đủ bản_lĩnh và nhận_thức trước mỗi quyết_định điều_hành hay thừa_hành mệnh_lệnh cấp trên của mình chứ không_thể cứ làm sai rồi đổ lỗi do thừa_hành mệnh_lệnh cấp trên là thoát tội   Lại nói về phiên_toà trên , khi luật_sư đề_nghị hội_đồng xét_xử cho hỏi bị_cáo Đinh_La_Thăng câu_hỏi : Nếu ông Chương không chuyển tiền tạm_ứng thì có vi_phạm quy_định , điều_lệ của PVN không ? Ông Đinh_La_Thăng trả_lời rằng , việc thúc_ép tiến_độ là cần_thiết , tuy_nhiên , trong tất_cả các chỉ_đạo của Hội_đồng thành_viên thì Chủ_tịch , Ban Tổng_giám_đốc đều yêu_cầu các đơn_vị phải thực_hiện theo đúng quy_định của pháp_luật   Như_vậy , ngay cả người đứng đầu PVN cũng không chấp_nhận một cấp dưới nhắm_mắt thừa_hành mệnh_lệnh sai thì việc ông Chương được miễn hình_phạt ( nếu có ) chẳng khác nào buộc người_dân phải công_nhận những cán_bộ Nhà_nước yếu_kém bản_lĩnh , chỉ biết thừa_hành mệnh_lệnh như cái máy ',\n",
              " 'Báo Người lao_động đưa tin , vào_khoảng 0h ngày 15/1 , xe_kéo rơ - moóc mang BKS 78 R -001  Đến đoạn qua xã Hàm_Kiệm , huyện Hàm_Thuận_Nam ( Bình_Thuận ) , chiếc xe bất_ngờ leo lên dải_phân_cách rồi lật ngửa bên làn_đường ngược chiều   Rất may sau khi tai_nạn xảy ra , tài_xế và phụ xe đã kịp tông cửa tháo_chạy nên không ai thương_vong   Sau khi xảy ra tai_nạn , lực_lượng cảnh_sát PCCC Công_an tỉnh Bình_Thuận và nhiều phương_tiện gần đó đã đến hiện_trường dập tắt đám cháy   Xe_kéo rơ - moóc bị lật nằm chắn ngang đường khiến lưu_thông qua khu_vực vô_cùng khó_khăn   Đến sáng cùng ngày xe cẩu đã đến di_dời phương_tiện gặp nạn , giải_phóng hiện_trường ']"
            ]
          },
          "metadata": {
            "tags": []
          },
          "execution_count": 31
        }
      ]
    },
    {
      "cell_type": "markdown",
      "metadata": {
        "id": "j3WFOBNulAb6"
      },
      "source": [
        "Generate summary for 1 article"
      ]
    },
    {
      "cell_type": "code",
      "metadata": {
        "id": "68UmTt3sDxbx"
      },
      "source": [
        "text = article_list[0]"
      ],
      "execution_count": 19,
      "outputs": []
    },
    {
      "cell_type": "code",
      "metadata": {
        "id": "ZKlqb-OcMLxQ"
      },
      "source": [
        "sentence_score_list, sentence_list = score_article(text, 0)\n",
        "summary = generate_summary(sentence_score_list, sentence_list)"
      ],
      "execution_count": 23,
      "outputs": []
    },
    {
      "cell_type": "code",
      "metadata": {
        "id": "T94wu-A-Mdx-",
        "outputId": "e51ffb40-3253-42a6-b34a-2abb5c94f85b",
        "colab": {
          "base_uri": "https://localhost:8080/"
        }
      },
      "source": [
        "print(sentence_score_list)"
      ],
      "execution_count": 24,
      "outputs": [
        {
          "output_type": "stream",
          "text": [
            "[3.224226572838488, 0.5496848818895798, 0.6462591822038841, 2.321100918478459, 1.6626012719874939, 2.9014376141126155, 0.45680082034860303, 1.0318428104309212, 3.4153403064442553, 1.851687274739122, 1.1997173754962103, 2.430584418474682, 0.8600666451147057, 0.8684320615089924, 0.4853442476031815, 1.4122993860539312, 1.0743042145067372, 2.1358830844275154, 0.9658309311354398, 1.7644417288825582, 1.2331143787271774, 1.7379031508191103, 2.656990506623013, 1.2485257862888153, 1.1098945371549294, 0.7367191478168912, 2.013132050247676, 1.640991389616884, 2.009908483252617, 0.7549169975696446, 1.7517324557304546, 1.6622635875451823, 0.0736614735479328, 0.7345372726653336, 0.0]\n"
          ],
          "name": "stdout"
        }
      ]
    },
    {
      "cell_type": "code",
      "metadata": {
        "id": "s1VKhk1eNIBX",
        "outputId": "9a6ba6e0-1c78-47d2-d349-d14040735b74",
        "colab": {
          "base_uri": "https://localhost:8080/",
          "height": 409
        }
      },
      "source": [
        "generate_summary(sentence_score_array, sentence_list)"
      ],
      "execution_count": 26,
      "outputs": [
        {
          "output_type": "execute_result",
          "data": {
            "application/vnd.google.colaboratory.intrinsic+json": {
              "type": "string"
            },
            "text/plain": [
              "'Góp_phần vắt_óc suy_nghĩ để cứu đội_bóng \" Heo_Rừng \" của Thái_Lan , có_thể nói tỉ_phú công_nghệ Elon_Musk là một trong số những người được chú_ý hàng_đầu khi ông đề_xuất chế_tạo một chiếc tàu_ngầm mini đưa vào hang chở người ra   Theo đài BBC , trả_lời phỏng_vấn mới_đây , ông Narongsak_Osotthanakorn - người đứng đầu chiến_dịch giải_cứu , nói rằng ông trân_trọng sự giúp_đỡ của tỉ_phú Musk cùng đồng_đội , nhưng \" thiết_bị họ mang tới để hỗ_trợ không thực_tế với nhiệm_vụ của chúng_tôi \"   Trước đó , cùng ngày , tỉ_phú Musk thông_báo trên Twitter rằng ông đã có_mặt tại hang Tham_Luang cùng với chiếc tàu_ngầm mini nguyên_mẫu được chế_tạo để đưa 4 cầu_thủ nhí và 1 huấn_luyện_viên vẫn còn mắc_kẹt trong hang ra ngoài   Tướng Werachon_Sukondhapatipak - người_phát_ngôn của Thủ_tướng Prayuth_Chan - o - cha ngày 10-7 cho_biết Thủ_tướng Thái_Lan rất cảm_kích sáng_kiến của tỉ_phú Elon_Musk để giải_cứu đội_bóng \" Heo_Rừng \" và ông cực_kỳ cảm_động vì ông Musk đã đích_thân tới Chiang_Rai để giúp_đỡ   Ông Werachon tường_thuật lại rằng Thủ_tướng Prayuth được truyền cảm_hứng bởi sự tốt_bụng và quyết_tâm chân_thật của tỉ_phú Musk để hỗ_trợ hoạt_động giải_cứu khó_khăn như_vậy   Bày_tỏ lòng biết_ơn tới tỉ_phú Musk , tài_khoản Facebook của nhóm nhà địa_lý tham_gia khảo_sát hang Tham_Luang viết : \" Xin cảm_ơn Elon vì đã cung_cấp cho chúng_tôi nhiều thiết_bị và hướng_dẫn hữu_ích từ đội kỹ_thuật của ông   \" Elon_Musk , người mà cả thế_giới gọi là Người Sắt ngoài đời thực , đã đích_thân lặng_lẽ tới Thái_Lan để cho chúng_tôi một chiếc tàu ngầm giải_cứu đội_bóng Heo_Rừng   \" Cám_ơn ông rất nhiều , tỉ_phú Elon_Musk à ! \" là cách người dùng có tên @ Junkojang bày_tỏ sự biết_ơn tới vị tỉ_phú   Chúng_ta đã thấy Mark_Zuckerberg trong một quán pub ở Thonglor và giờ là Elon_Musk tới giúp đội_bóng Heo Rừng bên trong hang Tham_Luang ở Chiang_Rai \"   Bên cạnh những lời khen dành ông Musk , một_số người lại nói rằng việc vị tỉ_phú mang tàu_ngầm mini tới Thái_Lan chỉ là để PR bản_thân , khi hơn 1/2 số người mắc_kẹt đã được đưa ra ngoài   Trước khi đến hang Tham_Luang , tỉ_phú Elon_Musk đã có cuộc nói_chuyện với Thủ_tướng Thái_Lan Prayuth_Chan - o - cha ở sân_bay Mae_Fah_Luang của Chiang_Rai   Trong hai ngày 8 và 9-7 , lực_lượng cứu_hộ Thái_Lan đã hai lần vào hang Tham_Luang để đưa tổng_cộng 8 người trong tổng_số 13 thành_viên đội_bóng thiếu_niên Thái_Lan bị mắc_kẹt   Tỉ_phú Elon_Musk và chiếc tàu_ngầm mini được chế_tạo từ một tên_lửa quỹ_đạo của công_ty không_gian của ông - Ảnh : TWITTER '"
            ]
          },
          "metadata": {
            "tags": []
          },
          "execution_count": 26
        }
      ]
    },
    {
      "cell_type": "code",
      "metadata": {
        "id": "U45GC5ZSNiRk",
        "outputId": "e2e206f6-4817-471d-e5ed-3568295e8916",
        "colab": {
          "base_uri": "https://localhost:8080/"
        }
      },
      "source": [
        "len(article_list[0])"
      ],
      "execution_count": 27,
      "outputs": [
        {
          "output_type": "execute_result",
          "data": {
            "text/plain": [
              "4705"
            ]
          },
          "metadata": {
            "tags": []
          },
          "execution_count": 27
        }
      ]
    },
    {
      "cell_type": "code",
      "metadata": {
        "id": "zPaoJqYbkSqB",
        "outputId": "714286e7-821d-4dd4-d7f1-8238c127fa8d",
        "colab": {
          "base_uri": "https://localhost:8080/"
        }
      },
      "source": [
        "len(summary)"
      ],
      "execution_count": 28,
      "outputs": [
        {
          "output_type": "execute_result",
          "data": {
            "text/plain": [
              "2492"
            ]
          },
          "metadata": {
            "tags": []
          },
          "execution_count": 28
        }
      ]
    },
    {
      "cell_type": "code",
      "metadata": {
        "id": "qoFgkQCakUNc"
      },
      "source": [
        ""
      ],
      "execution_count": null,
      "outputs": []
    }
  ]
}