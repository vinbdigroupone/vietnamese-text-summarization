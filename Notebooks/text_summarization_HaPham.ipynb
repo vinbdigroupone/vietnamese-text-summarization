{
  "nbformat": 4,
  "nbformat_minor": 0,
  "metadata": {
    "accelerator": "GPU",
    "colab": {
      "name": "text_summarization1.ipynb",
      "provenance": [],
      "collapsed_sections": []
    },
    "kernelspec": {
      "display_name": "Python 3",
      "name": "python3"
    }
  },
  "cells": [
    {
      "cell_type": "markdown",
      "metadata": {
        "id": "cZvCZqCHhMTn"
      },
      "source": [
        "#**Test underthesea**"
      ]
    },
    {
      "cell_type": "code",
      "metadata": {
        "id": "zgWM_cRarxbJ",
        "outputId": "2c9db13a-7df0-4784-fa5a-76da9a832b59",
        "colab": {
          "base_uri": "https://localhost:8080/",
          "height": 632
        }
      },
      "source": [
        "!pip install underthesea "
      ],
      "execution_count": 42,
      "outputs": [
        {
          "output_type": "stream",
          "text": [
            "Collecting underthesea\n",
            "\u001b[?25l  Downloading https://files.pythonhosted.org/packages/20/22/1f5a4e4ae4dc318455cbbf2a154d557b28cc56437adce75583d2e22c38c3/underthesea-1.2.2-py3-none-any.whl (7.5MB)\n",
            "\u001b[K     |████████████████████████████████| 7.5MB 5.9MB/s \n",
            "\u001b[?25hCollecting unidecode\n",
            "\u001b[?25l  Downloading https://files.pythonhosted.org/packages/d0/42/d9edfed04228bacea2d824904cae367ee9efd05e6cce7ceaaedd0b0ad964/Unidecode-1.1.1-py2.py3-none-any.whl (238kB)\n",
            "\u001b[K     |████████████████████████████████| 245kB 52.0MB/s \n",
            "\u001b[?25hRequirement already satisfied: nltk in /usr/local/lib/python3.6/dist-packages (from underthesea) (3.2.5)\n",
            "Requirement already satisfied: requests in /usr/local/lib/python3.6/dist-packages (from underthesea) (2.23.0)\n",
            "Requirement already satisfied: joblib in /usr/local/lib/python3.6/dist-packages (from underthesea) (0.17.0)\n",
            "Requirement already satisfied: Click>=6.0 in /usr/local/lib/python3.6/dist-packages (from underthesea) (7.1.2)\n",
            "Requirement already satisfied: tqdm in /usr/local/lib/python3.6/dist-packages (from underthesea) (4.41.1)\n",
            "Requirement already satisfied: tabulate in /usr/local/lib/python3.6/dist-packages (from underthesea) (0.8.7)\n",
            "Collecting python-crfsuite>=0.9.6\n",
            "\u001b[?25l  Downloading https://files.pythonhosted.org/packages/95/99/869dde6dbf3e0d07a013c8eebfb0a3d30776334e0097f8432b631a9a3a19/python_crfsuite-0.9.7-cp36-cp36m-manylinux1_x86_64.whl (743kB)\n",
            "\u001b[K     |████████████████████████████████| 747kB 55.2MB/s \n",
            "\u001b[?25hCollecting scikit-learn<0.22,>=0.20\n",
            "\u001b[?25l  Downloading https://files.pythonhosted.org/packages/a0/c5/d2238762d780dde84a20b8c761f563fe882b88c5a5fb03c056547c442a19/scikit_learn-0.21.3-cp36-cp36m-manylinux1_x86_64.whl (6.7MB)\n",
            "\u001b[K     |████████████████████████████████| 6.7MB 59.6MB/s \n",
            "\u001b[?25hRequirement already satisfied: six in /usr/local/lib/python3.6/dist-packages (from nltk->underthesea) (1.15.0)\n",
            "Requirement already satisfied: certifi>=2017.4.17 in /usr/local/lib/python3.6/dist-packages (from requests->underthesea) (2020.6.20)\n",
            "Requirement already satisfied: chardet<4,>=3.0.2 in /usr/local/lib/python3.6/dist-packages (from requests->underthesea) (3.0.4)\n",
            "Requirement already satisfied: urllib3!=1.25.0,!=1.25.1,<1.26,>=1.21.1 in /usr/local/lib/python3.6/dist-packages (from requests->underthesea) (1.24.3)\n",
            "Requirement already satisfied: idna<3,>=2.5 in /usr/local/lib/python3.6/dist-packages (from requests->underthesea) (2.10)\n",
            "Requirement already satisfied: scipy>=0.17.0 in /usr/local/lib/python3.6/dist-packages (from scikit-learn<0.22,>=0.20->underthesea) (1.4.1)\n",
            "Requirement already satisfied: numpy>=1.11.0 in /usr/local/lib/python3.6/dist-packages (from scikit-learn<0.22,>=0.20->underthesea) (1.18.5)\n",
            "Installing collected packages: unidecode, python-crfsuite, scikit-learn, underthesea\n",
            "  Found existing installation: scikit-learn 0.22.2.post1\n",
            "    Uninstalling scikit-learn-0.22.2.post1:\n",
            "      Successfully uninstalled scikit-learn-0.22.2.post1\n",
            "Successfully installed python-crfsuite-0.9.7 scikit-learn-0.21.3 underthesea-1.2.2 unidecode-1.1.1\n"
          ],
          "name": "stdout"
        },
        {
          "output_type": "display_data",
          "data": {
            "application/vnd.colab-display-data+json": {
              "pip_warning": {
                "packages": [
                  "sklearn"
                ]
              }
            }
          },
          "metadata": {
            "tags": []
          }
        }
      ]
    },
    {
      "cell_type": "code",
      "metadata": {
        "id": "HJP8QNJNhCnE"
      },
      "source": [
        "from underthesea import sent_tokenize\n",
        "from underthesea import word_tokenize"
      ],
      "execution_count": 43,
      "outputs": []
    },
    {
      "cell_type": "code",
      "metadata": {
        "id": "VDhXNol2hixt"
      },
      "source": [
        "text = '''Hồi còn nhỏ, ngây ngô nghĩ rằng, một mối quan hệ, nếu bị khoảng cách chia xa, thể nào cũng sẽ tàn phai. Thế nhưng nếu không xa nhau, thì tình cảm cũng sẽ còn mãi. Thế là hồi đó, chia tay bạn bè cấp 2, tôi buồn hết 2 năm cấp 3. Cảm giác của một đứa không có gì bám víu giữa thành phố xa lạ nhưng lại không chịu chấp nhận một ai xung quanh. Riết rồi khó chia sẻ đến tận bây giờ. Vốn tôi nghĩ, thật tình những vấn đề của bản thân, chẳng ai hiểu nổi. Một đứa trẻ 15 tuổi, bảo là vấn đề to lớn như phá sản, tang tóc,... thật không phải. Nhưng vấn đề có nhỏ không? Đáp án là không! Thay đổi môi trường sống thật ra chỉ là giọt nước tràn li cho rất nhiều những vấn đề khác nhau, khó có lối ra, chỉ toàn nút thắt. Có chăng chỉ là giống sợi chỉ đỏ, khâu mà có nút chỗ nào, thì đành cắt đi khâu lại ở nút đó. Cứ thế bản thân vừa muốn kết nối, nhưng cũng tạo cho mình một rào cản khó có thể xóa bỏ. Nói là chia sẻ, nhưng chỉ dừng lại ở mặt chữ, là chia sẻ câu chuyện, trên nền chất liệu phong cách ngôn ngữ sinh hoạt, chứ lời nói chẳng có tí cảm xúc nào. Riết thành quen, bây giờ lời nói buông ra, cũng chẳng còn biết làm thế nào cho đằm thắm thứ cảm xúc đang bồn chồn muốn bộc phát trong tim. \n",
        "Lớn lên một chút, thôi thì môi trương thay đổi nhiều, chí ít đã quen những biến thiên hàng ngày của cuộc sống. Sống mà không có sự thay đổi, thì còn gọi gì là cuộc sống. Mãi bình an vui vẻ, chỉ có trên thiên đàng, mãi đau khổ sợ hãi, chỉ ở dưới địa ngục. Ba tầng trên thế gian, chắc nhân thế là hỗn loạn nhất! Bao nhiêu hỉ nộ ái ố đều phải kinh qua thì mới là người. Thế nhưng có lẽ cũng vì thế mà tôi vỡ òa, thật ra con người ta ở cạnh nhau mà lòng vẫn xa nhau được đấy thôi! Cái gọi là \"cô đơn trong chính mối quan hệ của mình\" thì giữa người nào cũng có. Người ta kết nối về mặt địa lí thì dễ dàng, chứ kết nối về mặt tâm hồn, e khó! Những con người của hôm nay, chúng tôi đối mặt nhau, ngồi cạnh nhau mà ngỡ là \"một vòng trái đất\". Người kia nghĩ gì, tôi không biết, cũng dần cảm thấy không còn muốn biết. Thành ra hai bên tự xây tường thành bao bọc cảm xúc. Bây giờ mình ôm nhau một cái được không? Để chất dẫn truyền thần kinh sinh ra làm ta hưng phấn? Tôi lại một lần nữa e khó! \n",
        "Bất cứ mối quan hệ nào, tôi cho rằng đều giống như 2 người đang đi trên dây. Khi người kia muốn tiến đến thì người còn lại phải đứng im và ngược lại, thành ra cứ mãi chệch nhịp. Còn nếu cả 2 cùng di chuyển được, thì phải có một cái gọi là \"ĐỒNG TÂM\". Suy nghĩ và cảm xúc cùng đồng điệu, chứ không cả 2 ngã nhào ngay! \n",
        "Nói chung suy đi xét lại, bí quyết để duy trì mối quan hệ tốt là gì? Không có quy luật nào cả. Làm sao mà để tất cả các phân số trên đời có chung mẫu số được? Vô lí. Rồi một người tiến một người lùi, cũng không xong, nếu muốn gần nhau hơn, chỉ có là cùng nhau hiểu về đối phương. Cái hiểu này không chỉ hiểu đối phương ở hiện tại, mà còn hiểu ở quá khứ. Từ đó mà chia sẻ và thấu hiểu. '''"
      ],
      "execution_count": 84,
      "outputs": []
    },
    {
      "cell_type": "code",
      "metadata": {
        "id": "IMwQxwMeij0x",
        "outputId": "d64b636e-d9ef-478d-88a2-4fecdf0f747d",
        "colab": {
          "base_uri": "https://localhost:8080/"
        }
      },
      "source": [
        "sentences = sent_tokenize(text)\n",
        "print(sentences)"
      ],
      "execution_count": 85,
      "outputs": [
        {
          "output_type": "stream",
          "text": [
            "['Hồi còn nhỏ, ngây ngô nghĩ rằng, một mối quan hệ, nếu bị khoảng cách chia xa, thể nào cũng sẽ tàn phai.', 'Thế nhưng nếu không xa nhau, thì tình cảm cũng sẽ còn mãi.', 'Thế là hồi đó, chia tay bạn bè cấp 2, tôi buồn hết 2 năm cấp 3.', 'Cảm giác của một đứa không có gì bám víu giữa thành phố xa lạ nhưng lại không chịu chấp nhận một ai xung quanh.', 'Riết rồi khó chia sẻ đến tận bây giờ.', 'Vốn tôi nghĩ, thật tình những vấn đề của bản thân, chẳng ai hiểu nổi.', 'Một đứa trẻ 15 tuổi, bảo là vấn đề to lớn như phá sản, tang tóc,... thật không phải.', 'Nhưng vấn đề có nhỏ không?', 'Đáp án là không!', 'Thay đổi môi trường sống thật ra chỉ là giọt nước tràn li cho rất nhiều những vấn đề khác nhau, khó có lối ra, chỉ toàn nút thắt.', 'Có chăng chỉ là giống sợi chỉ đỏ, khâu mà có nút chỗ nào, thì đành cắt đi khâu lại ở nút đó.', 'Cứ thế bản thân vừa muốn kết nối, nhưng cũng tạo cho mình một rào cản khó có thể xóa bỏ.', 'Nói là chia sẻ, nhưng chỉ dừng lại ở mặt chữ, là chia sẻ câu chuyện, trên nền chất liệu phong cách ngôn ngữ sinh hoạt, chứ lời nói chẳng có tí cảm xúc nào.', 'Riết thành quen, bây giờ lời nói buông ra, cũng chẳng còn biết làm thế nào cho đằm thắm thứ cảm xúc đang bồn chồn muốn bộc phát trong tim.', 'Lớn lên một chút, thôi thì môi trương thay đổi nhiều, chí ít đã quen những biến thiên hàng ngày của cuộc sống.', 'Sống mà không có sự thay đổi, thì còn gọi gì là cuộc sống.', 'Mãi bình an vui vẻ, chỉ có trên thiên đàng, mãi đau khổ sợ hãi, chỉ ở dưới địa ngục.', 'Ba tầng trên thế gian, chắc nhân thế là hỗn loạn nhất!', 'Bao nhiêu hỉ nộ ái ố đều phải kinh qua thì mới là người.', 'Thế nhưng có lẽ cũng vì thế mà tôi vỡ òa, thật ra con người ta ở cạnh nhau mà lòng vẫn xa nhau được đấy thôi!', 'Cái gọi là \"cô đơn trong chính mối quan hệ của mình\" thì giữa người nào cũng có.', 'Người ta kết nối về mặt địa lí thì dễ dàng, chứ kết nối về mặt tâm hồn, e khó!', 'Những con người của hôm nay, chúng tôi đối mặt nhau, ngồi cạnh nhau mà ngỡ là \"một vòng trái đất\".', 'Người kia nghĩ gì, tôi không biết, cũng dần cảm thấy không còn muốn biết.', 'Thành ra hai bên tự xây tường thành bao bọc cảm xúc.', 'Bây giờ mình ôm nhau một cái được không?', 'Để chất dẫn truyền thần kinh sinh ra làm ta hưng phấn?', 'Tôi lại một lần nữa e khó!', 'Bất cứ mối quan hệ nào, tôi cho rằng đều giống như 2 người đang đi trên dây.', 'Khi người kia muốn tiến đến thì người còn lại phải đứng im và ngược lại, thành ra cứ mãi chệch nhịp.', 'Còn nếu cả 2 cùng di chuyển được, thì phải có một cái gọi là \"ĐỒNG TÂM\".', 'Suy nghĩ và cảm xúc cùng đồng điệu, chứ không cả 2 ngã nhào ngay!', 'Nói chung suy đi xét lại, bí quyết để duy trì mối quan hệ tốt là gì?', 'Không có quy luật nào cả.', 'Làm sao mà để tất cả các phân số trên đời có chung mẫu số được?', 'Vô lí.', 'Rồi một người tiến một người lùi, cũng không xong, nếu muốn gần nhau hơn, chỉ có là cùng nhau hiểu về đối phương.', 'Cái hiểu này không chỉ hiểu đối phương ở hiện tại, mà còn hiểu ở quá khứ.', 'Từ đó mà chia sẻ và thấu hiểu.']\n"
          ],
          "name": "stdout"
        }
      ]
    },
    {
      "cell_type": "code",
      "metadata": {
        "id": "wSP_BrL7ipSj",
        "outputId": "12566683-0adc-43d1-e389-8c9c2a570a40",
        "colab": {
          "base_uri": "https://localhost:8080/",
          "height": 35
        }
      },
      "source": [
        "sentences[0]"
      ],
      "execution_count": 86,
      "outputs": [
        {
          "output_type": "execute_result",
          "data": {
            "application/vnd.google.colaboratory.intrinsic+json": {
              "type": "string"
            },
            "text/plain": [
              "'Hồi còn nhỏ, ngây ngô nghĩ rằng, một mối quan hệ, nếu bị khoảng cách chia xa, thể nào cũng sẽ tàn phai.'"
            ]
          },
          "metadata": {
            "tags": []
          },
          "execution_count": 86
        }
      ]
    },
    {
      "cell_type": "code",
      "metadata": {
        "id": "0DxgzMYsitfh",
        "outputId": "88fa56f5-8fcc-4742-f854-b8bcc16da7ec",
        "colab": {
          "base_uri": "https://localhost:8080/"
        }
      },
      "source": [
        "sentences_set = {}\n",
        "for sent in sentences:\n",
        "  sentences_set[sent] = 0\n",
        "print(sentences_set)"
      ],
      "execution_count": 87,
      "outputs": [
        {
          "output_type": "stream",
          "text": [
            "{'Hồi còn nhỏ, ngây ngô nghĩ rằng, một mối quan hệ, nếu bị khoảng cách chia xa, thể nào cũng sẽ tàn phai.': 0, 'Thế nhưng nếu không xa nhau, thì tình cảm cũng sẽ còn mãi.': 0, 'Thế là hồi đó, chia tay bạn bè cấp 2, tôi buồn hết 2 năm cấp 3.': 0, 'Cảm giác của một đứa không có gì bám víu giữa thành phố xa lạ nhưng lại không chịu chấp nhận một ai xung quanh.': 0, 'Riết rồi khó chia sẻ đến tận bây giờ.': 0, 'Vốn tôi nghĩ, thật tình những vấn đề của bản thân, chẳng ai hiểu nổi.': 0, 'Một đứa trẻ 15 tuổi, bảo là vấn đề to lớn như phá sản, tang tóc,... thật không phải.': 0, 'Nhưng vấn đề có nhỏ không?': 0, 'Đáp án là không!': 0, 'Thay đổi môi trường sống thật ra chỉ là giọt nước tràn li cho rất nhiều những vấn đề khác nhau, khó có lối ra, chỉ toàn nút thắt.': 0, 'Có chăng chỉ là giống sợi chỉ đỏ, khâu mà có nút chỗ nào, thì đành cắt đi khâu lại ở nút đó.': 0, 'Cứ thế bản thân vừa muốn kết nối, nhưng cũng tạo cho mình một rào cản khó có thể xóa bỏ.': 0, 'Nói là chia sẻ, nhưng chỉ dừng lại ở mặt chữ, là chia sẻ câu chuyện, trên nền chất liệu phong cách ngôn ngữ sinh hoạt, chứ lời nói chẳng có tí cảm xúc nào.': 0, 'Riết thành quen, bây giờ lời nói buông ra, cũng chẳng còn biết làm thế nào cho đằm thắm thứ cảm xúc đang bồn chồn muốn bộc phát trong tim.': 0, 'Lớn lên một chút, thôi thì môi trương thay đổi nhiều, chí ít đã quen những biến thiên hàng ngày của cuộc sống.': 0, 'Sống mà không có sự thay đổi, thì còn gọi gì là cuộc sống.': 0, 'Mãi bình an vui vẻ, chỉ có trên thiên đàng, mãi đau khổ sợ hãi, chỉ ở dưới địa ngục.': 0, 'Ba tầng trên thế gian, chắc nhân thế là hỗn loạn nhất!': 0, 'Bao nhiêu hỉ nộ ái ố đều phải kinh qua thì mới là người.': 0, 'Thế nhưng có lẽ cũng vì thế mà tôi vỡ òa, thật ra con người ta ở cạnh nhau mà lòng vẫn xa nhau được đấy thôi!': 0, 'Cái gọi là \"cô đơn trong chính mối quan hệ của mình\" thì giữa người nào cũng có.': 0, 'Người ta kết nối về mặt địa lí thì dễ dàng, chứ kết nối về mặt tâm hồn, e khó!': 0, 'Những con người của hôm nay, chúng tôi đối mặt nhau, ngồi cạnh nhau mà ngỡ là \"một vòng trái đất\".': 0, 'Người kia nghĩ gì, tôi không biết, cũng dần cảm thấy không còn muốn biết.': 0, 'Thành ra hai bên tự xây tường thành bao bọc cảm xúc.': 0, 'Bây giờ mình ôm nhau một cái được không?': 0, 'Để chất dẫn truyền thần kinh sinh ra làm ta hưng phấn?': 0, 'Tôi lại một lần nữa e khó!': 0, 'Bất cứ mối quan hệ nào, tôi cho rằng đều giống như 2 người đang đi trên dây.': 0, 'Khi người kia muốn tiến đến thì người còn lại phải đứng im và ngược lại, thành ra cứ mãi chệch nhịp.': 0, 'Còn nếu cả 2 cùng di chuyển được, thì phải có một cái gọi là \"ĐỒNG TÂM\".': 0, 'Suy nghĩ và cảm xúc cùng đồng điệu, chứ không cả 2 ngã nhào ngay!': 0, 'Nói chung suy đi xét lại, bí quyết để duy trì mối quan hệ tốt là gì?': 0, 'Không có quy luật nào cả.': 0, 'Làm sao mà để tất cả các phân số trên đời có chung mẫu số được?': 0, 'Vô lí.': 0, 'Rồi một người tiến một người lùi, cũng không xong, nếu muốn gần nhau hơn, chỉ có là cùng nhau hiểu về đối phương.': 0, 'Cái hiểu này không chỉ hiểu đối phương ở hiện tại, mà còn hiểu ở quá khứ.': 0, 'Từ đó mà chia sẻ và thấu hiểu.': 0}\n"
          ],
          "name": "stdout"
        }
      ]
    },
    {
      "cell_type": "code",
      "metadata": {
        "id": "1osjBIG7hc6v",
        "outputId": "bdb43a82-a6e3-4ee7-c9f8-eea0e2e449bc",
        "colab": {
          "base_uri": "https://localhost:8080/"
        }
      },
      "source": [
        "##Preprocessing\n",
        "\n",
        "#remove speacial character\n",
        "newtext = remove_special_character(str(text))\n",
        "print(newtext)\n",
        "#remove space\n",
        "newtext = re.sub(r'\\s+', ' ', newtext).strip()\n",
        "print(newtext)\n",
        "#convert to the standard unicode\n",
        "text = convert_unicode(text)\n"
      ],
      "execution_count": 88,
      "outputs": [
        {
          "output_type": "stream",
          "text": [
            "Hồi còn nhỏ ngây ngô nghĩ rằng một mối quan hệ nếu bị khoảng cách chia xa thể nào cũng sẽ tàn phai. Thế nhưng nếu không xa nhau thì tình cảm cũng sẽ còn mãi. Thế là hồi đó chia tay bạn bè cấp  tôi buồn hết  năm cấp . Cảm giác của một đứa không có gì bám víu giữa thành phố xa lạ nhưng lại không chịu chấp nhận một ai xung quanh. Riết rồi khó chia sẻ đến tận bây giờ. Vốn tôi nghĩ thật tình những vấn đề của bản thân chẳng ai hiểu nổi. Một đứa trẻ  tuổi bảo là vấn đề to lớn như phá sản tang tóc... thật không phải. Nhưng vấn đề có nhỏ không? Đáp án là không Thay đổi môi trường sống thật ra chỉ là giọt nước tràn li cho rất nhiều những vấn đề khác nhau khó có lối ra chỉ toàn nút thắt. Có chăng chỉ là giống sợi chỉ đỏ khâu mà có nút chỗ nào thì đành cắt đi khâu lại ở nút đó. Cứ thế bản thân vừa muốn kết nối nhưng cũng tạo cho mình một rào cản khó có thể xóa bỏ. Nói là chia sẻ nhưng chỉ dừng lại ở mặt chữ là chia sẻ câu chuyện trên nền chất liệu phong cách ngôn ngữ sinh hoạt chứ lời nói chẳng có tí cảm xúc nào. Riết thành quen bây giờ lời nói buông ra cũng chẳng còn biết làm thế nào cho đằm thắm thứ cảm xúc đang bồn chồn muốn bộc phát trong tim. Lớn lên một chút thôi thì môi trương thay đổi nhiều chí ít đã quen những biến thiên hàng ngày của cuộc sống. Sống mà không có sự thay đổi thì còn gọi gì là cuộc sống. Mãi bình an vui vẻ chỉ có trên thiên đàng mãi đau khổ sợ hãi chỉ ở dưới địa ngục. Ba tầng trên thế gian chắc nhân thế là hỗn loạn nhất Bao nhiêu hỉ nộ ái ố đều phải kinh qua thì mới là người. Thế nhưng có lẽ cũng vì thế mà tôi vỡ òa thật ra con người ta ở cạnh nhau mà lòng vẫn xa nhau được đấy thôi Cái gọi là cô đơn trong chính mối quan hệ của mình thì giữa người nào cũng có. Người ta kết nối về mặt địa lí thì dễ dàng chứ kết nối về mặt tâm hồn e khó Những con người của hôm nay chúng tôi đối mặt nhau ngồi cạnh nhau mà ngỡ là một vòng trái đất. Người kia nghĩ gì tôi không biết cũng dần cảm thấy không còn muốn biết. Thành ra hai bên tự xây tường thành bao bọc cảm xúc. Bây giờ mình ôm nhau một cái được không? Để chất dẫn truyền thần kinh sinh ra làm ta hưng phấn? Tôi lại một lần nữa e khó Bất cứ mối quan hệ nào tôi cho rằng đều giống như  người đang đi trên dây. Khi người kia muốn tiến đến thì người còn lại phải đứng im và ngược lại thành ra cứ mãi chệch nhịp. Còn nếu cả  cùng di chuyển được thì phải có một cái gọi là ĐỒNG TÂM. Suy nghĩ và cảm xúc cùng đồng điệu chứ không cả  ngã nhào ngay Nói chung suy đi xét lại bí quyết để duy trì mối quan hệ tốt là gì? Không có quy luật nào cả. Làm sao mà để tất cả các phân số trên đời có chung mẫu số được? Vô lí. Rồi một người tiến một người lùi cũng không xong nếu muốn gần nhau hơn chỉ có là cùng nhau hiểu về đối phương. Cái hiểu này không chỉ hiểu đối phương ở hiện tại mà còn hiểu ở quá khứ. Từ đó mà chia sẻ và thấu hiểu. \n",
            "Hồi còn nhỏ ngây ngô nghĩ rằng một mối quan hệ nếu bị khoảng cách chia xa thể nào cũng sẽ tàn phai. Thế nhưng nếu không xa nhau thì tình cảm cũng sẽ còn mãi. Thế là hồi đó chia tay bạn bè cấp tôi buồn hết năm cấp . Cảm giác của một đứa không có gì bám víu giữa thành phố xa lạ nhưng lại không chịu chấp nhận một ai xung quanh. Riết rồi khó chia sẻ đến tận bây giờ. Vốn tôi nghĩ thật tình những vấn đề của bản thân chẳng ai hiểu nổi. Một đứa trẻ tuổi bảo là vấn đề to lớn như phá sản tang tóc... thật không phải. Nhưng vấn đề có nhỏ không? Đáp án là không Thay đổi môi trường sống thật ra chỉ là giọt nước tràn li cho rất nhiều những vấn đề khác nhau khó có lối ra chỉ toàn nút thắt. Có chăng chỉ là giống sợi chỉ đỏ khâu mà có nút chỗ nào thì đành cắt đi khâu lại ở nút đó. Cứ thế bản thân vừa muốn kết nối nhưng cũng tạo cho mình một rào cản khó có thể xóa bỏ. Nói là chia sẻ nhưng chỉ dừng lại ở mặt chữ là chia sẻ câu chuyện trên nền chất liệu phong cách ngôn ngữ sinh hoạt chứ lời nói chẳng có tí cảm xúc nào. Riết thành quen bây giờ lời nói buông ra cũng chẳng còn biết làm thế nào cho đằm thắm thứ cảm xúc đang bồn chồn muốn bộc phát trong tim. Lớn lên một chút thôi thì môi trương thay đổi nhiều chí ít đã quen những biến thiên hàng ngày của cuộc sống. Sống mà không có sự thay đổi thì còn gọi gì là cuộc sống. Mãi bình an vui vẻ chỉ có trên thiên đàng mãi đau khổ sợ hãi chỉ ở dưới địa ngục. Ba tầng trên thế gian chắc nhân thế là hỗn loạn nhất Bao nhiêu hỉ nộ ái ố đều phải kinh qua thì mới là người. Thế nhưng có lẽ cũng vì thế mà tôi vỡ òa thật ra con người ta ở cạnh nhau mà lòng vẫn xa nhau được đấy thôi Cái gọi là cô đơn trong chính mối quan hệ của mình thì giữa người nào cũng có. Người ta kết nối về mặt địa lí thì dễ dàng chứ kết nối về mặt tâm hồn e khó Những con người của hôm nay chúng tôi đối mặt nhau ngồi cạnh nhau mà ngỡ là một vòng trái đất. Người kia nghĩ gì tôi không biết cũng dần cảm thấy không còn muốn biết. Thành ra hai bên tự xây tường thành bao bọc cảm xúc. Bây giờ mình ôm nhau một cái được không? Để chất dẫn truyền thần kinh sinh ra làm ta hưng phấn? Tôi lại một lần nữa e khó Bất cứ mối quan hệ nào tôi cho rằng đều giống như người đang đi trên dây. Khi người kia muốn tiến đến thì người còn lại phải đứng im và ngược lại thành ra cứ mãi chệch nhịp. Còn nếu cả cùng di chuyển được thì phải có một cái gọi là ĐỒNG TÂM. Suy nghĩ và cảm xúc cùng đồng điệu chứ không cả ngã nhào ngay Nói chung suy đi xét lại bí quyết để duy trì mối quan hệ tốt là gì? Không có quy luật nào cả. Làm sao mà để tất cả các phân số trên đời có chung mẫu số được? Vô lí. Rồi một người tiến một người lùi cũng không xong nếu muốn gần nhau hơn chỉ có là cùng nhau hiểu về đối phương. Cái hiểu này không chỉ hiểu đối phương ở hiện tại mà còn hiểu ở quá khứ. Từ đó mà chia sẻ và thấu hiểu.\n"
          ],
          "name": "stdout"
        }
      ]
    },
    {
      "cell_type": "code",
      "metadata": {
        "id": "cKoytXutjS1q",
        "outputId": "c5e01b77-7708-46cb-a218-60a3cd0a6698",
        "colab": {
          "base_uri": "https://localhost:8080/"
        }
      },
      "source": [
        "s2 = [word_tokenize(sent, format='text') for sent in sentences]\n",
        "print(s2)"
      ],
      "execution_count": 89,
      "outputs": [
        {
          "output_type": "stream",
          "text": [
            "['Hồi còn nhỏ , ngây_ngô nghĩ rằng , một mối quan_hệ , nếu bị khoảng_cách chia xa , thể nào cũng sẽ tàn_phai .', 'Thế nhưng nếu không xa nhau , thì tình_cảm cũng sẽ còn mãi .', 'Thế_là hồi đó , chia_tay bạn_bè cấp 2 , tôi buồn hết 2 năm cấp 3 .', 'Cảm_giác của một đứa không có gì bám_víu giữa thành_phố xa_lạ nhưng lại không chịu chấp_nhận một ai xung_quanh .', 'Riết rồi khó chia_sẻ đến tận bây_giờ .', 'Vốn tôi nghĩ , thật_tình những vấn_đề của bản_thân , chẳng ai hiểu nổi .', 'Một đứa trẻ 15 tuổi , bảo là vấn_đề to_lớn như phá_sản , tang_tóc , ... thật không phải .', 'Nhưng vấn_đề có nhỏ không ?', 'Đáp_án là không !', 'Thay_đổi môi_trường sống thật_ra chỉ là giọt nước tràn li cho rất nhiều những vấn_đề khác nhau , khó có lối ra , chỉ toàn nút thắt .', 'Có_chăng chỉ là giống sợi chỉ đỏ , khâu mà có nút chỗ nào , thì đành cắt đi khâu lại ở nút đó .', 'Cứ thế bản_thân vừa muốn kết_nối , nhưng cũng tạo cho mình một rào_cản khó có_thể xóa bỏ .', 'Nói là chia_sẻ , nhưng chỉ dừng lại ở mặt_chữ , là chia_sẻ câu_chuyện , trên nền chất_liệu phong_cách ngôn_ngữ sinh_hoạt , chứ lời_nói chẳng có tí cảm_xúc nào .', 'Riết thành quen , bây_giờ lời_nói buông ra , cũng chẳng còn biết làm thế_nào cho đằm_thắm thứ cảm_xúc đang bồn_chồn muốn bộc_phát trong tim .', 'Lớn lên một_chút , thôi thì môi trương thay_đổi nhiều , chí_ít đã quen những biến_thiên hàng ngày của cuộc_sống .', 'Sống mà không có sự thay_đổi , thì còn gọi gì là cuộc_sống .', 'Mãi bình_an vui_vẻ , chỉ có trên thiên_đàng , mãi đau_khổ sợ_hãi , chỉ ở dưới địa_ngục .', 'Ba_tầng trên thế_gian , chắc nhân_thế là hỗn_loạn nhất !', 'Bao_nhiêu hỉ nộ ái ố đều phải kinh_qua thì mới là người .', 'Thế nhưng có_lẽ cũng vì_thế mà tôi vỡ òa , thật_ra con người_ta ở cạnh nhau mà lòng vẫn xa nhau được đấy thôi !', 'Cái gọi là \" cô_đơn trong chính mối quan_hệ của mình \" thì giữa người nào cũng có .', 'Người_ta kết_nối về mặt địa_lí thì dễ_dàng , chứ kết_nối về mặt tâm_hồn , e khó !', 'Những con_người của hôm_nay , chúng_tôi đối_mặt nhau , ngồi cạnh nhau mà ngỡ là \" một vòng trái_đất \" .', 'Người kia nghĩ gì , tôi không biết , cũng dần cảm_thấy không còn muốn biết .', 'Thành_ra hai bên tự xây tường thành bao_bọc cảm_xúc .', 'Bây_giờ mình ôm nhau một cái được không ?', 'Để chất dẫn_truyền thần_kinh sinh ra làm ta hưng_phấn ?', 'Tôi lại một lần nữa e khó !', 'Bất_cứ mối quan_hệ nào , tôi cho rằng đều giống như 2 người đang đi trên dây .', 'Khi người kia muốn tiến đến thì người còn lại phải đứng im và ngược_lại , thành ra cứ mãi chệch nhịp .', 'Còn nếu cả 2 cùng di_chuyển được , thì phải có một cái gọi_là \" ĐỒNG_TÂM \" .', 'Suy_nghĩ và cảm_xúc cùng đồng_điệu , chứ không cả 2 ngã nhào ngay !', 'Nói_chung suy đi xét_lại , bí_quyết để duy_trì mối quan_hệ tốt là gì ?', 'Không có quy_luật nào cả .', 'Làm_sao mà để tất_cả các phân_số trên đời có chung mẫu_số được ?', 'Vô_lí .', 'Rồi một người tiến một người lùi , cũng không xong , nếu muốn gần nhau hơn , chỉ có là cùng nhau hiểu về đối_phương .', 'Cái hiểu này không chỉ hiểu đối_phương ở hiện_tại , mà_còn hiểu ở quá_khứ .', 'Từ đó mà chia_sẻ và thấu_hiểu .']\n"
          ],
          "name": "stdout"
        }
      ]
    },
    {
      "cell_type": "code",
      "metadata": {
        "id": "19Ar8gVQiTfQ",
        "outputId": "e8e3ebd7-0556-4197-ca17-1fed524970ff",
        "colab": {
          "base_uri": "https://localhost:8080/"
        }
      },
      "source": [
        " from sklearn.feature_extraction.text import CountVectorizer\n",
        "from sklearn.feature_extraction.text import TfidfTransformer\n",
        "\n",
        "vectorizer = CountVectorizer()\n",
        "tfidf_transformer = TfidfTransformer()\n",
        "\n",
        "vectorized = vectorizer.fit_transform(s2)\n",
        "print(vectorizer.get_feature_names())\n",
        "print(vectorized)\n",
        "score = tfidf_transformer.fit_transform(vectorized)\n",
        "print(score)\n"
      ],
      "execution_count": 90,
      "outputs": [
        {
          "output_type": "stream",
          "text": [
            "['15', 'ai', 'ba_tầng', 'bao_bọc', 'bao_nhiêu', 'biến_thiên', 'biết', 'buông', 'buồn', 'bám_víu', 'bây_giờ', 'bên', 'bình_an', 'bí_quyết', 'bạn_bè', 'bản_thân', 'bảo', 'bất_cứ', 'bị', 'bỏ', 'bồn_chồn', 'bộc_phát', 'chia', 'chia_sẻ', 'chia_tay', 'cho', 'chung', 'chí_ít', 'chính', 'chúng_tôi', 'chấp_nhận', 'chất', 'chất_liệu', 'chắc', 'chẳng', 'chệch', 'chỉ', 'chịu', 'chỗ', 'chứ', 'con', 'con_người', 'cuộc_sống', 'các', 'cái', 'câu_chuyện', 'còn', 'có', 'có_chăng', 'có_lẽ', 'có_thể', 'cô_đơn', 'cùng', 'cũng', 'cạnh', 'cả', 'cảm_giác', 'cảm_thấy', 'cảm_xúc', 'cấp', 'cắt', 'của', 'cứ', 'di_chuyển', 'duy_trì', 'dây', 'dưới', 'dần', 'dẫn_truyền', 'dễ_dàng', 'dừng', 'giọt', 'giống', 'giữa', 'gì', 'gần', 'gọi', 'gọi_là', 'hai', 'hiểu', 'hiện_tại', 'hàng', 'hôm_nay', 'hơn', 'hưng_phấn', 'hết', 'hỉ', 'hồi', 'hỗn_loạn', 'im', 'khi', 'khoảng_cách', 'khác', 'khâu', 'khó', 'không', 'kia', 'kinh_qua', 'kết_nối', 'li', 'là', 'làm', 'làm_sao', 'lên', 'lòng', 'lùi', 'lại', 'lần', 'lối', 'lớn', 'lời_nói', 'muốn', 'mà', 'mà_còn', 'mãi', 'mình', 'môi', 'môi_trường', 'mẫu_số', 'mặt', 'mặt_chữ', 'mối', 'một', 'một_chút', 'mới', 'ngay', 'nghĩ', 'ngày', 'ngây_ngô', 'ngã', 'ngôn_ngữ', 'người', 'người_ta', 'ngược_lại', 'ngồi', 'ngỡ', 'nhau', 'nhiều', 'nhào', 'nhân_thế', 'như', 'nhưng', 'nhất', 'nhịp', 'nhỏ', 'những', 'nào', 'này', 'nói', 'nói_chung', 'nút', 'năm', 'nước', 'nếu', 'nền', 'nổi', 'nộ', 'nữa', 'phong_cách', 'phá_sản', 'phân_số', 'phải', 'quan_hệ', 'quen', 'quy_luật', 'quá_khứ', 'ra', 'riết', 'rào_cản', 'rất', 'rằng', 'rồi', 'sinh', 'sinh_hoạt', 'suy', 'suy_nghĩ', 'sẽ', 'sống', 'sợ_hãi', 'sợi', 'sự', 'ta', 'tang_tóc', 'thay_đổi', 'thiên_đàng', 'thành', 'thành_phố', 'thành_ra', 'thì', 'thôi', 'thấu_hiểu', 'thần_kinh', 'thật', 'thật_ra', 'thật_tình', 'thắt', 'thế', 'thế_gian', 'thế_là', 'thế_nào', 'thể', 'thứ', 'tim', 'tiến', 'to_lớn', 'toàn', 'trong', 'tràn', 'trái_đất', 'trên', 'trương', 'trẻ', 'tuổi', 'tàn_phai', 'tâm_hồn', 'tình_cảm', 'tí', 'tôi', 'tường', 'tạo', 'tất_cả', 'tận', 'tốt', 'từ', 'tự', 'vui_vẻ', 'và', 'vì_thế', 'vòng', 'vô_lí', 'vấn_đề', 'vẫn', 'về', 'vốn', 'vỡ', 'vừa', 'xa', 'xa_lạ', 'xong', 'xung_quanh', 'xây', 'xét_lại', 'xóa', 'ái', 'òa', 'ôm', 'đang', 'đau_khổ', 'đi', 'đành', 'đáp_án', 'đã', 'đó', 'được', 'đấy', 'đằm_thắm', 'đến', 'đều', 'để', 'địa_lí', 'địa_ngục', 'đỏ', 'đối_mặt', 'đối_phương', 'đồng_tâm', 'đồng_điệu', 'đời', 'đứa', 'đứng']\n",
            "  (0, 87)\t1\n",
            "  (0, 46)\t1\n",
            "  (0, 144)\t1\n",
            "  (0, 128)\t1\n",
            "  (0, 126)\t1\n",
            "  (0, 170)\t1\n",
            "  (0, 122)\t1\n",
            "  (0, 121)\t1\n",
            "  (0, 162)\t1\n",
            "  (0, 153)\t1\n",
            "  (0, 18)\t1\n",
            "  (0, 91)\t1\n",
            "  (0, 22)\t1\n",
            "  (0, 236)\t1\n",
            "  (0, 200)\t1\n",
            "  (0, 146)\t1\n",
            "  (0, 53)\t1\n",
            "  (0, 176)\t1\n",
            "  (0, 213)\t1\n",
            "  (1, 46)\t1\n",
            "  (1, 153)\t1\n",
            "  (1, 236)\t1\n",
            "  (1, 53)\t1\n",
            "  (1, 176)\t1\n",
            "  (1, 196)\t1\n",
            "  :\t:\n",
            "  (36, 111)\t1\n",
            "  (36, 131)\t2\n",
            "  (36, 232)\t1\n",
            "  (36, 203)\t1\n",
            "  (36, 52)\t1\n",
            "  (36, 105)\t1\n",
            "  (36, 238)\t1\n",
            "  (36, 75)\t1\n",
            "  (36, 83)\t1\n",
            "  (36, 263)\t1\n",
            "  (37, 95)\t1\n",
            "  (37, 79)\t3\n",
            "  (37, 36)\t1\n",
            "  (37, 44)\t1\n",
            "  (37, 263)\t1\n",
            "  (37, 147)\t1\n",
            "  (37, 80)\t1\n",
            "  (37, 113)\t1\n",
            "  (37, 165)\t1\n",
            "  (38, 252)\t1\n",
            "  (38, 23)\t1\n",
            "  (38, 112)\t1\n",
            "  (38, 226)\t1\n",
            "  (38, 223)\t1\n",
            "  (38, 190)\t1\n",
            "  (0, 236)\t0.22073512682824278\n",
            "  (0, 213)\t0.26706305676897607\n",
            "  (0, 200)\t0.26706305676897607\n",
            "  (0, 176)\t0.23996295501761022\n",
            "  (0, 170)\t0.23996295501761022\n",
            "  (0, 162)\t0.20582086460234728\n",
            "  (0, 153)\t0.20582086460234728\n",
            "  (0, 146)\t0.1833320445618519\n",
            "  (0, 144)\t0.23996295501761022\n",
            "  (0, 128)\t0.26706305676897607\n",
            "  (0, 126)\t0.22073512682824278\n",
            "  (0, 122)\t0.159492934661614\n",
            "  (0, 121)\t0.20582086460234728\n",
            "  (0, 91)\t0.26706305676897607\n",
            "  (0, 87)\t0.23996295501761022\n",
            "  (0, 53)\t0.16653492332551098\n",
            "  (0, 46)\t0.17440719688750944\n",
            "  (0, 22)\t0.26706305676897607\n",
            "  (0, 18)\t0.26706305676897607\n",
            "  (1, 236)\t0.31585134545219934\n",
            "  (1, 215)\t0.382142285249841\n",
            "  (1, 196)\t0.31585134545219934\n",
            "  (1, 188)\t0.22821948969720998\n",
            "  (1, 176)\t0.3433645713306569\n",
            "  (1, 153)\t0.2945104294948517\n",
            "  :\t:\n",
            "  (36, 105)\t0.24529483223652035\n",
            "  (36, 100)\t0.13038638253835128\n",
            "  (36, 95)\t0.13038638253835128\n",
            "  (36, 83)\t0.24529483223652035\n",
            "  (36, 79)\t0.20274307708115297\n",
            "  (36, 75)\t0.24529483223652035\n",
            "  (36, 53)\t0.15296071486963686\n",
            "  (36, 52)\t0.20274307708115297\n",
            "  (36, 47)\t0.13038638253835128\n",
            "  (36, 36)\t0.16838870811427709\n",
            "  (37, 263)\t0.25616351097756296\n",
            "  (37, 165)\t0.2850932147810923\n",
            "  (37, 147)\t0.2850932147810923\n",
            "  (37, 113)\t0.2850932147810923\n",
            "  (37, 95)\t0.15154119890179044\n",
            "  (37, 80)\t0.2850932147810923\n",
            "  (37, 79)\t0.7069126784205174\n",
            "  (37, 44)\t0.2197163945789284\n",
            "  (37, 36)\t0.19570929273734158\n",
            "  (38, 252)\t0.38873629336898935\n",
            "  (38, 226)\t0.38873629336898935\n",
            "  (38, 223)\t0.4703243397456416\n",
            "  (38, 190)\t0.4703243397456416\n",
            "  (38, 112)\t0.32286578254573506\n",
            "  (38, 23)\t0.38873629336898935\n"
          ],
          "name": "stdout"
        }
      ]
    },
    {
      "cell_type": "code",
      "metadata": {
        "id": "nb3_TfGrkKL7",
        "outputId": "d978505b-5f1e-449b-a27c-c05dc95df2c0",
        "colab": {
          "base_uri": "https://localhost:8080/"
        }
      },
      "source": [
        "import scipy\n",
        "score = scipy.sparse.coo_matrix(score)\n",
        "\n",
        "sentences_score = score.sum(axis=1)\n",
        "print(sentences_score)"
      ],
      "execution_count": 91,
      "outputs": [
        {
          "output_type": "stream",
          "text": [
            "[[4.30493011]\n",
            " [3.41143679]\n",
            " [3.01035163]\n",
            " [4.05922443]\n",
            " [2.63475217]\n",
            " [3.4388136 ]\n",
            " [3.796264  ]\n",
            " [2.18971139]\n",
            " [1.64911319]\n",
            " [4.80611573]\n",
            " [3.94047529]\n",
            " [4.07020295]\n",
            " [4.56139525]\n",
            " [4.75695178]\n",
            " [4.20957245]\n",
            " [3.38362658]\n",
            " [3.20071335]\n",
            " [2.78109422]\n",
            " [3.25089046]\n",
            " [4.38652593]\n",
            " [3.92925888]\n",
            " [2.92578858]\n",
            " [3.77838   ]\n",
            " [3.27620187]\n",
            " [2.98826054]\n",
            " [2.7825305 ]\n",
            " [2.98796717]\n",
            " [2.4034317 ]\n",
            " [3.84233799]\n",
            " [4.39657422]\n",
            " [3.53992741]\n",
            " [3.27468787]\n",
            " [3.41805434]\n",
            " [2.16853519]\n",
            " [3.40958012]\n",
            " [1.        ]\n",
            " [4.31422529]\n",
            " [2.67041593]\n",
            " [2.42972334]]\n"
          ],
          "name": "stdout"
        }
      ]
    },
    {
      "cell_type": "code",
      "metadata": {
        "id": "IjZrV7bPki-a",
        "outputId": "0e61cfc7-2be3-4261-d916-3b471294935d",
        "colab": {
          "base_uri": "https://localhost:8080/"
        }
      },
      "source": [
        "for s, score in zip(sentences_set, sentences_score):\n",
        "  sentences_set[s] = score.item()\n",
        "\n",
        "print(sentences_set)"
      ],
      "execution_count": 92,
      "outputs": [
        {
          "output_type": "stream",
          "text": [
            "{'Hồi còn nhỏ, ngây ngô nghĩ rằng, một mối quan hệ, nếu bị khoảng cách chia xa, thể nào cũng sẽ tàn phai.': 4.304930107584312, 'Thế nhưng nếu không xa nhau, thì tình cảm cũng sẽ còn mãi.': 3.4114367917024335, 'Thế là hồi đó, chia tay bạn bè cấp 2, tôi buồn hết 2 năm cấp 3.': 3.010351632807835, 'Cảm giác của một đứa không có gì bám víu giữa thành phố xa lạ nhưng lại không chịu chấp nhận một ai xung quanh.': 4.059224431748302, 'Riết rồi khó chia sẻ đến tận bây giờ.': 2.6347521665936293, 'Vốn tôi nghĩ, thật tình những vấn đề của bản thân, chẳng ai hiểu nổi.': 3.4388135972965457, 'Một đứa trẻ 15 tuổi, bảo là vấn đề to lớn như phá sản, tang tóc,... thật không phải.': 3.796264003291715, 'Nhưng vấn đề có nhỏ không?': 2.189711391119898, 'Đáp án là không!': 1.6491131894581783, 'Thay đổi môi trường sống thật ra chỉ là giọt nước tràn li cho rất nhiều những vấn đề khác nhau, khó có lối ra, chỉ toàn nút thắt.': 4.806115729992343, 'Có chăng chỉ là giống sợi chỉ đỏ, khâu mà có nút chỗ nào, thì đành cắt đi khâu lại ở nút đó.': 3.940475289207144, 'Cứ thế bản thân vừa muốn kết nối, nhưng cũng tạo cho mình một rào cản khó có thể xóa bỏ.': 4.070202949788071, 'Nói là chia sẻ, nhưng chỉ dừng lại ở mặt chữ, là chia sẻ câu chuyện, trên nền chất liệu phong cách ngôn ngữ sinh hoạt, chứ lời nói chẳng có tí cảm xúc nào.': 4.561395246466905, 'Riết thành quen, bây giờ lời nói buông ra, cũng chẳng còn biết làm thế nào cho đằm thắm thứ cảm xúc đang bồn chồn muốn bộc phát trong tim.': 4.756951775771015, 'Lớn lên một chút, thôi thì môi trương thay đổi nhiều, chí ít đã quen những biến thiên hàng ngày của cuộc sống.': 4.209572450306545, 'Sống mà không có sự thay đổi, thì còn gọi gì là cuộc sống.': 3.3836265807551436, 'Mãi bình an vui vẻ, chỉ có trên thiên đàng, mãi đau khổ sợ hãi, chỉ ở dưới địa ngục.': 3.200713345597517, 'Ba tầng trên thế gian, chắc nhân thế là hỗn loạn nhất!': 2.7810942234335303, 'Bao nhiêu hỉ nộ ái ố đều phải kinh qua thì mới là người.': 3.250890458320058, 'Thế nhưng có lẽ cũng vì thế mà tôi vỡ òa, thật ra con người ta ở cạnh nhau mà lòng vẫn xa nhau được đấy thôi!': 4.386525931517709, 'Cái gọi là \"cô đơn trong chính mối quan hệ của mình\" thì giữa người nào cũng có.': 3.929258880360538, 'Người ta kết nối về mặt địa lí thì dễ dàng, chứ kết nối về mặt tâm hồn, e khó!': 2.925788575911546, 'Những con người của hôm nay, chúng tôi đối mặt nhau, ngồi cạnh nhau mà ngỡ là \"một vòng trái đất\".': 3.778380003737304, 'Người kia nghĩ gì, tôi không biết, cũng dần cảm thấy không còn muốn biết.': 3.2762018722762263, 'Thành ra hai bên tự xây tường thành bao bọc cảm xúc.': 2.9882605429033697, 'Bây giờ mình ôm nhau một cái được không?': 2.7825305026884357, 'Để chất dẫn truyền thần kinh sinh ra làm ta hưng phấn?': 2.987967169572882, 'Tôi lại một lần nữa e khó!': 2.403431700940227, 'Bất cứ mối quan hệ nào, tôi cho rằng đều giống như 2 người đang đi trên dây.': 3.8423379932034574, 'Khi người kia muốn tiến đến thì người còn lại phải đứng im và ngược lại, thành ra cứ mãi chệch nhịp.': 4.396574220044708, 'Còn nếu cả 2 cùng di chuyển được, thì phải có một cái gọi là \"ĐỒNG TÂM\".': 3.5399274137212435, 'Suy nghĩ và cảm xúc cùng đồng điệu, chứ không cả 2 ngã nhào ngay!': 3.274687873494276, 'Nói chung suy đi xét lại, bí quyết để duy trì mối quan hệ tốt là gì?': 3.4180543374424888, 'Không có quy luật nào cả.': 2.1685351920354963, 'Làm sao mà để tất cả các phân số trên đời có chung mẫu số được?': 3.4095801180736443, 'Vô lí.': 1.0, 'Rồi một người tiến một người lùi, cũng không xong, nếu muốn gần nhau hơn, chỉ có là cùng nhau hiểu về đối phương.': 4.314225291181788, 'Cái hiểu này không chỉ hiểu đối phương ở hiện tại, mà còn hiểu ở quá khứ.': 2.6704159347405096, 'Từ đó mà chia sẻ và thấu hiểu.': 2.429723342143986}\n"
          ],
          "name": "stdout"
        }
      ]
    },
    {
      "cell_type": "code",
      "metadata": {
        "id": "ydyurdcYmv7j",
        "outputId": "82055c35-52ed-433e-ce2d-3a4878993324",
        "colab": {
          "base_uri": "https://localhost:8080/"
        }
      },
      "source": [
        "print(sentences_score.mean())\n"
      ],
      "execution_count": 93,
      "outputs": [
        {
          "output_type": "stream",
          "text": [
            "3.3686677501854083\n"
          ],
          "name": "stdout"
        }
      ]
    },
    {
      "cell_type": "code",
      "metadata": {
        "id": "7Z45gL0ek5xh",
        "outputId": "fede3491-de3c-458e-c9e0-0ee4cae7d578",
        "colab": {
          "base_uri": "https://localhost:8080/"
        }
      },
      "source": [
        "def get_summary(sentences_score_set):\n",
        "  summary = []\n",
        "  mean = sentences_score.mean()\n",
        "  for k, v in sentences_score_set.items():\n",
        "    if v > mean * 1.2:\n",
        "      summary.append(k)\n",
        "  return ' '.join(summary)\n",
        "\n",
        "print(get_summary(sentences_set))"
      ],
      "execution_count": 94,
      "outputs": [
        {
          "output_type": "stream",
          "text": [
            "Hồi còn nhỏ, ngây ngô nghĩ rằng, một mối quan hệ, nếu bị khoảng cách chia xa, thể nào cũng sẽ tàn phai. Cảm giác của một đứa không có gì bám víu giữa thành phố xa lạ nhưng lại không chịu chấp nhận một ai xung quanh. Thay đổi môi trường sống thật ra chỉ là giọt nước tràn li cho rất nhiều những vấn đề khác nhau, khó có lối ra, chỉ toàn nút thắt. Cứ thế bản thân vừa muốn kết nối, nhưng cũng tạo cho mình một rào cản khó có thể xóa bỏ. Nói là chia sẻ, nhưng chỉ dừng lại ở mặt chữ, là chia sẻ câu chuyện, trên nền chất liệu phong cách ngôn ngữ sinh hoạt, chứ lời nói chẳng có tí cảm xúc nào. Riết thành quen, bây giờ lời nói buông ra, cũng chẳng còn biết làm thế nào cho đằm thắm thứ cảm xúc đang bồn chồn muốn bộc phát trong tim. Lớn lên một chút, thôi thì môi trương thay đổi nhiều, chí ít đã quen những biến thiên hàng ngày của cuộc sống. Thế nhưng có lẽ cũng vì thế mà tôi vỡ òa, thật ra con người ta ở cạnh nhau mà lòng vẫn xa nhau được đấy thôi! Khi người kia muốn tiến đến thì người còn lại phải đứng im và ngược lại, thành ra cứ mãi chệch nhịp. Rồi một người tiến một người lùi, cũng không xong, nếu muốn gần nhau hơn, chỉ có là cùng nhau hiểu về đối phương.\n"
          ],
          "name": "stdout"
        }
      ]
    },
    {
      "cell_type": "code",
      "metadata": {
        "id": "3JvURpZhnlsR"
      },
      "source": [
        ""
      ],
      "execution_count": null,
      "outputs": []
    }
  ]
}