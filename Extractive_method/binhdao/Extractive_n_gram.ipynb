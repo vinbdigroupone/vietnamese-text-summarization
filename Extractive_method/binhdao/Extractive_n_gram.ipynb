{
 "cells": [
  {
   "cell_type": "markdown",
   "metadata": {},
   "source": [
    "#### This method has not worked yet, still in development"
   ]
  },
  {
   "cell_type": "code",
   "execution_count": 1,
   "metadata": {
    "collapsed": true
   },
   "outputs": [
    {
     "name": "stderr",
     "output_type": "stream",
     "text": [
      "b'Skipping line 10: expected 19 fields, saw 27\\nSkipping line 12: expected 19 fields, saw 32\\nSkipping line 34: expected 19 fields, saw 164\\nSkipping line 40: expected 19 fields, saw 70\\nSkipping line 56: expected 19 fields, saw 59\\nSkipping line 60: expected 19 fields, saw 33\\nSkipping line 63: expected 19 fields, saw 29\\nSkipping line 66: expected 19 fields, saw 127\\nSkipping line 67: expected 19 fields, saw 32\\nSkipping line 69: expected 19 fields, saw 148\\nSkipping line 75: expected 19 fields, saw 127\\nSkipping line 80: expected 19 fields, saw 70\\nSkipping line 81: expected 19 fields, saw 28\\nSkipping line 82: expected 19 fields, saw 25\\nSkipping line 85: expected 19 fields, saw 158\\nSkipping line 96: expected 19 fields, saw 77\\nSkipping line 100: expected 19 fields, saw 97\\nSkipping line 111: expected 19 fields, saw 109\\nSkipping line 116: expected 19 fields, saw 99\\nSkipping line 117: expected 19 fields, saw 70\\nSkipping line 120: expected 19 fields, saw 70\\nSkipping line 122: expected 19 fields, saw 32\\nSkipping line 134: expected 19 fields, saw 25\\nSkipping line 142: expected 19 fields, saw 34\\nSkipping line 145: expected 19 fields, saw 60\\nSkipping line 151: expected 19 fields, saw 77\\nSkipping line 154: expected 19 fields, saw 49\\nSkipping line 164: expected 19 fields, saw 88\\nSkipping line 170: expected 19 fields, saw 157\\nSkipping line 173: expected 19 fields, saw 40\\nSkipping line 176: expected 19 fields, saw 36\\nSkipping line 178: expected 19 fields, saw 36\\nSkipping line 180: expected 19 fields, saw 89\\nSkipping line 190: expected 19 fields, saw 25\\nSkipping line 198: expected 19 fields, saw 114\\nSkipping line 199: expected 19 fields, saw 64\\nSkipping line 209: expected 19 fields, saw 169\\nSkipping line 219: expected 19 fields, saw 26\\nSkipping line 228: expected 19 fields, saw 68\\nSkipping line 244: expected 19 fields, saw 148\\nSkipping line 247: expected 19 fields, saw 53\\nSkipping line 248: expected 19 fields, saw 50\\nSkipping line 252: expected 19 fields, saw 46\\nSkipping line 256: expected 19 fields, saw 25\\nSkipping line 258: expected 19 fields, saw 92\\nSkipping line 274: expected 19 fields, saw 25\\nSkipping line 277: expected 19 fields, saw 26\\nSkipping line 278: expected 19 fields, saw 53\\nSkipping line 291: expected 19 fields, saw 70\\nSkipping line 305: expected 19 fields, saw 27\\nSkipping line 306: expected 19 fields, saw 42\\nSkipping line 310: expected 19 fields, saw 148\\nSkipping line 315: expected 19 fields, saw 45\\nSkipping line 335: expected 19 fields, saw 138\\nSkipping line 337: expected 19 fields, saw 120\\nSkipping line 342: expected 19 fields, saw 42\\nSkipping line 365: expected 19 fields, saw 123\\nSkipping line 370: expected 19 fields, saw 64\\nSkipping line 371: expected 19 fields, saw 46\\nSkipping line 383: expected 19 fields, saw 68\\nSkipping line 414: expected 19 fields, saw 148\\nSkipping line 427: expected 19 fields, saw 148\\nSkipping line 449: expected 19 fields, saw 43\\nSkipping line 493: expected 19 fields, saw 32\\nSkipping line 506: expected 19 fields, saw 25\\nSkipping line 515: expected 19 fields, saw 25\\nSkipping line 526: expected 19 fields, saw 95\\nSkipping line 527: expected 19 fields, saw 232\\nSkipping line 534: expected 19 fields, saw 44\\nSkipping line 545: expected 19 fields, saw 78\\nSkipping line 546: expected 19 fields, saw 148\\nSkipping line 553: expected 19 fields, saw 25\\nSkipping line 556: expected 19 fields, saw 148\\nSkipping line 564: expected 19 fields, saw 28\\nSkipping line 577: expected 19 fields, saw 23\\nSkipping line 585: expected 19 fields, saw 39\\nSkipping line 590: expected 19 fields, saw 66\\nSkipping line 599: expected 19 fields, saw 148\\nSkipping line 600: expected 19 fields, saw 152\\nSkipping line 607: expected 19 fields, saw 148\\nSkipping line 609: expected 19 fields, saw 30\\nSkipping line 616: expected 19 fields, saw 71\\nSkipping line 617: expected 19 fields, saw 77\\nSkipping line 618: expected 19 fields, saw 169\\nSkipping line 624: expected 19 fields, saw 25\\nSkipping line 629: expected 19 fields, saw 47\\nSkipping line 639: expected 19 fields, saw 24\\nSkipping line 650: expected 19 fields, saw 61\\nSkipping line 660: expected 19 fields, saw 65\\nSkipping line 663: expected 19 fields, saw 45\\nSkipping line 667: expected 19 fields, saw 40\\nSkipping line 670: expected 19 fields, saw 44\\nSkipping line 683: expected 19 fields, saw 47\\nSkipping line 690: expected 19 fields, saw 40\\nSkipping line 697: expected 19 fields, saw 63\\nSkipping line 698: expected 19 fields, saw 39\\nSkipping line 704: expected 19 fields, saw 150\\nSkipping line 726: expected 19 fields, saw 51\\nSkipping line 733: expected 19 fields, saw 115\\nSkipping line 736: expected 19 fields, saw 27\\nSkipping line 738: expected 19 fields, saw 40\\nSkipping line 746: expected 19 fields, saw 27\\nSkipping line 747: expected 19 fields, saw 60\\nSkipping line 752: expected 19 fields, saw 164\\nSkipping line 756: expected 19 fields, saw 72\\nSkipping line 759: expected 19 fields, saw 55\\nSkipping line 762: expected 19 fields, saw 40\\nSkipping line 770: expected 19 fields, saw 101\\nSkipping line 771: expected 19 fields, saw 76\\nSkipping line 772: expected 19 fields, saw 57\\nSkipping line 783: expected 19 fields, saw 21\\nSkipping line 790: expected 19 fields, saw 114\\nSkipping line 793: expected 19 fields, saw 69\\nSkipping line 802: expected 19 fields, saw 43\\nSkipping line 803: expected 19 fields, saw 138\\nSkipping line 806: expected 19 fields, saw 40\\nSkipping line 815: expected 19 fields, saw 23\\nSkipping line 817: expected 19 fields, saw 51\\nSkipping line 823: expected 19 fields, saw 40\\nSkipping line 831: expected 19 fields, saw 31\\nSkipping line 836: expected 19 fields, saw 65\\nSkipping line 838: expected 19 fields, saw 54\\nSkipping line 857: expected 19 fields, saw 23\\nSkipping line 871: expected 19 fields, saw 52\\nSkipping line 874: expected 19 fields, saw 28\\nSkipping line 875: expected 19 fields, saw 21\\nSkipping line 888: expected 19 fields, saw 64\\nSkipping line 897: expected 19 fields, saw 108\\nSkipping line 899: expected 19 fields, saw 40\\nSkipping line 902: expected 19 fields, saw 75\\nSkipping line 903: expected 19 fields, saw 70\\nSkipping line 915: expected 19 fields, saw 83\\nSkipping line 916: expected 19 fields, saw 68\\nSkipping line 935: expected 19 fields, saw 65\\nSkipping line 940: expected 19 fields, saw 46\\nSkipping line 945: expected 19 fields, saw 55\\nSkipping line 948: expected 19 fields, saw 47\\nSkipping line 953: expected 19 fields, saw 40\\nSkipping line 957: expected 19 fields, saw 79\\nSkipping line 961: expected 19 fields, saw 69\\nSkipping line 963: expected 19 fields, saw 55\\nSkipping line 966: expected 19 fields, saw 65\\nSkipping line 967: expected 19 fields, saw 32\\nSkipping line 969: expected 19 fields, saw 66\\nSkipping line 972: expected 19 fields, saw 145\\nSkipping line 973: expected 19 fields, saw 128\\nSkipping line 978: expected 19 fields, saw 46\\nSkipping line 979: expected 19 fields, saw 55\\nSkipping line 984: expected 19 fields, saw 62\\nSkipping line 985: expected 19 fields, saw 51\\nSkipping line 988: expected 19 fields, saw 117\\nSkipping line 991: expected 19 fields, saw 63\\nSkipping line 992: expected 19 fields, saw 35\\nSkipping line 995: expected 19 fields, saw 27\\nSkipping line 1006: expected 19 fields, saw 117\\nSkipping line 1009: expected 19 fields, saw 89\\nSkipping line 1013: expected 19 fields, saw 29\\nSkipping line 1021: expected 19 fields, saw 46\\nSkipping line 1022: expected 19 fields, saw 47\\nSkipping line 1030: expected 19 fields, saw 40\\nSkipping line 1032: expected 19 fields, saw 25\\nSkipping line 1035: expected 19 fields, saw 35\\nSkipping line 1039: expected 19 fields, saw 47\\nSkipping line 1045: expected 19 fields, saw 151\\nSkipping line 1046: expected 19 fields, saw 88\\nSkipping line 1053: expected 19 fields, saw 91\\nSkipping line 1055: expected 19 fields, saw 62\\nSkipping line 1056: expected 19 fields, saw 39\\nSkipping line 1077: expected 19 fields, saw 35\\nSkipping line 1082: expected 19 fields, saw 91\\nSkipping line 1090: expected 19 fields, saw 89\\nSkipping line 1106: expected 19 fields, saw 68\\nSkipping line 1112: expected 19 fields, saw 63\\nSkipping line 1118: expected 19 fields, saw 24\\nSkipping line 1119: expected 19 fields, saw 35\\nSkipping line 1125: expected 19 fields, saw 120\\nSkipping line 1127: expected 19 fields, saw 40\\nSkipping line 1128: expected 19 fields, saw 28\\nSkipping line 1130: expected 19 fields, saw 40\\nSkipping line 1134: expected 19 fields, saw 39\\nSkipping line 1137: expected 19 fields, saw 76\\nSkipping line 1146: expected 19 fields, saw 21\\nSkipping line 1162: expected 19 fields, saw 89\\nSkipping line 1173: expected 19 fields, saw 25\\nSkipping line 1177: expected 19 fields, saw 24\\nSkipping line 1178: expected 19 fields, saw 89\\nSkipping line 1179: expected 19 fields, saw 87\\nSkipping line 1183: expected 19 fields, saw 62\\nSkipping line 1188: expected 19 fields, saw 29\\nSkipping line 1190: expected 19 fields, saw 158\\nSkipping line 1194: expected 19 fields, saw 55\\nSkipping line 1195: expected 19 fields, saw 34\\nSkipping line 1196: expected 19 fields, saw 145\\nSkipping line 1199: expected 19 fields, saw 96\\nSkipping line 1200: expected 19 fields, saw 53\\nSkipping line 1202: expected 19 fields, saw 35\\nSkipping line 1203: expected 19 fields, saw 23\\nSkipping line 1206: expected 19 fields, saw 74\\nSkipping line 1213: expected 19 fields, saw 29\\nSkipping line 1226: expected 19 fields, saw 89\\nSkipping line 1231: expected 19 fields, saw 40\\nSkipping line 1239: expected 19 fields, saw 49\\nSkipping line 1244: expected 19 fields, saw 34\\nSkipping line 1250: expected 19 fields, saw 21\\nSkipping line 1251: expected 19 fields, saw 29\\nSkipping line 1257: expected 19 fields, saw 49\\nSkipping line 1258: expected 19 fields, saw 89\\nSkipping line 1259: expected 19 fields, saw 35\\nSkipping line 1260: expected 19 fields, saw 34\\nSkipping line 1267: expected 19 fields, saw 35\\nSkipping line 1270: expected 19 fields, saw 39\\nSkipping line 1285: expected 19 fields, saw 35\\nSkipping line 1294: expected 19 fields, saw 132\\nSkipping line 1299: expected 19 fields, saw 31\\nSkipping line 1301: expected 19 fields, saw 33\\nSkipping line 1303: expected 19 fields, saw 35\\nSkipping line 1324: expected 19 fields, saw 133\\nSkipping line 1332: expected 19 fields, saw 26\\nSkipping line 1333: expected 19 fields, saw 26\\nSkipping line 1343: expected 19 fields, saw 29\\nSkipping line 1344: expected 19 fields, saw 21\\nSkipping line 1348: expected 19 fields, saw 35\\nSkipping line 1352: expected 19 fields, saw 40\\nSkipping line 1353: expected 19 fields, saw 69\\nSkipping line 1355: expected 19 fields, saw 145\\nSkipping line 1358: expected 19 fields, saw 102\\nSkipping line 1359: expected 19 fields, saw 96\\nSkipping line 1365: expected 19 fields, saw 100\\nSkipping line 1372: expected 19 fields, saw 25\\nSkipping line 1405: expected 19 fields, saw 35\\nSkipping line 1411: expected 19 fields, saw 88\\nSkipping line 1417: expected 19 fields, saw 32\\nSkipping line 1423: expected 19 fields, saw 35\\nSkipping line 1428: expected 19 fields, saw 35\\nSkipping line 1432: expected 19 fields, saw 51\\nSkipping line 1434: expected 19 fields, saw 44\\nSkipping line 1435: expected 19 fields, saw 77\\nSkipping line 1440: expected 19 fields, saw 160\\nSkipping line 1449: expected 19 fields, saw 44\\nSkipping line 1451: expected 19 fields, saw 43\\nSkipping line 1452: expected 19 fields, saw 158\\nSkipping line 1457: expected 19 fields, saw 92\\nSkipping line 1460: expected 19 fields, saw 135\\nSkipping line 1481: expected 19 fields, saw 155\\nSkipping line 1484: expected 19 fields, saw 88\\nSkipping line 1489: expected 19 fields, saw 57\\nSkipping line 1494: expected 19 fields, saw 32\\nSkipping line 1505: expected 19 fields, saw 23\\nSkipping line 1510: expected 19 fields, saw 96\\nSkipping line 1513: expected 19 fields, saw 39\\nSkipping line 1515: expected 19 fields, saw 53\\nSkipping line 1517: expected 19 fields, saw 63\\nSkipping line 1524: expected 19 fields, saw 97\\nSkipping line 1527: expected 19 fields, saw 41\\nSkipping line 1533: expected 19 fields, saw 87\\nSkipping line 1535: expected 19 fields, saw 33\\nSkipping line 1545: expected 19 fields, saw 92\\nSkipping line 1546: expected 19 fields, saw 53\\nSkipping line 1551: expected 19 fields, saw 103\\nSkipping line 1553: expected 19 fields, saw 74\\nSkipping line 1554: expected 19 fields, saw 92\\nSkipping line 1555: expected 19 fields, saw 21\\nSkipping line 1558: expected 19 fields, saw 55\\nSkipping line 1559: expected 19 fields, saw 53\\nSkipping line 1563: expected 19 fields, saw 54\\nSkipping line 1564: expected 19 fields, saw 21\\nSkipping line 1568: expected 19 fields, saw 21\\nSkipping line 1575: expected 19 fields, saw 45\\nSkipping line 1576: expected 19 fields, saw 44\\nSkipping line 1582: expected 19 fields, saw 64\\nSkipping line 1588: expected 19 fields, saw 64\\nSkipping line 1591: expected 19 fields, saw 56\\nSkipping line 1599: expected 19 fields, saw 23\\nSkipping line 1601: expected 19 fields, saw 23\\nSkipping line 1611: expected 19 fields, saw 21\\nSkipping line 1618: expected 19 fields, saw 73\\nSkipping line 1619: expected 19 fields, saw 38\\nSkipping line 1622: expected 19 fields, saw 38\\nSkipping line 1626: expected 19 fields, saw 29\\nSkipping line 1627: expected 19 fields, saw 40\\nSkipping line 1647: expected 19 fields, saw 91\\nSkipping line 1651: expected 19 fields, saw 40\\nSkipping line 1652: expected 19 fields, saw 24\\nSkipping line 1655: expected 19 fields, saw 94\\nSkipping line 1675: expected 19 fields, saw 40\\nSkipping line 1677: expected 19 fields, saw 71\\nSkipping line 1680: expected 19 fields, saw 21\\nSkipping line 1682: expected 19 fields, saw 56\\nSkipping line 1684: expected 19 fields, saw 82\\nSkipping line 1689: expected 19 fields, saw 61\\nSkipping line 1693: expected 19 fields, saw 41\\nSkipping line 1695: expected 19 fields, saw 63\\nSkipping line 1705: expected 19 fields, saw 23\\nSkipping line 1708: expected 19 fields, saw 43\\nSkipping line 1713: expected 19 fields, saw 72\\nSkipping line 1722: expected 19 fields, saw 69\\nSkipping line 1725: expected 19 fields, saw 42\\nSkipping line 1733: expected 19 fields, saw 41\\nSkipping line 1738: expected 19 fields, saw 165\\nSkipping line 1744: expected 19 fields, saw 30\\nSkipping line 1751: expected 19 fields, saw 49\\nSkipping line 1757: expected 19 fields, saw 30\\nSkipping line 1760: expected 19 fields, saw 44\\nSkipping line 1762: expected 19 fields, saw 98\\nSkipping line 1766: expected 19 fields, saw 80\\nSkipping line 1789: expected 19 fields, saw 33\\nSkipping line 1794: expected 19 fields, saw 79\\nSkipping line 1800: expected 19 fields, saw 61\\nSkipping line 1803: expected 19 fields, saw 34\\nSkipping line 1805: expected 19 fields, saw 92\\nSkipping line 1810: expected 19 fields, saw 30\\nSkipping line 1813: expected 19 fields, saw 29\\nSkipping line 1824: expected 19 fields, saw 91\\nSkipping line 1834: expected 19 fields, saw 47\\nSkipping line 1837: expected 19 fields, saw 56\\nSkipping line 1839: expected 19 fields, saw 55\\nSkipping line 1842: expected 19 fields, saw 29\\nSkipping line 1843: expected 19 fields, saw 41\\nSkipping line 1846: expected 19 fields, saw 34\\nSkipping line 1847: expected 19 fields, saw 33\\nSkipping line 1850: expected 19 fields, saw 39\\nSkipping line 1858: expected 19 fields, saw 80\\nSkipping line 1860: expected 19 fields, saw 23\\nSkipping line 1862: expected 19 fields, saw 31\\nSkipping line 1864: expected 19 fields, saw 30\\nSkipping line 1867: expected 19 fields, saw 61\\nSkipping line 1868: expected 19 fields, saw 74\\nSkipping line 1870: expected 19 fields, saw 30\\nSkipping line 1871: expected 19 fields, saw 31\\nSkipping line 1878: expected 19 fields, saw 82\\nSkipping line 1880: expected 19 fields, saw 34\\nSkipping line 1881: expected 19 fields, saw 43\\nSkipping line 1886: expected 19 fields, saw 28\\nSkipping line 1892: expected 19 fields, saw 48\\nSkipping line 1895: expected 19 fields, saw 46\\nSkipping line 1898: expected 19 fields, saw 23\\nSkipping line 1901: expected 19 fields, saw 35\\nSkipping line 1904: expected 19 fields, saw 24\\nSkipping line 1906: expected 19 fields, saw 39\\nSkipping line 1916: expected 19 fields, saw 67\\nSkipping line 1917: expected 19 fields, saw 63\\nSkipping line 1918: expected 19 fields, saw 74\\nSkipping line 1920: expected 19 fields, saw 139\\nSkipping line 1923: expected 19 fields, saw 54\\nSkipping line 1924: expected 19 fields, saw 39\\nSkipping line 1928: expected 19 fields, saw 63\\nSkipping line 1929: expected 19 fields, saw 39\\nSkipping line 1946: expected 19 fields, saw 89\\nSkipping line 1950: expected 19 fields, saw 29\\nSkipping line 1951: expected 19 fields, saw 82\\nSkipping line 1954: expected 19 fields, saw 42\\nSkipping line 1964: expected 19 fields, saw 46\\nSkipping line 1970: expected 19 fields, saw 21\\nSkipping line 1973: expected 19 fields, saw 63\\nSkipping line 1976: expected 19 fields, saw 60\\nSkipping line 1978: expected 19 fields, saw 51\\nSkipping line 1979: expected 19 fields, saw 79\\nSkipping line 1980: expected 19 fields, saw 59\\nSkipping line 1994: expected 19 fields, saw 55\\nSkipping line 1997: expected 19 fields, saw 70\\nSkipping line 2001: expected 19 fields, saw 148\\nSkipping line 2003: expected 19 fields, saw 39\\nSkipping line 2007: expected 19 fields, saw 80\\nSkipping line 2010: expected 19 fields, saw 28\\nSkipping line 2011: expected 19 fields, saw 55\\nSkipping line 2018: expected 19 fields, saw 36\\nSkipping line 2025: expected 19 fields, saw 91\\nSkipping line 2032: expected 19 fields, saw 38\\nSkipping line 2033: expected 19 fields, saw 36\\nSkipping line 2036: expected 19 fields, saw 27\\nSkipping line 2041: expected 19 fields, saw 39\\nSkipping line 2042: expected 19 fields, saw 30\\nSkipping line 2044: expected 19 fields, saw 58\\nSkipping line 2045: expected 19 fields, saw 30\\nSkipping line 2047: expected 19 fields, saw 147\\nSkipping line 2054: expected 19 fields, saw 60\\nSkipping line 2055: expected 19 fields, saw 48\\nSkipping line 2061: expected 19 fields, saw 30\\nSkipping line 2075: expected 19 fields, saw 72\\nSkipping line 2078: expected 19 fields, saw 37\\nSkipping line 2086: expected 19 fields, saw 39\\nSkipping line 2091: expected 19 fields, saw 39\\nSkipping line 2092: expected 19 fields, saw 37\\nSkipping line 2103: expected 19 fields, saw 25\\nSkipping line 2104: expected 19 fields, saw 62\\nSkipping line 2108: expected 19 fields, saw 59\\nSkipping line 2110: expected 19 fields, saw 46\\nSkipping line 2111: expected 19 fields, saw 110\\nSkipping line 2117: expected 19 fields, saw 79\\nSkipping line 2121: expected 19 fields, saw 41\\nSkipping line 2123: expected 19 fields, saw 78\\nSkipping line 2134: expected 19 fields, saw 79\\nSkipping line 2135: expected 19 fields, saw 79\\nSkipping line 2136: expected 19 fields, saw 203\\nSkipping line 2138: expected 19 fields, saw 57\\nSkipping line 2140: expected 19 fields, saw 63\\nSkipping line 2141: expected 19 fields, saw 63\\nSkipping line 2143: expected 19 fields, saw 52\\nSkipping line 2144: expected 19 fields, saw 79\\nSkipping line 2145: expected 19 fields, saw 52\\nSkipping line 2146: expected 19 fields, saw 99\\nSkipping line 2148: expected 19 fields, saw 72\\nSkipping line 2151: expected 19 fields, saw 50\\nSkipping line 2162: expected 19 fields, saw 31\\nSkipping line 2169: expected 19 fields, saw 49\\nSkipping line 2173: expected 19 fields, saw 35\\nSkipping line 2179: expected 19 fields, saw 56\\nSkipping line 2180: expected 19 fields, saw 38\\nSkipping line 2181: expected 19 fields, saw 23\\nSkipping line 2188: expected 19 fields, saw 31\\nSkipping line 2191: expected 19 fields, saw 59\\nSkipping line 2194: expected 19 fields, saw 31\\nSkipping line 2201: expected 19 fields, saw 31\\nSkipping line 2202: expected 19 fields, saw 85\\nSkipping line 2203: expected 19 fields, saw 31\\nSkipping line 2207: expected 19 fields, saw 100\\nSkipping line 2209: expected 19 fields, saw 42\\nSkipping line 2212: expected 19 fields, saw 128\\nSkipping line 2213: expected 19 fields, saw 24\\nSkipping line 2220: expected 19 fields, saw 39\\nSkipping line 2225: expected 19 fields, saw 117\\nSkipping line 2226: expected 19 fields, saw 62\\nSkipping line 2229: expected 19 fields, saw 68\\nSkipping line 2232: expected 19 fields, saw 85\\nSkipping line 2235: expected 19 fields, saw 43\\nSkipping line 2236: expected 19 fields, saw 71\\nSkipping line 2237: expected 19 fields, saw 63\\nSkipping line 2238: expected 19 fields, saw 48\\nSkipping line 2241: expected 19 fields, saw 129\\nSkipping line 2250: expected 19 fields, saw 69\\nSkipping line 2252: expected 19 fields, saw 48\\nSkipping line 2253: expected 19 fields, saw 100\\nSkipping line 2254: expected 19 fields, saw 33\\nSkipping line 2255: expected 19 fields, saw 52\\nSkipping line 2259: expected 19 fields, saw 35\\nSkipping line 2263: expected 19 fields, saw 23\\nSkipping line 2265: expected 19 fields, saw 40\\nSkipping line 2270: expected 19 fields, saw 112\\nSkipping line 2281: expected 19 fields, saw 53\\nSkipping line 2285: expected 19 fields, saw 100\\nSkipping line 2287: expected 19 fields, saw 39\\nSkipping line 2291: expected 19 fields, saw 29\\nSkipping line 2294: expected 19 fields, saw 56\\nSkipping line 2295: expected 19 fields, saw 56\\nSkipping line 2301: expected 19 fields, saw 39\\nSkipping line 2302: expected 19 fields, saw 40\\nSkipping line 2307: expected 19 fields, saw 56\\nSkipping line 2308: expected 19 fields, saw 39\\nSkipping line 2311: expected 19 fields, saw 80\\nSkipping line 2317: expected 19 fields, saw 24\\nSkipping line 2328: expected 19 fields, saw 94\\nSkipping line 2330: expected 19 fields, saw 39\\nSkipping line 2331: expected 19 fields, saw 67\\nSkipping line 2340: expected 19 fields, saw 40\\nSkipping line 2342: expected 19 fields, saw 27\\nSkipping line 2351: expected 19 fields, saw 71\\nSkipping line 2352: expected 19 fields, saw 22\\nSkipping line 2354: expected 19 fields, saw 51\\nSkipping line 2358: expected 19 fields, saw 39\\nSkipping line 2363: expected 19 fields, saw 56\\nSkipping line 2364: expected 19 fields, saw 79\\nSkipping line 2384: expected 19 fields, saw 24\\nSkipping line 2385: expected 19 fields, saw 75\\nSkipping line 2394: expected 19 fields, saw 73\\nSkipping line 2404: expected 19 fields, saw 96\\nSkipping line 2419: expected 19 fields, saw 48\\nSkipping line 2430: expected 19 fields, saw 36\\nSkipping line 2437: expected 19 fields, saw 71\\nSkipping line 2439: expected 19 fields, saw 71\\nSkipping line 2441: expected 19 fields, saw 76\\nSkipping line 2447: expected 19 fields, saw 167\\nSkipping line 2449: expected 19 fields, saw 56\\nSkipping line 2452: expected 19 fields, saw 39\\nSkipping line 2456: expected 19 fields, saw 109\\nSkipping line 2458: expected 19 fields, saw 87\\nSkipping line 2463: expected 19 fields, saw 43\\nSkipping line 2464: expected 19 fields, saw 41\\nSkipping line 2468: expected 19 fields, saw 49\\nSkipping line 2470: expected 19 fields, saw 58\\nSkipping line 2477: expected 19 fields, saw 39\\nSkipping line 2480: expected 19 fields, saw 66\\nSkipping line 2482: expected 19 fields, saw 203\\nSkipping line 2484: expected 19 fields, saw 57\\nSkipping line 2500: expected 19 fields, saw 92\\nSkipping line 2526: expected 19 fields, saw 124\\nSkipping line 2535: expected 19 fields, saw 54\\nSkipping line 2536: expected 19 fields, saw 93\\nSkipping line 2542: expected 19 fields, saw 21\\nSkipping line 2547: expected 19 fields, saw 72\\nSkipping line 2562: expected 19 fields, saw 89\\nSkipping line 2564: expected 19 fields, saw 33\\nSkipping line 2573: expected 19 fields, saw 81\\nSkipping line 2574: expected 19 fields, saw 69\\nSkipping line 2581: expected 19 fields, saw 52\\nSkipping line 2582: expected 19 fields, saw 31\\nSkipping line 2586: expected 19 fields, saw 126\\nSkipping line 2596: expected 19 fields, saw 67\\nSkipping line 2602: expected 19 fields, saw 67\\nSkipping line 2605: expected 19 fields, saw 54\\nSkipping line 2608: expected 19 fields, saw 95\\nSkipping line 2615: expected 19 fields, saw 22\\nSkipping line 2624: expected 19 fields, saw 63\\nSkipping line 2634: expected 19 fields, saw 63\\nSkipping line 2639: expected 19 fields, saw 117\\nSkipping line 2641: expected 19 fields, saw 57\\nSkipping line 2649: expected 19 fields, saw 70\\nSkipping line 2652: expected 19 fields, saw 59\\nSkipping line 2672: expected 19 fields, saw 46\\nSkipping line 2673: expected 19 fields, saw 42\\nSkipping line 2677: expected 19 fields, saw 59\\nSkipping line 2686: expected 19 fields, saw 39\\nSkipping line 2696: expected 19 fields, saw 53\\nSkipping line 2705: expected 19 fields, saw 53\\nSkipping line 2713: expected 19 fields, saw 50\\nSkipping line 2715: expected 19 fields, saw 79\\nSkipping line 2717: expected 19 fields, saw 23\\nSkipping line 2725: expected 19 fields, saw 28\\nSkipping line 2727: expected 19 fields, saw 39\\nSkipping line 2729: expected 19 fields, saw 70\\nSkipping line 2731: expected 19 fields, saw 67\\nSkipping line 2743: expected 19 fields, saw 95\\nSkipping line 2752: expected 19 fields, saw 57\\nSkipping line 2763: expected 19 fields, saw 70\\nSkipping line 2775: expected 19 fields, saw 95\\nSkipping line 2784: expected 19 fields, saw 59\\nSkipping line 2791: expected 19 fields, saw 79\\nSkipping line 2792: expected 19 fields, saw 58\\nSkipping line 2804: expected 19 fields, saw 28\\nSkipping line 2808: expected 19 fields, saw 58\\nSkipping line 2810: expected 19 fields, saw 27\\nSkipping line 2811: expected 19 fields, saw 35\\nSkipping line 2815: expected 19 fields, saw 51\\nSkipping line 2816: expected 19 fields, saw 95\\nSkipping line 2842: expected 19 fields, saw 60\\nSkipping line 2850: expected 19 fields, saw 51\\nSkipping line 2851: expected 19 fields, saw 62\\nSkipping line 2855: expected 19 fields, saw 35\\nSkipping line 2858: expected 19 fields, saw 56\\nSkipping line 2861: expected 19 fields, saw 61\\nSkipping line 2868: expected 19 fields, saw 39\\nSkipping line 2876: expected 19 fields, saw 82\\nSkipping line 2877: expected 19 fields, saw 35\\nSkipping line 2882: expected 19 fields, saw 70\\nSkipping line 2899: expected 19 fields, saw 42\\nSkipping line 2901: expected 19 fields, saw 94\\nSkipping line 2902: expected 19 fields, saw 70\\nSkipping line 2903: expected 19 fields, saw 54\\nSkipping line 2908: expected 19 fields, saw 25\\nSkipping line 2912: expected 19 fields, saw 107\\nSkipping line 2915: expected 19 fields, saw 49\\nSkipping line 2926: expected 19 fields, saw 28\\nSkipping line 2928: expected 19 fields, saw 22\\nSkipping line 2939: expected 19 fields, saw 51\\nSkipping line 2944: expected 19 fields, saw 198\\nSkipping line 2945: expected 19 fields, saw 26\\nSkipping line 2951: expected 19 fields, saw 33\\nSkipping line 2954: expected 19 fields, saw 21\\nSkipping line 2955: expected 19 fields, saw 80\\nSkipping line 2956: expected 19 fields, saw 95\\nSkipping line 2959: expected 19 fields, saw 95\\nSkipping line 2963: expected 19 fields, saw 40\\nSkipping line 2964: expected 19 fields, saw 53\\nSkipping line 2970: expected 19 fields, saw 23\\nSkipping line 2973: expected 19 fields, saw 92\\nSkipping line 2977: expected 19 fields, saw 25\\nSkipping line 2981: expected 19 fields, saw 21\\nSkipping line 2994: expected 19 fields, saw 92\\nSkipping line 2997: expected 19 fields, saw 27\\nSkipping line 3003: expected 19 fields, saw 49\\nSkipping line 3009: expected 19 fields, saw 35\\nSkipping line 3028: expected 19 fields, saw 79\\nSkipping line 3034: expected 19 fields, saw 29\\nSkipping line 3045: expected 19 fields, saw 157\\nSkipping line 3047: expected 19 fields, saw 30\\nSkipping line 3064: expected 19 fields, saw 20\\nSkipping line 3069: expected 19 fields, saw 21\\nSkipping line 3073: expected 19 fields, saw 40\\nSkipping line 3088: expected 19 fields, saw 27\\nSkipping line 3090: expected 19 fields, saw 22\\nSkipping line 3091: expected 19 fields, saw 103\\nSkipping line 3105: expected 19 fields, saw 129\\nSkipping line 3107: expected 19 fields, saw 89\\nSkipping line 3115: expected 19 fields, saw 115\\nSkipping line 3118: expected 19 fields, saw 92\\nSkipping line 3139: expected 19 fields, saw 89\\nSkipping line 3140: expected 19 fields, saw 118\\nSkipping line 3141: expected 19 fields, saw 54\\nSkipping line 3142: expected 19 fields, saw 35\\nSkipping line 3148: expected 19 fields, saw 44\\nSkipping line 3151: expected 19 fields, saw 34\\nSkipping line 3154: expected 19 fields, saw 89\\nSkipping line 3157: expected 19 fields, saw 33\\nSkipping line 3160: expected 19 fields, saw 33\\nSkipping line 3162: expected 19 fields, saw 39\\nSkipping line 3169: expected 19 fields, saw 73\\nSkipping line 3198: expected 19 fields, saw 193\\nSkipping line 3199: expected 19 fields, saw 44\\nSkipping line 3200: expected 19 fields, saw 27\\nSkipping line 3207: expected 19 fields, saw 50\\nSkipping line 3208: expected 19 fields, saw 52\\nSkipping line 3224: expected 19 fields, saw 59\\nSkipping line 3227: expected 19 fields, saw 28\\nSkipping line 3234: expected 19 fields, saw 39\\nSkipping line 3243: expected 19 fields, saw 44\\nSkipping line 3249: expected 19 fields, saw 46\\nSkipping line 3256: expected 19 fields, saw 39\\nSkipping line 3261: expected 19 fields, saw 37\\nSkipping line 3263: expected 19 fields, saw 37\\nSkipping line 3273: expected 19 fields, saw 59\\nSkipping line 3278: expected 19 fields, saw 50\\nSkipping line 3285: expected 19 fields, saw 119\\nSkipping line 3289: expected 19 fields, saw 40\\nSkipping line 3301: expected 19 fields, saw 40\\nSkipping line 3308: expected 19 fields, saw 114\\nSkipping line 3313: expected 19 fields, saw 39\\nSkipping line 3314: expected 19 fields, saw 29\\nSkipping line 3334: expected 19 fields, saw 72\\nSkipping line 3335: expected 19 fields, saw 54\\nSkipping line 3338: expected 19 fields, saw 39\\nSkipping line 3339: expected 19 fields, saw 29\\nSkipping line 3341: expected 19 fields, saw 26\\nSkipping line 3381: expected 19 fields, saw 60\\nSkipping line 3395: expected 19 fields, saw 59\\nSkipping line 3396: expected 19 fields, saw 75\\nSkipping line 3402: expected 19 fields, saw 114\\nSkipping line 3408: expected 19 fields, saw 26\\nSkipping line 3415: expected 19 fields, saw 47\\nSkipping line 3417: expected 19 fields, saw 104\\nSkipping line 3419: expected 19 fields, saw 28\\nSkipping line 3421: expected 19 fields, saw 25\\nSkipping line 3429: expected 19 fields, saw 210\\nSkipping line 3433: expected 19 fields, saw 56\\nSkipping line 3436: expected 19 fields, saw 59\\nSkipping line 3440: expected 19 fields, saw 127\\nSkipping line 3451: expected 19 fields, saw 37\\nSkipping line 3452: expected 19 fields, saw 127\\nSkipping line 3465: expected 19 fields, saw 71\\nSkipping line 3472: expected 19 fields, saw 71\\nSkipping line 3495: expected 19 fields, saw 72\\nSkipping line 3505: expected 19 fields, saw 72\\nSkipping line 3506: expected 19 fields, saw 78\\nSkipping line 3509: expected 19 fields, saw 43\\nSkipping line 3510: expected 19 fields, saw 57\\nSkipping line 3521: expected 19 fields, saw 40\\nSkipping line 3552: expected 19 fields, saw 43\\nSkipping line 3555: expected 19 fields, saw 26\\nSkipping line 3566: expected 19 fields, saw 31\\nSkipping line 3577: expected 19 fields, saw 36\\nSkipping line 3597: expected 19 fields, saw 63\\nSkipping line 3605: expected 19 fields, saw 52\\nSkipping line 3619: expected 19 fields, saw 87\\nSkipping line 3621: expected 19 fields, saw 21\\nSkipping line 3628: expected 19 fields, saw 52\\nSkipping line 3631: expected 19 fields, saw 72\\nSkipping line 3633: expected 19 fields, saw 89\\nSkipping line 3655: expected 19 fields, saw 43\\nSkipping line 3658: expected 19 fields, saw 45\\nSkipping line 3664: expected 19 fields, saw 54\\nSkipping line 3667: expected 19 fields, saw 45\\nSkipping line 3682: expected 19 fields, saw 72\\nSkipping line 3710: expected 19 fields, saw 97\\nSkipping line 3713: expected 19 fields, saw 58\\nSkipping line 3714: expected 19 fields, saw 22\\nSkipping line 3716: expected 19 fields, saw 116\\nSkipping line 3719: expected 19 fields, saw 81\\nSkipping line 3720: expected 19 fields, saw 39\\nSkipping line 3721: expected 19 fields, saw 101\\nSkipping line 3729: expected 19 fields, saw 86\\nSkipping line 3730: expected 19 fields, saw 40\\nSkipping line 3732: expected 19 fields, saw 87\\nSkipping line 3747: expected 19 fields, saw 66\\nSkipping line 3752: expected 19 fields, saw 75\\nSkipping line 3753: expected 19 fields, saw 101\\nSkipping line 3757: expected 19 fields, saw 87\\nSkipping line 3767: expected 19 fields, saw 57\\nSkipping line 3772: expected 19 fields, saw 70\\nSkipping line 3777: expected 19 fields, saw 30\\nSkipping line 3780: expected 19 fields, saw 62\\nSkipping line 3788: expected 19 fields, saw 57\\nSkipping line 3794: expected 19 fields, saw 74\\nSkipping line 3796: expected 19 fields, saw 25\\nSkipping line 3797: expected 19 fields, saw 121\\nSkipping line 3799: expected 19 fields, saw 87\\nSkipping line 3802: expected 19 fields, saw 66\\nSkipping line 3810: expected 19 fields, saw 40\\nSkipping line 3822: expected 19 fields, saw 102\\nSkipping line 3828: expected 19 fields, saw 63\\nSkipping line 3835: expected 19 fields, saw 70\\nSkipping line 3851: expected 19 fields, saw 40\\nSkipping line 3866: expected 19 fields, saw 21\\nSkipping line 3870: expected 19 fields, saw 128\\nSkipping line 3881: expected 19 fields, saw 26\\nSkipping line 3885: expected 19 fields, saw 21\\nSkipping line 3894: expected 19 fields, saw 69\\nSkipping line 3895: expected 19 fields, saw 43\\nSkipping line 3903: expected 19 fields, saw 231\\nSkipping line 3904: expected 19 fields, saw 28\\nSkipping line 3907: expected 19 fields, saw 89\\nSkipping line 3910: expected 19 fields, saw 61\\nSkipping line 3913: expected 19 fields, saw 50\\nSkipping line 3916: expected 19 fields, saw 28\\nSkipping line 3922: expected 19 fields, saw 30\\nSkipping line 3923: expected 19 fields, saw 89\\nSkipping line 3926: expected 19 fields, saw 87\\nSkipping line 3930: expected 19 fields, saw 231\\nSkipping line 3933: expected 19 fields, saw 175\\nSkipping line 3935: expected 19 fields, saw 48\\nSkipping line 3938: expected 19 fields, saw 48\\nSkipping line 3949: expected 19 fields, saw 91\\nSkipping line 3951: expected 19 fields, saw 75\\nSkipping line 3953: expected 19 fields, saw 50\\nSkipping line 3957: expected 19 fields, saw 90\\nSkipping line 3958: expected 19 fields, saw 89\\nSkipping line 3963: expected 19 fields, saw 80\\nSkipping line 3964: expected 19 fields, saw 27\\nSkipping line 3966: expected 19 fields, saw 34\\nSkipping line 3967: expected 19 fields, saw 33\\nSkipping line 3976: expected 19 fields, saw 37\\nSkipping line 3980: expected 19 fields, saw 71\\nSkipping line 3984: expected 19 fields, saw 46\\nSkipping line 3986: expected 19 fields, saw 154\\nSkipping line 4006: expected 19 fields, saw 231\\nSkipping line 4008: expected 19 fields, saw 28\\nSkipping line 4009: expected 19 fields, saw 67\\nSkipping line 4015: expected 19 fields, saw 54\\nSkipping line 4023: expected 19 fields, saw 52\\nSkipping line 4041: expected 19 fields, saw 112\\nSkipping line 4044: expected 19 fields, saw 31\\nSkipping line 4051: expected 19 fields, saw 32\\nSkipping line 4059: expected 19 fields, saw 103\\nSkipping line 4062: expected 19 fields, saw 52\\nSkipping line 4063: expected 19 fields, saw 98\\nSkipping line 4068: expected 19 fields, saw 218\\nSkipping line 4070: expected 19 fields, saw 59\\nSkipping line 4071: expected 19 fields, saw 122\\nSkipping line 4076: expected 19 fields, saw 128\\nSkipping line 4083: expected 19 fields, saw 61\\nSkipping line 4090: expected 19 fields, saw 27\\nSkipping line 4092: expected 19 fields, saw 37\\nSkipping line 4105: expected 19 fields, saw 80\\nSkipping line 4107: expected 19 fields, saw 48\\nSkipping line 4111: expected 19 fields, saw 65\\nSkipping line 4113: expected 19 fields, saw 43\\nSkipping line 4119: expected 19 fields, saw 43\\nSkipping line 4120: expected 19 fields, saw 129\\nSkipping line 4121: expected 19 fields, saw 26\\nSkipping line 4123: expected 19 fields, saw 143\\nSkipping line 4132: expected 19 fields, saw 44\\nSkipping line 4134: expected 19 fields, saw 50\\nSkipping line 4135: expected 19 fields, saw 56\\nSkipping line 4137: expected 19 fields, saw 141\\nSkipping line 4145: expected 19 fields, saw 48\\nSkipping line 4148: expected 19 fields, saw 112\\nSkipping line 4156: expected 19 fields, saw 25\\nSkipping line 4157: expected 19 fields, saw 84\\nSkipping line 4159: expected 19 fields, saw 48\\nSkipping line 4161: expected 19 fields, saw 48\\nSkipping line 4167: expected 19 fields, saw 44\\nSkipping line 4173: expected 19 fields, saw 112\\nSkipping line 4181: expected 19 fields, saw 100\\nSkipping line 4199: expected 19 fields, saw 25\\nSkipping line 4204: expected 19 fields, saw 57\\nSkipping line 4205: expected 19 fields, saw 33\\nSkipping line 4209: expected 19 fields, saw 84\\nSkipping line 4214: expected 19 fields, saw 49\\nSkipping line 4217: expected 19 fields, saw 101\\nSkipping line 4223: expected 19 fields, saw 44\\nSkipping line 4226: expected 19 fields, saw 65\\nSkipping line 4228: expected 19 fields, saw 61\\nSkipping line 4232: expected 19 fields, saw 54\\nSkipping line 4247: expected 19 fields, saw 65\\nSkipping line 4252: expected 19 fields, saw 193\\nSkipping line 4263: expected 19 fields, saw 39\\nSkipping line 4287: expected 19 fields, saw 24\\nSkipping line 4298: expected 19 fields, saw 94\\nSkipping line 4299: expected 19 fields, saw 57\\nSkipping line 4300: expected 19 fields, saw 92\\nSkipping line 4303: expected 19 fields, saw 116\\nSkipping line 4313: expected 19 fields, saw 67\\nSkipping line 4317: expected 19 fields, saw 89\\nSkipping line 4319: expected 19 fields, saw 32\\nSkipping line 4320: expected 19 fields, saw 71\\nSkipping line 4327: expected 19 fields, saw 137\\nSkipping line 4334: expected 19 fields, saw 39\\nSkipping line 4342: expected 19 fields, saw 109\\nSkipping line 4348: expected 19 fields, saw 50\\nSkipping line 4352: expected 19 fields, saw 168\\nSkipping line 4360: expected 19 fields, saw 51\\nSkipping line 4368: expected 19 fields, saw 54\\nSkipping line 4380: expected 19 fields, saw 39\\nSkipping line 4382: expected 19 fields, saw 133\\nSkipping line 4390: expected 19 fields, saw 83\\nSkipping line 4392: expected 19 fields, saw 52\\nSkipping line 4396: expected 19 fields, saw 193\\nSkipping line 4400: expected 19 fields, saw 30\\nSkipping line 4403: expected 19 fields, saw 65\\nSkipping line 4405: expected 19 fields, saw 23\\nSkipping line 4406: expected 19 fields, saw 168\\nSkipping line 4416: expected 19 fields, saw 45\\nSkipping line 4418: expected 19 fields, saw 157\\nSkipping line 4422: expected 19 fields, saw 85\\nSkipping line 4427: expected 19 fields, saw 232\\nSkipping line 4433: expected 19 fields, saw 33\\nSkipping line 4440: expected 19 fields, saw 88\\nSkipping line 4441: expected 19 fields, saw 133\\nSkipping line 4443: expected 19 fields, saw 62\\nSkipping line 4447: expected 19 fields, saw 193\\nSkipping line 4448: expected 19 fields, saw 45\\nSkipping line 4449: expected 19 fields, saw 106\\nSkipping line 4453: expected 19 fields, saw 32\\nSkipping line 4457: expected 19 fields, saw 168\\nSkipping line 4461: expected 19 fields, saw 101\\nSkipping line 4464: expected 19 fields, saw 45\\nSkipping line 4465: expected 19 fields, saw 88\\nSkipping line 4466: expected 19 fields, saw 39\\nSkipping line 4468: expected 19 fields, saw 38\\nSkipping line 4469: expected 19 fields, saw 46\\nSkipping line 4473: expected 19 fields, saw 132\\nSkipping line 4475: expected 19 fields, saw 40\\nSkipping line 4477: expected 19 fields, saw 78\\nSkipping line 4480: expected 19 fields, saw 93\\nSkipping line 4482: expected 19 fields, saw 193\\nSkipping line 4483: expected 19 fields, saw 57\\nSkipping line 4484: expected 19 fields, saw 37\\nSkipping line 4488: expected 19 fields, saw 93\\nSkipping line 4492: expected 19 fields, saw 168\\nSkipping line 4494: expected 19 fields, saw 40\\nSkipping line 4495: expected 19 fields, saw 65\\nSkipping line 4500: expected 19 fields, saw 78\\nSkipping line 4502: expected 19 fields, saw 168\\nSkipping line 4504: expected 19 fields, saw 53\\nSkipping line 4507: expected 19 fields, saw 27\\nSkipping line 4511: expected 19 fields, saw 193\\nSkipping line 4512: expected 19 fields, saw 65\\nSkipping line 4513: expected 19 fields, saw 43\\nSkipping line 4519: expected 19 fields, saw 46\\nSkipping line 4524: expected 19 fields, saw 51\\nSkipping line 4535: expected 19 fields, saw 107\\nSkipping line 4539: expected 19 fields, saw 49\\nSkipping line 4541: expected 19 fields, saw 70\\nSkipping line 4542: expected 19 fields, saw 94\\nSkipping line 4543: expected 19 fields, saw 168\\nSkipping line 4544: expected 19 fields, saw 162\\nSkipping line 4547: expected 19 fields, saw 28\\nSkipping line 4549: expected 19 fields, saw 168\\nSkipping line 4550: expected 19 fields, saw 263\\nSkipping line 4553: expected 19 fields, saw 62\\nSkipping line 4555: expected 19 fields, saw 44\\nSkipping line 4563: expected 19 fields, saw 199\\nSkipping line 4567: expected 19 fields, saw 33\\nSkipping line 4568: expected 19 fields, saw 61\\nSkipping line 4574: expected 19 fields, saw 76\\nSkipping line 4587: expected 19 fields, saw 101\\nSkipping line 4588: expected 19 fields, saw 93\\nSkipping line 4594: expected 19 fields, saw 168\\nSkipping line 4597: expected 19 fields, saw 96\\nSkipping line 4598: expected 19 fields, saw 101\\nSkipping line 4605: expected 19 fields, saw 105\\nSkipping line 4608: expected 19 fields, saw 27\\nSkipping line 4610: expected 19 fields, saw 32\\nSkipping line 4612: expected 19 fields, saw 98\\nSkipping line 4614: expected 19 fields, saw 130\\nSkipping line 4615: expected 19 fields, saw 32\\nSkipping line 4616: expected 19 fields, saw 38\\nSkipping line 4617: expected 19 fields, saw 61\\nSkipping line 4623: expected 19 fields, saw 53\\nSkipping line 4624: expected 19 fields, saw 82\\nSkipping line 4628: expected 19 fields, saw 32\\nSkipping line 4631: expected 19 fields, saw 124\\nSkipping line 4635: expected 19 fields, saw 183\\nSkipping line 4636: expected 19 fields, saw 132\\nSkipping line 4640: expected 19 fields, saw 50\\nSkipping line 4643: expected 19 fields, saw 26\\nSkipping line 4644: expected 19 fields, saw 63\\nSkipping line 4647: expected 19 fields, saw 193\\nSkipping line 4652: expected 19 fields, saw 168\\nSkipping line 4655: expected 19 fields, saw 113\\nSkipping line 4659: expected 19 fields, saw 183\\nSkipping line 4663: expected 19 fields, saw 168\\nSkipping line 4668: expected 19 fields, saw 34\\nSkipping line 4670: expected 19 fields, saw 35\\nSkipping line 4683: expected 19 fields, saw 45\\nSkipping line 4687: expected 19 fields, saw 21\\nSkipping line 4699: expected 19 fields, saw 27\\nSkipping line 4708: expected 19 fields, saw 21\\nSkipping line 4710: expected 19 fields, saw 45\\nSkipping line 4712: expected 19 fields, saw 168\\nSkipping line 4714: expected 19 fields, saw 35\\nSkipping line 4715: expected 19 fields, saw 25\\nSkipping line 4716: expected 19 fields, saw 155\\nSkipping line 4723: expected 19 fields, saw 29\\nSkipping line 4729: expected 19 fields, saw 130\\nSkipping line 4738: expected 19 fields, saw 34\\nSkipping line 4739: expected 19 fields, saw 68\\nSkipping line 4740: expected 19 fields, saw 151\\nSkipping line 4741: expected 19 fields, saw 87\\nSkipping line 4743: expected 19 fields, saw 64\\nSkipping line 4748: expected 19 fields, saw 157\\nSkipping line 4754: expected 19 fields, saw 189\\nSkipping line 4763: expected 19 fields, saw 27\\nSkipping line 4773: expected 19 fields, saw 189\\nSkipping line 4775: expected 19 fields, saw 33\\nSkipping line 4778: expected 19 fields, saw 189\\nSkipping line 4782: expected 19 fields, saw 40\\nSkipping line 4785: expected 19 fields, saw 189\\nSkipping line 4786: expected 19 fields, saw 30\\nSkipping line 4789: expected 19 fields, saw 33\\nSkipping line 4796: expected 19 fields, saw 21\\nSkipping line 4798: expected 19 fields, saw 38\\nSkipping line 4804: expected 19 fields, saw 29\\nSkipping line 4809: expected 19 fields, saw 130\\nSkipping line 4822: expected 19 fields, saw 33\\nSkipping line 4833: expected 19 fields, saw 130\\nSkipping line 4837: expected 19 fields, saw 152\\nSkipping line 4839: expected 19 fields, saw 42\\nSkipping line 4844: expected 19 fields, saw 74\\nSkipping line 4853: expected 19 fields, saw 41\\nSkipping line 4855: expected 19 fields, saw 74\\nSkipping line 4856: expected 19 fields, saw 30\\nSkipping line 4860: expected 19 fields, saw 105\\nSkipping line 4862: expected 19 fields, saw 56\\nSkipping line 4865: expected 19 fields, saw 114\\nSkipping line 4866: expected 19 fields, saw 134\\nSkipping line 4871: expected 19 fields, saw 34\\nSkipping line 4878: expected 19 fields, saw 65\\nSkipping line 4880: expected 19 fields, saw 88\\nSkipping line 4881: expected 19 fields, saw 134\\nSkipping line 4890: expected 19 fields, saw 71\\nSkipping line 4891: expected 19 fields, saw 71\\nSkipping line 4892: expected 19 fields, saw 21\\nSkipping line 4895: expected 19 fields, saw 130\\nSkipping line 4901: expected 19 fields, saw 33\\nSkipping line 4906: expected 19 fields, saw 34\\nSkipping line 4914: expected 19 fields, saw 137\\nSkipping line 4915: expected 19 fields, saw 68\\nSkipping line 4932: expected 19 fields, saw 27\\nSkipping line 4934: expected 19 fields, saw 55\\nSkipping line 4935: expected 19 fields, saw 24\\nSkipping line 4937: expected 19 fields, saw 21\\nSkipping line 4938: expected 19 fields, saw 75\\nSkipping line 4944: expected 19 fields, saw 137\\nSkipping line 4946: expected 19 fields, saw 61\\nSkipping line 4948: expected 19 fields, saw 40\\nSkipping line 4954: expected 19 fields, saw 192\\nSkipping line 4962: expected 19 fields, saw 27\\nSkipping line 4968: expected 19 fields, saw 61\\nSkipping line 4973: expected 19 fields, saw 82\\nSkipping line 4984: expected 19 fields, saw 29\\nSkipping line 4985: expected 19 fields, saw 66\\nSkipping line 4992: expected 19 fields, saw 82\\nSkipping line 4998: expected 19 fields, saw 91\\nSkipping line 4999: expected 19 fields, saw 61\\n'\n",
      "b'Skipping line 21: expected 19 fields, saw 144\\nSkipping line 24: expected 19 fields, saw 125\\nSkipping line 33: expected 19 fields, saw 39\\nSkipping line 47: expected 19 fields, saw 24\\nSkipping line 53: expected 19 fields, saw 34\\nSkipping line 64: expected 19 fields, saw 114\\nSkipping line 71: expected 19 fields, saw 287\\nSkipping line 73: expected 19 fields, saw 34\\nSkipping line 101: expected 19 fields, saw 61\\nSkipping line 104: expected 19 fields, saw 29\\nSkipping line 106: expected 19 fields, saw 61\\nSkipping line 108: expected 19 fields, saw 52\\nSkipping line 109: expected 19 fields, saw 33\\nSkipping line 112: expected 19 fields, saw 31\\nSkipping line 113: expected 19 fields, saw 30\\nSkipping line 115: expected 19 fields, saw 34\\nSkipping line 121: expected 19 fields, saw 33\\nSkipping line 127: expected 19 fields, saw 77\\nSkipping line 133: expected 19 fields, saw 101\\nSkipping line 135: expected 19 fields, saw 62\\nSkipping line 136: expected 19 fields, saw 194\\nSkipping line 140: expected 19 fields, saw 38\\nSkipping line 147: expected 19 fields, saw 60\\nSkipping line 154: expected 19 fields, saw 94\\nSkipping line 161: expected 19 fields, saw 41\\nSkipping line 167: expected 19 fields, saw 49\\nSkipping line 174: expected 19 fields, saw 98\\nSkipping line 177: expected 19 fields, saw 130\\nSkipping line 181: expected 19 fields, saw 42\\nSkipping line 183: expected 19 fields, saw 52\\nSkipping line 184: expected 19 fields, saw 27\\nSkipping line 190: expected 19 fields, saw 61\\nSkipping line 197: expected 19 fields, saw 49\\nSkipping line 201: expected 19 fields, saw 50\\nSkipping line 219: expected 19 fields, saw 380\\nSkipping line 221: expected 19 fields, saw 56\\nSkipping line 226: expected 19 fields, saw 64\\nSkipping line 227: expected 19 fields, saw 98\\nSkipping line 237: expected 19 fields, saw 98\\nSkipping line 240: expected 19 fields, saw 38\\nSkipping line 242: expected 19 fields, saw 98\\nSkipping line 264: expected 19 fields, saw 94\\nSkipping line 265: expected 19 fields, saw 94\\nSkipping line 266: expected 19 fields, saw 34\\nSkipping line 275: expected 19 fields, saw 59\\nSkipping line 278: expected 19 fields, saw 122\\nSkipping line 294: expected 19 fields, saw 59\\nSkipping line 300: expected 19 fields, saw 80\\nSkipping line 301: expected 19 fields, saw 288\\nSkipping line 316: expected 19 fields, saw 65\\nSkipping line 320: expected 19 fields, saw 58\\nSkipping line 327: expected 19 fields, saw 56\\nSkipping line 330: expected 19 fields, saw 157\\nSkipping line 331: expected 19 fields, saw 96\\nSkipping line 341: expected 19 fields, saw 80\\nSkipping line 353: expected 19 fields, saw 22\\nSkipping line 386: expected 19 fields, saw 380\\nSkipping line 413: expected 19 fields, saw 49\\nSkipping line 416: expected 19 fields, saw 44\\nSkipping line 421: expected 19 fields, saw 22\\nSkipping line 435: expected 19 fields, saw 177\\nSkipping line 450: expected 19 fields, saw 59\\nSkipping line 452: expected 19 fields, saw 380\\nSkipping line 462: expected 19 fields, saw 55\\nSkipping line 470: expected 19 fields, saw 292\\nSkipping line 484: expected 19 fields, saw 75\\nSkipping line 485: expected 19 fields, saw 24\\nSkipping line 498: expected 19 fields, saw 35\\nSkipping line 500: expected 19 fields, saw 420\\nSkipping line 509: expected 19 fields, saw 41\\nSkipping line 511: expected 19 fields, saw 40\\nSkipping line 514: expected 19 fields, saw 108\\nSkipping line 527: expected 19 fields, saw 41\\nSkipping line 538: expected 19 fields, saw 82\\nSkipping line 539: expected 19 fields, saw 80\\nSkipping line 541: expected 19 fields, saw 41\\nSkipping line 545: expected 19 fields, saw 45\\nSkipping line 551: expected 19 fields, saw 26\\nSkipping line 554: expected 19 fields, saw 29\\nSkipping line 557: expected 19 fields, saw 355\\nSkipping line 563: expected 19 fields, saw 75\\nSkipping line 564: expected 19 fields, saw 107\\nSkipping line 575: expected 19 fields, saw 75\\nSkipping line 576: expected 19 fields, saw 44\\nSkipping line 585: expected 19 fields, saw 664\\nSkipping line 588: expected 19 fields, saw 107\\nSkipping line 592: expected 19 fields, saw 75\\nSkipping line 598: expected 19 fields, saw 90\\nSkipping line 600: expected 19 fields, saw 65\\nSkipping line 601: expected 19 fields, saw 80\\nSkipping line 616: expected 19 fields, saw 101\\nSkipping line 634: expected 19 fields, saw 56\\nSkipping line 636: expected 19 fields, saw 288\\nSkipping line 640: expected 19 fields, saw 380\\nSkipping line 641: expected 19 fields, saw 40\\nSkipping line 645: expected 19 fields, saw 31\\nSkipping line 660: expected 19 fields, saw 80\\nSkipping line 665: expected 19 fields, saw 68\\nSkipping line 666: expected 19 fields, saw 126\\nSkipping line 680: expected 19 fields, saw 57\\nSkipping line 689: expected 19 fields, saw 36\\nSkipping line 696: expected 19 fields, saw 115\\nSkipping line 705: expected 19 fields, saw 126\\nSkipping line 713: expected 19 fields, saw 179\\nSkipping line 723: expected 19 fields, saw 132\\nSkipping line 742: expected 19 fields, saw 46\\nSkipping line 746: expected 19 fields, saw 49\\nSkipping line 755: expected 19 fields, saw 664\\nSkipping line 768: expected 19 fields, saw 59\\nSkipping line 770: expected 19 fields, saw 41\\nSkipping line 785: expected 19 fields, saw 134\\nSkipping line 791: expected 19 fields, saw 22\\nSkipping line 804: expected 19 fields, saw 22\\nSkipping line 814: expected 19 fields, saw 380\\nSkipping line 816: expected 19 fields, saw 380\\nSkipping line 826: expected 19 fields, saw 23\\nSkipping line 830: expected 19 fields, saw 128\\nSkipping line 838: expected 19 fields, saw 85\\nSkipping line 840: expected 19 fields, saw 63\\nSkipping line 854: expected 19 fields, saw 61\\nSkipping line 855: expected 19 fields, saw 54\\nSkipping line 861: expected 19 fields, saw 53\\nSkipping line 864: expected 19 fields, saw 231\\nSkipping line 882: expected 19 fields, saw 56\\nSkipping line 883: expected 19 fields, saw 101\\nSkipping line 890: expected 19 fields, saw 53\\nSkipping line 894: expected 19 fields, saw 50\\nSkipping line 897: expected 19 fields, saw 66\\nSkipping line 903: expected 19 fields, saw 67\\nSkipping line 905: expected 19 fields, saw 24\\nSkipping line 909: expected 19 fields, saw 73\\nSkipping line 911: expected 19 fields, saw 40\\nSkipping line 920: expected 19 fields, saw 107\\nSkipping line 923: expected 19 fields, saw 128\\nSkipping line 929: expected 19 fields, saw 32\\nSkipping line 955: expected 19 fields, saw 201\\nSkipping line 984: expected 19 fields, saw 37\\nSkipping line 988: expected 19 fields, saw 380\\nSkipping line 993: expected 19 fields, saw 112\\nSkipping line 997: expected 19 fields, saw 22\\nSkipping line 998: expected 19 fields, saw 133\\nSkipping line 1000: expected 19 fields, saw 65\\nSkipping line 1012: expected 19 fields, saw 107\\nSkipping line 1022: expected 19 fields, saw 27\\nSkipping line 1041: expected 19 fields, saw 36\\nSkipping line 1055: expected 19 fields, saw 23\\nSkipping line 1085: expected 19 fields, saw 47\\nSkipping line 1086: expected 19 fields, saw 29\\nSkipping line 1098: expected 19 fields, saw 105\\nSkipping line 1101: expected 19 fields, saw 60\\nSkipping line 1128: expected 19 fields, saw 65\\nSkipping line 1132: expected 19 fields, saw 56\\nSkipping line 1135: expected 19 fields, saw 31\\nSkipping line 1138: expected 19 fields, saw 53\\nSkipping line 1141: expected 19 fields, saw 201\\nSkipping line 1145: expected 19 fields, saw 37\\nSkipping line 1156: expected 19 fields, saw 56\\nSkipping line 1165: expected 19 fields, saw 96\\nSkipping line 1172: expected 19 fields, saw 56\\nSkipping line 1176: expected 19 fields, saw 75\\nSkipping line 1186: expected 19 fields, saw 135\\nSkipping line 1189: expected 19 fields, saw 416\\nSkipping line 1197: expected 19 fields, saw 56\\nSkipping line 1198: expected 19 fields, saw 201\\nSkipping line 1207: expected 19 fields, saw 56\\nSkipping line 1215: expected 19 fields, saw 56\\nSkipping line 1220: expected 19 fields, saw 137\\nSkipping line 1222: expected 19 fields, saw 74\\nSkipping line 1225: expected 19 fields, saw 69\\nSkipping line 1229: expected 19 fields, saw 416\\nSkipping line 1231: expected 19 fields, saw 25\\nSkipping line 1232: expected 19 fields, saw 58\\nSkipping line 1235: expected 19 fields, saw 27\\nSkipping line 1252: expected 19 fields, saw 43\\nSkipping line 1264: expected 19 fields, saw 201\\nSkipping line 1272: expected 19 fields, saw 64\\nSkipping line 1274: expected 19 fields, saw 74\\nSkipping line 1286: expected 19 fields, saw 41\\nSkipping line 1288: expected 19 fields, saw 135\\nSkipping line 1290: expected 19 fields, saw 101\\nSkipping line 1292: expected 19 fields, saw 109\\nSkipping line 1294: expected 19 fields, saw 125\\nSkipping line 1304: expected 19 fields, saw 69\\nSkipping line 1317: expected 19 fields, saw 119\\nSkipping line 1325: expected 19 fields, saw 24\\nSkipping line 1326: expected 19 fields, saw 50\\nSkipping line 1328: expected 19 fields, saw 201\\nSkipping line 1345: expected 19 fields, saw 125\\nSkipping line 1347: expected 19 fields, saw 27\\nSkipping line 1349: expected 19 fields, saw 35\\nSkipping line 1352: expected 19 fields, saw 69\\nSkipping line 1363: expected 19 fields, saw 48\\nSkipping line 1370: expected 19 fields, saw 125\\nSkipping line 1397: expected 19 fields, saw 179\\nSkipping line 1404: expected 19 fields, saw 35\\nSkipping line 1410: expected 19 fields, saw 51\\nSkipping line 1413: expected 19 fields, saw 103\\nSkipping line 1415: expected 19 fields, saw 125\\nSkipping line 1432: expected 19 fields, saw 37\\nSkipping line 1435: expected 19 fields, saw 66\\nSkipping line 1446: expected 19 fields, saw 135\\nSkipping line 1454: expected 19 fields, saw 67\\nSkipping line 1456: expected 19 fields, saw 79\\nSkipping line 1462: expected 19 fields, saw 151\\nSkipping line 1465: expected 19 fields, saw 26\\nSkipping line 1475: expected 19 fields, saw 49\\nSkipping line 1480: expected 19 fields, saw 125\\nSkipping line 1490: expected 19 fields, saw 125\\nSkipping line 1510: expected 19 fields, saw 231\\nSkipping line 1512: expected 19 fields, saw 119\\nSkipping line 1513: expected 19 fields, saw 664\\nSkipping line 1514: expected 19 fields, saw 124\\nSkipping line 1549: expected 19 fields, saw 129\\nSkipping line 1563: expected 19 fields, saw 50\\nSkipping line 1576: expected 19 fields, saw 52\\nSkipping line 1583: expected 19 fields, saw 22\\nSkipping line 1587: expected 19 fields, saw 34\\nSkipping line 1589: expected 19 fields, saw 44\\nSkipping line 1608: expected 19 fields, saw 132\\nSkipping line 1611: expected 19 fields, saw 157\\nSkipping line 1632: expected 19 fields, saw 88\\nSkipping line 1649: expected 19 fields, saw 97\\nSkipping line 1655: expected 19 fields, saw 117\\nSkipping line 1661: expected 19 fields, saw 231\\nSkipping line 1670: expected 19 fields, saw 53\\nSkipping line 1674: expected 19 fields, saw 23\\nSkipping line 1698: expected 19 fields, saw 62\\nSkipping line 1716: expected 19 fields, saw 77\\nSkipping line 1744: expected 19 fields, saw 664\\nSkipping line 1747: expected 19 fields, saw 57\\nSkipping line 1756: expected 19 fields, saw 44\\nSkipping line 1758: expected 19 fields, saw 99\\nSkipping line 1767: expected 19 fields, saw 178\\nSkipping line 1769: expected 19 fields, saw 23\\nSkipping line 1778: expected 19 fields, saw 85\\nSkipping line 1791: expected 19 fields, saw 237\\nSkipping line 1808: expected 19 fields, saw 101\\nSkipping line 1813: expected 19 fields, saw 20\\nSkipping line 1819: expected 19 fields, saw 65\\nSkipping line 1824: expected 19 fields, saw 35\\nSkipping line 1831: expected 19 fields, saw 38\\nSkipping line 1835: expected 19 fields, saw 57\\nSkipping line 1840: expected 19 fields, saw 46\\nSkipping line 1848: expected 19 fields, saw 54\\nSkipping line 1875: expected 19 fields, saw 45\\nSkipping line 1877: expected 19 fields, saw 54\\nSkipping line 1880: expected 19 fields, saw 43\\nSkipping line 1893: expected 19 fields, saw 48\\nSkipping line 1899: expected 19 fields, saw 91\\nSkipping line 1903: expected 19 fields, saw 46\\nSkipping line 1907: expected 19 fields, saw 30\\nSkipping line 1908: expected 19 fields, saw 49\\nSkipping line 1921: expected 19 fields, saw 23\\nSkipping line 1939: expected 19 fields, saw 54\\nSkipping line 1944: expected 19 fields, saw 21\\nSkipping line 1945: expected 19 fields, saw 54\\nSkipping line 1955: expected 19 fields, saw 103\\nSkipping line 1963: expected 19 fields, saw 88\\nSkipping line 1965: expected 19 fields, saw 78\\nSkipping line 1972: expected 19 fields, saw 141\\nSkipping line 1988: expected 19 fields, saw 88\\nSkipping line 1990: expected 19 fields, saw 51\\nSkipping line 1994: expected 19 fields, saw 35\\nSkipping line 1996: expected 19 fields, saw 34\\nSkipping line 1999: expected 19 fields, saw 56\\nSkipping line 2003: expected 19 fields, saw 23\\nSkipping line 2007: expected 19 fields, saw 66\\nSkipping line 2017: expected 19 fields, saw 34\\nSkipping line 2024: expected 19 fields, saw 79\\nSkipping line 2027: expected 19 fields, saw 35\\nSkipping line 2034: expected 19 fields, saw 141\\nSkipping line 2037: expected 19 fields, saw 55\\nSkipping line 2067: expected 19 fields, saw 49\\nSkipping line 2072: expected 19 fields, saw 43\\nSkipping line 2079: expected 19 fields, saw 21\\nSkipping line 2082: expected 19 fields, saw 22\\nSkipping line 2089: expected 19 fields, saw 22\\nSkipping line 2097: expected 19 fields, saw 34\\nSkipping line 2103: expected 19 fields, saw 46\\nSkipping line 2108: expected 19 fields, saw 22\\nSkipping line 2112: expected 19 fields, saw 22\\nSkipping line 2113: expected 19 fields, saw 21\\nSkipping line 2119: expected 19 fields, saw 23\\nSkipping line 2123: expected 19 fields, saw 50\\nSkipping line 2124: expected 19 fields, saw 22\\nSkipping line 2146: expected 19 fields, saw 78\\nSkipping line 2156: expected 19 fields, saw 37\\nSkipping line 2161: expected 19 fields, saw 92\\nSkipping line 2180: expected 19 fields, saw 53\\nSkipping line 2182: expected 19 fields, saw 52\\nSkipping line 2187: expected 19 fields, saw 37\\nSkipping line 2189: expected 19 fields, saw 53\\nSkipping line 2199: expected 19 fields, saw 35\\nSkipping line 2201: expected 19 fields, saw 39\\nSkipping line 2203: expected 19 fields, saw 53\\nSkipping line 2219: expected 19 fields, saw 44\\nSkipping line 2220: expected 19 fields, saw 23\\nSkipping line 2231: expected 19 fields, saw 33\\nSkipping line 2237: expected 19 fields, saw 35\\nSkipping line 2244: expected 19 fields, saw 30\\nSkipping line 2257: expected 19 fields, saw 23\\nSkipping line 2258: expected 19 fields, saw 100\\nSkipping line 2269: expected 19 fields, saw 50\\nSkipping line 2278: expected 19 fields, saw 111\\nSkipping line 2282: expected 19 fields, saw 93\\nSkipping line 2293: expected 19 fields, saw 68\\nSkipping line 2297: expected 19 fields, saw 95\\nSkipping line 2298: expected 19 fields, saw 23\\nSkipping line 2305: expected 19 fields, saw 92\\nSkipping line 2306: expected 19 fields, saw 88\\nSkipping line 2310: expected 19 fields, saw 126\\nSkipping line 2317: expected 19 fields, saw 93\\nSkipping line 2327: expected 19 fields, saw 126\\nSkipping line 2336: expected 19 fields, saw 37\\nSkipping line 2342: expected 19 fields, saw 35\\nSkipping line 2344: expected 19 fields, saw 70\\nSkipping line 2345: expected 19 fields, saw 79\\nSkipping line 2350: expected 19 fields, saw 23\\nSkipping line 2352: expected 19 fields, saw 171\\nSkipping line 2362: expected 19 fields, saw 38\\nSkipping line 2363: expected 19 fields, saw 24\\nSkipping line 2378: expected 19 fields, saw 38\\nSkipping line 2384: expected 19 fields, saw 93\\nSkipping line 2406: expected 19 fields, saw 63\\nSkipping line 2407: expected 19 fields, saw 49\\nSkipping line 2412: expected 19 fields, saw 28\\nSkipping line 2415: expected 19 fields, saw 44\\nSkipping line 2434: expected 19 fields, saw 58\\nSkipping line 2438: expected 19 fields, saw 76\\nSkipping line 2452: expected 19 fields, saw 89\\nSkipping line 2461: expected 19 fields, saw 115\\nSkipping line 2468: expected 19 fields, saw 57\\nSkipping line 2469: expected 19 fields, saw 87\\nSkipping line 2470: expected 19 fields, saw 52\\nSkipping line 2476: expected 19 fields, saw 59\\nSkipping line 2484: expected 19 fields, saw 111\\nSkipping line 2491: expected 19 fields, saw 38\\nSkipping line 2492: expected 19 fields, saw 133\\nSkipping line 2499: expected 19 fields, saw 196\\nSkipping line 2503: expected 19 fields, saw 40\\nSkipping line 2516: expected 19 fields, saw 22\\nSkipping line 2521: expected 19 fields, saw 35\\nSkipping line 2525: expected 19 fields, saw 90\\nSkipping line 2533: expected 19 fields, saw 37\\nSkipping line 2540: expected 19 fields, saw 90\\nSkipping line 2548: expected 19 fields, saw 111\\nSkipping line 2552: expected 19 fields, saw 71\\nSkipping line 2561: expected 19 fields, saw 112\\nSkipping line 2568: expected 19 fields, saw 111\\nSkipping line 2570: expected 19 fields, saw 111\\nSkipping line 2591: expected 19 fields, saw 45\\nSkipping line 2593: expected 19 fields, saw 47\\nSkipping line 2595: expected 19 fields, saw 32\\nSkipping line 2596: expected 19 fields, saw 68\\nSkipping line 2606: expected 19 fields, saw 115\\nSkipping line 2618: expected 19 fields, saw 27\\nSkipping line 2630: expected 19 fields, saw 52\\nSkipping line 2644: expected 19 fields, saw 89\\nSkipping line 2647: expected 19 fields, saw 66\\nSkipping line 2648: expected 19 fields, saw 35\\nSkipping line 2654: expected 19 fields, saw 25\\nSkipping line 2658: expected 19 fields, saw 25\\nSkipping line 2659: expected 19 fields, saw 79\\nSkipping line 2672: expected 19 fields, saw 33\\nSkipping line 2674: expected 19 fields, saw 21\\nSkipping line 2677: expected 19 fields, saw 98\\nSkipping line 2682: expected 19 fields, saw 78\\nSkipping line 2684: expected 19 fields, saw 53\\nSkipping line 2688: expected 19 fields, saw 29\\nSkipping line 2692: expected 19 fields, saw 71\\nSkipping line 2701: expected 19 fields, saw 49\\nSkipping line 2702: expected 19 fields, saw 49\\nSkipping line 2707: expected 19 fields, saw 25\\nSkipping line 2717: expected 19 fields, saw 111\\nSkipping line 2719: expected 19 fields, saw 217\\nSkipping line 2720: expected 19 fields, saw 217\\nSkipping line 2730: expected 19 fields, saw 21\\nSkipping line 2732: expected 19 fields, saw 146\\nSkipping line 2751: expected 19 fields, saw 50\\nSkipping line 2753: expected 19 fields, saw 50\\nSkipping line 2755: expected 19 fields, saw 146\\nSkipping line 2765: expected 19 fields, saw 115\\nSkipping line 2789: expected 19 fields, saw 56\\nSkipping line 2819: expected 19 fields, saw 217\\nSkipping line 2820: expected 19 fields, saw 103\\nSkipping line 2827: expected 19 fields, saw 87\\nSkipping line 2829: expected 19 fields, saw 119\\nSkipping line 2833: expected 19 fields, saw 101\\nSkipping line 2841: expected 19 fields, saw 113\\nSkipping line 2849: expected 19 fields, saw 40\\nSkipping line 2851: expected 19 fields, saw 195\\nSkipping line 2856: expected 19 fields, saw 32\\nSkipping line 2857: expected 19 fields, saw 63\\nSkipping line 2869: expected 19 fields, saw 27\\nSkipping line 2876: expected 19 fields, saw 68\\nSkipping line 2879: expected 19 fields, saw 21\\nSkipping line 2881: expected 19 fields, saw 39\\nSkipping line 2891: expected 19 fields, saw 103\\nSkipping line 2895: expected 19 fields, saw 32\\nSkipping line 2898: expected 19 fields, saw 105\\nSkipping line 2904: expected 19 fields, saw 50\\nSkipping line 2907: expected 19 fields, saw 68\\nSkipping line 2911: expected 19 fields, saw 167\\nSkipping line 2921: expected 19 fields, saw 71\\nSkipping line 2935: expected 19 fields, saw 40\\nSkipping line 2940: expected 19 fields, saw 40\\nSkipping line 2943: expected 19 fields, saw 24\\nSkipping line 2952: expected 19 fields, saw 111\\nSkipping line 2953: expected 19 fields, saw 115\\nSkipping line 2955: expected 19 fields, saw 89\\nSkipping line 2956: expected 19 fields, saw 125\\nSkipping line 2966: expected 19 fields, saw 37\\nSkipping line 2981: expected 19 fields, saw 31\\nSkipping line 2984: expected 19 fields, saw 89\\nSkipping line 2987: expected 19 fields, saw 68\\nSkipping line 2989: expected 19 fields, saw 28\\nSkipping line 2995: expected 19 fields, saw 96\\nSkipping line 3019: expected 19 fields, saw 196\\nSkipping line 3024: expected 19 fields, saw 40\\nSkipping line 3048: expected 19 fields, saw 23\\nSkipping line 3049: expected 19 fields, saw 44\\nSkipping line 3051: expected 19 fields, saw 31\\nSkipping line 3054: expected 19 fields, saw 32\\nSkipping line 3060: expected 19 fields, saw 40\\nSkipping line 3068: expected 19 fields, saw 115\\nSkipping line 3075: expected 19 fields, saw 40\\nSkipping line 3078: expected 19 fields, saw 58\\nSkipping line 3085: expected 19 fields, saw 35\\nSkipping line 3089: expected 19 fields, saw 39\\nSkipping line 3118: expected 19 fields, saw 25\\nSkipping line 3151: expected 19 fields, saw 39\\nSkipping line 3157: expected 19 fields, saw 157\\nSkipping line 3166: expected 19 fields, saw 113\\nSkipping line 3177: expected 19 fields, saw 33\\nSkipping line 3205: expected 19 fields, saw 51\\nSkipping line 3206: expected 19 fields, saw 32\\nSkipping line 3221: expected 19 fields, saw 70\\nSkipping line 3234: expected 19 fields, saw 44\\nSkipping line 3243: expected 19 fields, saw 51\\nSkipping line 3250: expected 19 fields, saw 44\\nSkipping line 3252: expected 19 fields, saw 210\\nSkipping line 3260: expected 19 fields, saw 103\\nSkipping line 3266: expected 19 fields, saw 43\\nSkipping line 3284: expected 19 fields, saw 239\\nSkipping line 3287: expected 19 fields, saw 68\\nSkipping line 3291: expected 19 fields, saw 78\\nSkipping line 3295: expected 19 fields, saw 113\\nSkipping line 3297: expected 19 fields, saw 141\\nSkipping line 3300: expected 19 fields, saw 32\\nSkipping line 3304: expected 19 fields, saw 99\\nSkipping line 3306: expected 19 fields, saw 44\\nSkipping line 3324: expected 19 fields, saw 44\\nSkipping line 3329: expected 19 fields, saw 103\\nSkipping line 3330: expected 19 fields, saw 28\\nSkipping line 3346: expected 19 fields, saw 139\\nSkipping line 3351: expected 19 fields, saw 90\\nSkipping line 3355: expected 19 fields, saw 118\\nSkipping line 3356: expected 19 fields, saw 51\\nSkipping line 3369: expected 19 fields, saw 77\\nSkipping line 3371: expected 19 fields, saw 168\\nSkipping line 3374: expected 19 fields, saw 32\\nSkipping line 3375: expected 19 fields, saw 69\\nSkipping line 3395: expected 19 fields, saw 27\\nSkipping line 3396: expected 19 fields, saw 112\\nSkipping line 3398: expected 19 fields, saw 28\\nSkipping line 3401: expected 19 fields, saw 77\\nSkipping line 3402: expected 19 fields, saw 77\\nSkipping line 3406: expected 19 fields, saw 46\\nSkipping line 3412: expected 19 fields, saw 29\\nSkipping line 3413: expected 19 fields, saw 70\\nSkipping line 3414: expected 19 fields, saw 32\\nSkipping line 3449: expected 19 fields, saw 36\\nSkipping line 3459: expected 19 fields, saw 32\\nSkipping line 3470: expected 19 fields, saw 103\\nSkipping line 3488: expected 19 fields, saw 42\\nSkipping line 3512: expected 19 fields, saw 239\\nSkipping line 3521: expected 19 fields, saw 65\\nSkipping line 3535: expected 19 fields, saw 23\\nSkipping line 3540: expected 19 fields, saw 68\\nSkipping line 3548: expected 19 fields, saw 155\\nSkipping line 3554: expected 19 fields, saw 32\\nSkipping line 3561: expected 19 fields, saw 61\\nSkipping line 3572: expected 19 fields, saw 21\\nSkipping line 3577: expected 19 fields, saw 36\\nSkipping line 3581: expected 19 fields, saw 45\\nSkipping line 3583: expected 19 fields, saw 44\\nSkipping line 3607: expected 19 fields, saw 36\\nSkipping line 3608: expected 19 fields, saw 23\\nSkipping line 3621: expected 19 fields, saw 25\\nSkipping line 3622: expected 19 fields, saw 36\\nSkipping line 3633: expected 19 fields, saw 36\\nSkipping line 3634: expected 19 fields, saw 27\\nSkipping line 3650: expected 19 fields, saw 61\\nSkipping line 3651: expected 19 fields, saw 57\\nSkipping line 3659: expected 19 fields, saw 36\\nSkipping line 3660: expected 19 fields, saw 239\\nSkipping line 3661: expected 19 fields, saw 36\\nSkipping line 3670: expected 19 fields, saw 61\\nSkipping line 3677: expected 19 fields, saw 25\\nSkipping line 3678: expected 19 fields, saw 36\\nSkipping line 3687: expected 19 fields, saw 239\\nSkipping line 3691: expected 19 fields, saw 102\\nSkipping line 3703: expected 19 fields, saw 31\\nSkipping line 3706: expected 19 fields, saw 34\\nSkipping line 3713: expected 19 fields, saw 99\\nSkipping line 3728: expected 19 fields, saw 27\\nSkipping line 3733: expected 19 fields, saw 28\\nSkipping line 3734: expected 19 fields, saw 239\\nSkipping line 3749: expected 19 fields, saw 31\\nSkipping line 3750: expected 19 fields, saw 103\\nSkipping line 3761: expected 19 fields, saw 239\\nSkipping line 3769: expected 19 fields, saw 239\\nSkipping line 3771: expected 19 fields, saw 68\\nSkipping line 3773: expected 19 fields, saw 239\\nSkipping line 3778: expected 19 fields, saw 239\\nSkipping line 3781: expected 19 fields, saw 23\\nSkipping line 3784: expected 19 fields, saw 239\\nSkipping line 3792: expected 19 fields, saw 23\\nSkipping line 3803: expected 19 fields, saw 239\\nSkipping line 3816: expected 19 fields, saw 239\\nSkipping line 3817: expected 19 fields, saw 239\\nSkipping line 3818: expected 19 fields, saw 61\\nSkipping line 3819: expected 19 fields, saw 61\\nSkipping line 3829: expected 19 fields, saw 54\\nSkipping line 3835: expected 19 fields, saw 23\\nSkipping line 3837: expected 19 fields, saw 61\\nSkipping line 3838: expected 19 fields, saw 102\\nSkipping line 3843: expected 19 fields, saw 239\\nSkipping line 3847: expected 19 fields, saw 102\\nSkipping line 3859: expected 19 fields, saw 239\\nSkipping line 3860: expected 19 fields, saw 62\\nSkipping line 3864: expected 19 fields, saw 75\\nSkipping line 3895: expected 19 fields, saw 26\\nSkipping line 3900: expected 19 fields, saw 63\\nSkipping line 3901: expected 19 fields, saw 72\\nSkipping line 3911: expected 19 fields, saw 239\\nSkipping line 3915: expected 19 fields, saw 95\\nSkipping line 3924: expected 19 fields, saw 239\\nSkipping line 3927: expected 19 fields, saw 68\\nSkipping line 3930: expected 19 fields, saw 239\\nSkipping line 3945: expected 19 fields, saw 239\\nSkipping line 3947: expected 19 fields, saw 44\\nSkipping line 3951: expected 19 fields, saw 21\\nSkipping line 3954: expected 19 fields, saw 69\\nSkipping line 3957: expected 19 fields, saw 34\\nSkipping line 3959: expected 19 fields, saw 111\\nSkipping line 3968: expected 19 fields, saw 72\\nSkipping line 3972: expected 19 fields, saw 82\\nSkipping line 3974: expected 19 fields, saw 185\\nSkipping line 3981: expected 19 fields, saw 24\\nSkipping line 3996: expected 19 fields, saw 62\\nSkipping line 3998: expected 19 fields, saw 45\\nSkipping line 3999: expected 19 fields, saw 43\\nSkipping line 4000: expected 19 fields, saw 29\\nSkipping line 4002: expected 19 fields, saw 33\\nSkipping line 4015: expected 19 fields, saw 63\\nSkipping line 4017: expected 19 fields, saw 33\\nSkipping line 4019: expected 19 fields, saw 25\\nSkipping line 4036: expected 19 fields, saw 39\\nSkipping line 4037: expected 19 fields, saw 27\\nSkipping line 4039: expected 19 fields, saw 29\\nSkipping line 4077: expected 19 fields, saw 119\\nSkipping line 4091: expected 19 fields, saw 55\\nSkipping line 4096: expected 19 fields, saw 79\\nSkipping line 4104: expected 19 fields, saw 40\\nSkipping line 4126: expected 19 fields, saw 41\\nSkipping line 4127: expected 19 fields, saw 63\\nSkipping line 4135: expected 19 fields, saw 47\\nSkipping line 4141: expected 19 fields, saw 65\\nSkipping line 4143: expected 19 fields, saw 55\\nSkipping line 4148: expected 19 fields, saw 29\\nSkipping line 4151: expected 19 fields, saw 185\\nSkipping line 4161: expected 19 fields, saw 50\\nSkipping line 4162: expected 19 fields, saw 63\\nSkipping line 4168: expected 19 fields, saw 28\\nSkipping line 4169: expected 19 fields, saw 25\\nSkipping line 4170: expected 19 fields, saw 67\\nSkipping line 4176: expected 19 fields, saw 67\\nSkipping line 4179: expected 19 fields, saw 59\\nSkipping line 4186: expected 19 fields, saw 68\\nSkipping line 4191: expected 19 fields, saw 27\\nSkipping line 4193: expected 19 fields, saw 30\\nSkipping line 4206: expected 19 fields, saw 57\\nSkipping line 4212: expected 19 fields, saw 32\\nSkipping line 4220: expected 19 fields, saw 64\\nSkipping line 4225: expected 19 fields, saw 31\\nSkipping line 4227: expected 19 fields, saw 58\\nSkipping line 4229: expected 19 fields, saw 63\\nSkipping line 4248: expected 19 fields, saw 54\\nSkipping line 4249: expected 19 fields, saw 29\\nSkipping line 4250: expected 19 fields, saw 63\\nSkipping line 4251: expected 19 fields, saw 31\\nSkipping line 4265: expected 19 fields, saw 101\\nSkipping line 4266: expected 19 fields, saw 57\\nSkipping line 4278: expected 19 fields, saw 68\\nSkipping line 4290: expected 19 fields, saw 40\\nSkipping line 4294: expected 19 fields, saw 32\\nSkipping line 4295: expected 19 fields, saw 26\\nSkipping line 4307: expected 19 fields, saw 32\\nSkipping line 4309: expected 19 fields, saw 57\\nSkipping line 4315: expected 19 fields, saw 111\\nSkipping line 4316: expected 19 fields, saw 68\\nSkipping line 4319: expected 19 fields, saw 22\\nSkipping line 4326: expected 19 fields, saw 22\\nSkipping line 4328: expected 19 fields, saw 68\\nSkipping line 4346: expected 19 fields, saw 26\\nSkipping line 4351: expected 19 fields, saw 32\\nSkipping line 4358: expected 19 fields, saw 111\\nSkipping line 4360: expected 19 fields, saw 54\\nSkipping line 4362: expected 19 fields, saw 61\\nSkipping line 4365: expected 19 fields, saw 29\\nSkipping line 4366: expected 19 fields, saw 60\\nSkipping line 4367: expected 19 fields, saw 57\\nSkipping line 4370: expected 19 fields, saw 29\\nSkipping line 4373: expected 19 fields, saw 101\\nSkipping line 4375: expected 19 fields, saw 40\\nSkipping line 4394: expected 19 fields, saw 22\\nSkipping line 4399: expected 19 fields, saw 38\\nSkipping line 4413: expected 19 fields, saw 56\\nSkipping line 4414: expected 19 fields, saw 31\\nSkipping line 4417: expected 19 fields, saw 91\\nSkipping line 4422: expected 19 fields, saw 50\\nSkipping line 4443: expected 19 fields, saw 35\\nSkipping line 4459: expected 19 fields, saw 60\\nSkipping line 4466: expected 19 fields, saw 33\\nSkipping line 4472: expected 19 fields, saw 84\\nSkipping line 4479: expected 19 fields, saw 87\\nSkipping line 4481: expected 19 fields, saw 48\\nSkipping line 4483: expected 19 fields, saw 46\\nSkipping line 4484: expected 19 fields, saw 95\\nSkipping line 4485: expected 19 fields, saw 87\\nSkipping line 4486: expected 19 fields, saw 55\\nSkipping line 4496: expected 19 fields, saw 26\\nSkipping line 4525: expected 19 fields, saw 70\\nSkipping line 4564: expected 19 fields, saw 96\\nSkipping line 4565: expected 19 fields, saw 87\\nSkipping line 4574: expected 19 fields, saw 87\\nSkipping line 4579: expected 19 fields, saw 64\\nSkipping line 4585: expected 19 fields, saw 52\\nSkipping line 4594: expected 19 fields, saw 33\\nSkipping line 4596: expected 19 fields, saw 99\\nSkipping line 4599: expected 19 fields, saw 54\\nSkipping line 4605: expected 19 fields, saw 67\\nSkipping line 4614: expected 19 fields, saw 34\\nSkipping line 4625: expected 19 fields, saw 31\\nSkipping line 4627: expected 19 fields, saw 52\\nSkipping line 4628: expected 19 fields, saw 69\\nSkipping line 4630: expected 19 fields, saw 84\\nSkipping line 4633: expected 19 fields, saw 26\\nSkipping line 4646: expected 19 fields, saw 63\\nSkipping line 4651: expected 19 fields, saw 26\\nSkipping line 4657: expected 19 fields, saw 77\\nSkipping line 4660: expected 19 fields, saw 109\\nSkipping line 4664: expected 19 fields, saw 52\\nSkipping line 4680: expected 19 fields, saw 61\\nSkipping line 4685: expected 19 fields, saw 32\\nSkipping line 4691: expected 19 fields, saw 56\\nSkipping line 4702: expected 19 fields, saw 55\\nSkipping line 4704: expected 19 fields, saw 24\\nSkipping line 4705: expected 19 fields, saw 118\\nSkipping line 4710: expected 19 fields, saw 34\\nSkipping line 4713: expected 19 fields, saw 26\\nSkipping line 4718: expected 19 fields, saw 139\\nSkipping line 4721: expected 19 fields, saw 142\\nSkipping line 4728: expected 19 fields, saw 39\\nSkipping line 4731: expected 19 fields, saw 33\\nSkipping line 4733: expected 19 fields, saw 117\\nSkipping line 4734: expected 19 fields, saw 150\\nSkipping line 4737: expected 19 fields, saw 32\\nSkipping line 4741: expected 19 fields, saw 57\\nSkipping line 4745: expected 19 fields, saw 30\\nSkipping line 4755: expected 19 fields, saw 38\\nSkipping line 4756: expected 19 fields, saw 20\\nSkipping line 4760: expected 19 fields, saw 38\\nSkipping line 4766: expected 19 fields, saw 51\\nSkipping line 4775: expected 19 fields, saw 21\\nSkipping line 4776: expected 19 fields, saw 32\\nSkipping line 4785: expected 19 fields, saw 57\\nSkipping line 4787: expected 19 fields, saw 37\\nSkipping line 4788: expected 19 fields, saw 60\\nSkipping line 4792: expected 19 fields, saw 75\\nSkipping line 4805: expected 19 fields, saw 21\\nSkipping line 4806: expected 19 fields, saw 22\\nSkipping line 4811: expected 19 fields, saw 145\\nSkipping line 4812: expected 19 fields, saw 181\\nSkipping line 4819: expected 19 fields, saw 21\\nSkipping line 4822: expected 19 fields, saw 98\\nSkipping line 4830: expected 19 fields, saw 48\\nSkipping line 4839: expected 19 fields, saw 30\\nSkipping line 4842: expected 19 fields, saw 93\\nSkipping line 4843: expected 19 fields, saw 43\\nSkipping line 4847: expected 19 fields, saw 59\\nSkipping line 4848: expected 19 fields, saw 58\\nSkipping line 4861: expected 19 fields, saw 60\\nSkipping line 4867: expected 19 fields, saw 56\\nSkipping line 4873: expected 19 fields, saw 41\\nSkipping line 4881: expected 19 fields, saw 22\\nSkipping line 4891: expected 19 fields, saw 32\\nSkipping line 4893: expected 19 fields, saw 109\\nSkipping line 4894: expected 19 fields, saw 115\\nSkipping line 4900: expected 19 fields, saw 65\\nSkipping line 4902: expected 19 fields, saw 66\\nSkipping line 4905: expected 19 fields, saw 40\\nSkipping line 4906: expected 19 fields, saw 103\\nSkipping line 4920: expected 19 fields, saw 33\\nSkipping line 4921: expected 19 fields, saw 29\\nSkipping line 4925: expected 19 fields, saw 108\\nSkipping line 4935: expected 19 fields, saw 95\\nSkipping line 4939: expected 19 fields, saw 94\\nSkipping line 4942: expected 19 fields, saw 118\\nSkipping line 4943: expected 19 fields, saw 60\\nSkipping line 4949: expected 19 fields, saw 58\\nSkipping line 4954: expected 19 fields, saw 38\\nSkipping line 4960: expected 19 fields, saw 103\\nSkipping line 4962: expected 19 fields, saw 109\\nSkipping line 4966: expected 19 fields, saw 24\\nSkipping line 4967: expected 19 fields, saw 109\\nSkipping line 4972: expected 19 fields, saw 106\\nSkipping line 4973: expected 19 fields, saw 62\\nSkipping line 4976: expected 19 fields, saw 62\\nSkipping line 4978: expected 19 fields, saw 109\\nSkipping line 4993: expected 19 fields, saw 33\\nSkipping line 4998: expected 19 fields, saw 51\\n'\n"
     ]
    }
   ],
   "source": [
    "import re\n",
    "from sklearn.feature_extraction.text import CountVectorizer\n",
    "import nltk\n",
    "# nltk.download('punkt')\n",
    "from sklearn.feature_extraction.text import TfidfTransformer\n",
    "from nltk.tokenize import sent_tokenize, word_tokenize\n",
    "from pyvi import ViTokenizer, ViPosTagger\n",
    "import json, csv, time\n",
    "import pandas as pd\n",
    "import numpy as np\n",
    "from tqdm import tqdm\n",
    "\n",
    "def remove_special_character(text):\n",
    "    import re\n",
    "    myre = re.compile(u'[0-9-!@#$></.,:()\\\"\\'\\n]+', re.I)\n",
    "    return myre.sub(u'', text)\n",
    "\n",
    "input = 'Tôi lớn lên ở xóm chợ, một xóm nhỏ nằm ven tuyến quốc lộ 10 nối từ Hải Phòng sang Thái Bình. Như ngàn vạn xóm nghèo khác, người dân trong xóm nghiễm nhiên coi mọi không gian trên lòng, lề đường là nơi buôn bán, mưu sinh. Nhất cận thị, nhị cận giang, ai cũng nghĩ như vậy nên người đến mua đất, xây nhà, làm quán quanh chợ dần đông hơn. Nhưng đường sá thì ngày càng hẹp đi, nhếch nhác và nguy hiểm. Chúng tôi may mắn lớn lên bình an. Nhưng có nhiều gia đình không có được niềm hạnh phúc ấy. Tôi vẫn nhớ như in một buổi sáng cuối năm, đó là phiên chợ Tết. Người dân bày đủ thứ, từ bóng bay, hoa thược dược, gà, ngan, gạo nếp... ra ven đường để bán. Chợ mới họp được chừng hai tiếng thì một chiếc xe tải, trong khi cố tránh những gánh hàng rong, đã đâm vào quán cắt may của ông Quỳnh thương binh. Ông Quỳnh chỉ còn một chân nên không kịp chạy. Trong thoáng chốc, tử thần như đã điểm danh. Nhưng ông Quỳnh không chết, nạn nhân thiệt mạng hôm ấy là chị Luyến người ở xã khác. Chị Luyến đi ra khu chợ may đồ để chuẩn bị lấy chồng.'\n",
    "text = input.lower()\n",
    "text = remove_special_character(text)\n",
    "input_l = [text]\n",
    "\n",
    "db1 = pd.read_csv('a1.csv', error_bad_lines=False)\n",
    "db2 = pd.read_csv('a2.csv', error_bad_lines=False)\n"
   ]
  },
  {
   "cell_type": "code",
   "execution_count": 6,
   "metadata": {},
   "outputs": [],
   "source": [
    "viet_in = '''Khởi_tố kẻ_trộm hơn 1 tạ thóc và hơn 8 triệu đồng của chú ruột để lấy tiền mua ma_tuý\n",
    "\n",
    "Ngày 27/3 , Cơ_quan Cảnh_sát điều_tra Công_an TP. Hưng_Yên , tỉnh Hưng_Yên cho biết , đơn_vị vừa ra quyết_định khởi_tố vụ án , khởi_tố bị_can đối_với đối_tượng Mai_Văn_Thương ( SN 1989 , trú tại đội 11 , thôn An_Chiểu 1 , xã Liên_Phương , TP. Hưng_Yên ) để điều_tra về hành_vi trộm_cắp tài_sản .\n",
    "Theo tài_liệu điều_tra của cơ_quan công_an , vào_khoảng 7h30 ngày 13/3 , lợi_dụng gia_đình ông Mai_Văn_Thịnh ( chú ruột đối_tượng Thương ) ở cạnh nhà đi vắng , đối_tượng này đã đạp gãy chấn_song cửa_sổ , đột_nhập vào nhà ông Thịnh trộm_cắp 121kg thóc mang bán cho người cùng thôn lấy 700.000 đ .\n",
    "Không dừng lại , sau đó đối_tượng tiếp_tục quay lại lục_soát tủ nhà ông Thịnh trộm_cắp 8.500.000 đ tiền_mặt ( ông Thịnh để dưới đáy tủ ) , rồi dùng số tiền trên để đi mua ma_tuý về sử_dụng và tiêu_xài hết 6.080.000 đ .\n",
    "Đến ngày 15/3 , đối_tượng Thương đã đến Cơ_quan điều_tra Công_an TP. Hưng_Yên tự_thú và khai nhận toàn_bộ hành_vi phạm_tội của mình , đồng_thời giao_nộp cho cơ_quan công_an 3.120.000 đ .\n",
    "Hiện Công_an TP. Hưng_Yên đã thu_giữ toàn_bộ 121kg thóc đối_tượng đã trộm_cắp để trao_trả cho gia_đình ông Thịnh .\n",
    "Được biết Thương là đối_tượng nghiện ma_tuý từ nhiều năm nay , đã có 1 tiền_án về tội Tàng_trữ trái_phép chất ma_tuý bị TAND tỉnh Hưng_Yên xử_phạt 2 năm 3 tháng tù_giam .\n",
    "Ra tù năm 2016 , đối_tượng này tiếp_tục có hành_vi cố_ý gây thương_tích , bị Công_an TP. Hưng_Yên ra quyết_định xử_phạt 2,5 triệu đồng .\n",
    "Vụ án đang được Công_an TP. Hưng_Yên hoàn_thiện hồ_sơ để xử_lý Mai_Văn_Thương theo quy_định của pháp_luật .\n",
    "\n",
    "Đối_tượng Mai_Văn_Thương tại cơ_quan công_an .'''\n",
    "\n",
    "eng_in = '''The young boy who was hunting\n",
    "rabbits in the forest was not sure\n",
    "whether it had been the woman’s last cry\n",
    "or the child’s first that alerted him. He\n",
    "turned suddenly, sensing the possible\n",
    "danger, his eyes searching for an animal\n",
    "that was so obviously in pain. He had\n",
    "never known any animal to scream in\n",
    "quite that way before. He edged towards\n",
    "the noise cautiously; the scream had now\n",
    "turned to a whine but it still did not\n",
    "sound like any animal he knew. He\n",
    "hoped it would be small enough to kill;\n",
    "at least that would make a change from\n",
    "rabbit for dinner.\n",
    "The young boy moved stealthily\n",
    "towards the river, where the strange\n",
    "noise came from, running from tree to\n",
    "tree, feeling the protection of the bark\n",
    "against his shoulder blades, something to\n",
    "touch. Never stay in the open, his father\n",
    "had taught him. When he reached the\n",
    "edge of the forest, he had a clear line of\n",
    "vision all the way down the valley to the\n",
    "river, and even then it took him some\n",
    "time to realise that the strange cry\n",
    "emanated from no ordinary animal. He\n",
    "continued to creel) towards the whining,\n",
    "but he was out in the open on his own\n",
    "now. Then suddenly he saw the woman,\n",
    "with her dress above her waist, her bare\n",
    "legs splayed wide apart. He had never\n",
    "seen a woman like that before. He ran\n",
    "quickly to her side and stared down at\n",
    "her belly, quite frightened to touch.\n",
    "There, lying between the woman’s legs,\n",
    "was the body of a small, damp, pink\n",
    "animal, attached by I’l something that\n",
    "looked like rope. The young hunter\n",
    "dropped his freshly skinned rabbits and\n",
    "collapsed on his knees beside the little\n",
    "creature.\n",
    "He gazed for a long, stunned\n",
    "moment and then turned his eyes towards\n",
    "the woman, immediately regretting the\n",
    "decision. She was already blue with\n",
    "cold; her tired twentythree-year-old face\n",
    "looked middle-aged to the boy; he did\n",
    "not need to be told that she was dead. He\n",
    "picked up the slippery little body – had\n",
    "you asked him why, and no one ever did,\n",
    "he would have told you that the tiny\n",
    "fingernails clawing the crumpled face\n",
    "had worried him – and then he became\n",
    "aware that mother and child were\n",
    "inseparable because of the slimy rope.\n",
    "He had watched the birth of a\n",
    "lamb a few days earlier and he tried to\n",
    "remember. Yes, that’s what the shepherd\n",
    "had done, but dare he, with a child? The\n",
    "whining had stopped and he sensed that\n",
    "a decision was now urgent. He\n",
    "unsheathed his knife, the one he had\n",
    "skinned the rabbits with, wiped it on his\n",
    "sleeve and hesitating only for a moment,\n",
    "cut the rope close to the child’s body.\n",
    "Blood flowed freely from the severed\n",
    "ends.\n",
    "Then what had the shepherd done\n",
    "when the lamb was born? He had tied a\n",
    "knot to stop the blood. Of course, of\n",
    "course; he pulled some grass out of the\n",
    "earth beside him and hastily tied a crude\n",
    "knot in the cord. Then he took the child\n",
    "in his arms. He rose slowly from his\n",
    "knees, leaving behind him three dead\n",
    "rabbits and a dead woman who had\n",
    "given birth to this child. Before finally\n",
    "turning his back on the mother, he put her\n",
    "legs together, and pulled her dress down\n",
    "over her knees. It seemed to be the right\n",
    "thing to do.\n",
    "‘Holy God,’ he said aloud, the\n",
    "first thing he always said when he had\n",
    "done something very good or very bad.\n",
    "He wasn’t yet sure which this was.'''"
   ]
  },
  {
   "cell_type": "code",
   "execution_count": 7,
   "metadata": {},
   "outputs": [],
   "source": [
    "corpus = np.concatenate((db1['title'], db2['title']))"
   ]
  },
  {
   "cell_type": "code",
   "execution_count": 8,
   "metadata": {},
   "outputs": [],
   "source": [
    "def compute_2_N_grams_prob(word1, word2):\n",
    "    word1 = word1.lower()\n",
    "    word2 = word2.lower()\n",
    "    sum_w1, sum_w1_w2 = 0, 0\n",
    "    for line in corpus:\n",
    "        line = line.lower()\n",
    "        line = np.array(line.split(' '))\n",
    "        \n",
    "        for i, word in enumerate(line):\n",
    "            if word == word1:\n",
    "                sum_w1 += 1\n",
    "                if i < len(line) - 1 and line[i + 1] == word2:\n",
    "                    sum_w1_w2 += 1\n",
    "    \n",
    "    if sum_w1 == 0 or sum_w1_w2 == 0:\n",
    "        return -1\n",
    "    else:\n",
    "        p_word2 = sum_w1_w2 / sum_w1\n",
    "        return p_word2"
   ]
  },
  {
   "cell_type": "code",
   "execution_count": 10,
   "metadata": {},
   "outputs": [
    {
     "name": "stderr",
     "output_type": "stream",
     "text": [
      "100%|██████████| 22/22 [00:00<00:00, 25.23it/s]\n",
      " 15%|█▌        | 4/26 [00:00<00:00, 36.29it/s]"
     ]
    },
    {
     "name": "stdout",
     "output_type": "stream",
     "text": [
      "['khởi_tố', 'kẻ_trộm', 'hơn', 'tạ', 'thóc', 'và', 'hơn', 'triệu', 'đồng', 'của', 'chú', 'ruột', 'để', 'lấy', 'tiền', 'mua', 'ma_tuýngày', 'cơ_quan', 'cảnh_sát', 'điều_tra', 'công_an', 'tp']\n"
     ]
    },
    {
     "name": "stderr",
     "output_type": "stream",
     "text": [
      "100%|██████████| 26/26 [00:00<00:00, 27.08it/s]\n",
      " 29%|██▊       | 2/7 [00:00<00:00, 19.33it/s]"
     ]
    },
    {
     "name": "stdout",
     "output_type": "stream",
     "text": [
      "['hưng_yên', 'tỉnh', 'hưng_yên', 'cho', 'biết', 'đơn_vị', 'vừa', 'ra', 'quyết_định', 'khởi_tố', 'vụ', 'án', 'khởi_tố', 'bị_can', 'đối_với', 'đối_tượng', 'mai_văn_thương', 'sn', 'trú', 'tại', 'đội', 'thôn', 'an_chiểu', 'xã', 'liên_phương', 'tp']\n"
     ]
    },
    {
     "name": "stderr",
     "output_type": "stream",
     "text": [
      "100%|██████████| 7/7 [00:00<00:00, 17.53it/s]\n",
      "  7%|▋         | 3/43 [00:00<00:02, 16.05it/s]"
     ]
    },
    {
     "name": "stdout",
     "output_type": "stream",
     "text": [
      "['hưng_yên', 'để', 'điều_tra', 'về', 'hành_vi', 'trộm_cắp', 'tài_sản']\n"
     ]
    },
    {
     "name": "stderr",
     "output_type": "stream",
     "text": [
      "100%|██████████| 43/43 [00:02<00:00, 20.97it/s]\n",
      "100%|██████████| 1/1 [00:00<00:00, 19691.57it/s]\n",
      "  7%|▋         | 1/14 [00:00<00:01,  9.06it/s]"
     ]
    },
    {
     "name": "stdout",
     "output_type": "stream",
     "text": [
      "['theo', 'tài_liệu', 'điều_tra', 'của', 'cơ_quan', 'công_an', 'vào_khoảng', 'h', 'ngày', 'lợi_dụng', 'gia_đình', 'ông', 'mai_văn_thịnh_chú', 'ruột', 'đối_tượng', 'thương', 'ở', 'cạnh', 'nhà', 'đi', 'vắng', 'đối_tượng', 'này', 'đã', 'đạp', 'gãy', 'chấn_song', 'cửa_sổ', 'đột_nhập', 'vào', 'nhà', 'ông', 'thịnh', 'trộm_cắp', 'kg', 'thóc', 'mang', 'bán', 'cho', 'người', 'cùng', 'thôn', 'lấy']\n",
      "['đ']\n"
     ]
    },
    {
     "name": "stderr",
     "output_type": "stream",
     "text": [
      "100%|██████████| 14/14 [00:00<00:00, 17.64it/s]\n",
      "100%|██████████| 1/1 [00:00<00:00, 9177.91it/s]\n",
      "  5%|▍         | 1/22 [00:00<00:02,  9.15it/s]"
     ]
    },
    {
     "name": "stdout",
     "output_type": "stream",
     "text": [
      "['không', 'dừng', 'lại', 'sau', 'đó', 'đối_tượng', 'tiếp_tục', 'quay', 'lại', 'lục_soát', 'tủ', 'nhà', 'ông', 'thịnh_trộm_cắp']\n",
      "['']\n"
     ]
    },
    {
     "name": "stderr",
     "output_type": "stream",
     "text": [
      "100%|██████████| 22/22 [00:01<00:00, 14.43it/s]\n",
      "100%|██████████| 1/1 [00:00<00:00, 6605.20it/s]\n",
      "100%|██████████| 1/1 [00:00<00:00, 7839.82it/s]\n",
      " 10%|█         | 1/10 [00:00<00:01,  8.24it/s]"
     ]
    },
    {
     "name": "stdout",
     "output_type": "stream",
     "text": [
      "['đ', 'tiền_mặt', 'ông', 'thịnh', 'để', 'dưới', 'đáy', 'tủ', 'rồi', 'dùng', 'số', 'tiền', 'trên', 'đi', 'mua', 'ma_tuý', 'về', 'sử_dụng', 'và', 'tiêu_xài', 'hết']\n",
      "['']\n",
      "['đ']\n"
     ]
    },
    {
     "name": "stderr",
     "output_type": "stream",
     "text": [
      "100%|██████████| 10/10 [00:00<00:00, 22.95it/s]\n",
      " 13%|█▎        | 2/15 [00:00<00:00, 19.39it/s]"
     ]
    },
    {
     "name": "stdout",
     "output_type": "stream",
     "text": [
      "['đến', 'ngày', 'đối_tượng', 'thương', 'đã', 'đến', 'cơ_quan', 'điều_tra', 'công_an', 'tp']\n"
     ]
    },
    {
     "name": "stderr",
     "output_type": "stream",
     "text": [
      "100%|██████████| 15/15 [00:00<00:00, 16.28it/s]\n",
      "100%|██████████| 1/1 [00:00<00:00, 14614.30it/s]\n",
      "100%|██████████| 1/1 [00:00<00:00, 8035.07it/s]\n",
      "100%|██████████| 3/3 [00:00<00:00, 24291.34it/s]\n",
      "  0%|          | 0/15 [00:00<?, ?it/s]"
     ]
    },
    {
     "name": "stdout",
     "output_type": "stream",
     "text": [
      "['hưng_yên', 'tự_thú', 'và', 'khai', 'nhận', 'toàn_bộ', 'hành_vi', 'phạm_tội', 'của', 'mình', 'đồng_thời', 'giao_nộp', 'cho', 'cơ_quan', 'công_an']\n",
      "['']\n",
      "['đ']\n",
      "['hiện', 'công_an', 'tp']\n"
     ]
    },
    {
     "name": "stderr",
     "output_type": "stream",
     "text": [
      "100%|██████████| 15/15 [00:00<00:00, 20.37it/s]\n",
      "  4%|▎         | 1/27 [00:00<00:03,  7.94it/s]"
     ]
    },
    {
     "name": "stdout",
     "output_type": "stream",
     "text": [
      "['hưng_yên', 'đã', 'thu_giữ', 'toàn_bộ', 'kg', 'thóc', 'đối_tượng', 'đã', 'trộm_cắp', 'để', 'trao_trả', 'cho', 'gia_đình', 'ông', 'thịnh']\n"
     ]
    },
    {
     "name": "stderr",
     "output_type": "stream",
     "text": [
      "100%|██████████| 27/27 [00:01<00:00, 20.09it/s]\n",
      "  7%|▋         | 1/14 [00:00<00:01,  9.05it/s]"
     ]
    },
    {
     "name": "stdout",
     "output_type": "stream",
     "text": [
      "['được', 'biết', 'thương', 'là', 'đối_tượng', 'nghiện', 'ma_tuý', 'từ', 'nhiều', 'năm', 'nay', 'đã', 'có', 'tiền_án', 'về', 'tội', 'tàng_trữ', 'trái_phép', 'chất', 'ma_tuý', 'bị', 'tand', 'tỉnh', 'hưng_yên', 'xử_phạt', 'năm_tháng', 'tù_giam']\n"
     ]
    },
    {
     "name": "stderr",
     "output_type": "stream",
     "text": [
      "100%|██████████| 14/14 [00:00<00:00, 23.29it/s]\n",
      " 33%|███▎      | 2/6 [00:00<00:00, 19.20it/s]"
     ]
    },
    {
     "name": "stdout",
     "output_type": "stream",
     "text": [
      "['ra', 'tù', 'năm', 'đối_tượng', 'này', 'tiếp_tục', 'có', 'hành_vi', 'cố_ý', 'gây', 'thương_tích', 'bị', 'công_an', 'tp']\n"
     ]
    },
    {
     "name": "stderr",
     "output_type": "stream",
     "text": [
      "100%|██████████| 6/6 [00:00<00:00, 29.13it/s]\n",
      " 50%|█████     | 3/6 [00:00<00:00, 27.37it/s]"
     ]
    },
    {
     "name": "stdout",
     "output_type": "stream",
     "text": [
      "['hưng_yên', 'ra', 'quyết_định', 'xử_phạt', 'triệu', 'đồng']\n"
     ]
    },
    {
     "name": "stderr",
     "output_type": "stream",
     "text": [
      "100%|██████████| 6/6 [00:00<00:00, 29.38it/s]\n",
      " 20%|██        | 2/10 [00:00<00:00, 18.29it/s]"
     ]
    },
    {
     "name": "stdout",
     "output_type": "stream",
     "text": [
      "['vụ', 'án', 'đang', 'được', 'công_an', 'tp']\n"
     ]
    },
    {
     "name": "stderr",
     "output_type": "stream",
     "text": [
      "100%|██████████| 10/10 [00:00<00:00, 19.83it/s]\n",
      "100%|██████████| 5/5 [00:00<00:00, 48.79it/s]\n",
      "100%|██████████| 1/1 [00:00<00:00, 8160.12it/s]"
     ]
    },
    {
     "name": "stdout",
     "output_type": "stream",
     "text": [
      "['hưng_yên', 'hoàn_thiện', 'hồ_sơ', 'để', 'xử_lý', 'mai_văn_thương', 'theo', 'quy_định', 'của', 'pháp_luật']\n",
      "['đối_tượng', 'mai_văn_thương', 'tại', 'cơ_quan', 'công_an']\n",
      "['']\n",
      "Result: \n",
      " khởi tố kẻ trộm hơn tạ thóc và hơn triệu đồng của chú ruột để lấy tiền mua ma tuýngày cơ quan cảnh sát điều tra công an tp. hưng yên tỉnh hưng yên cho biết đơn vị vừa ra quyết định khởi tố vụ án khởi tố bị can đối với đối tượng mai văn thương sn trú tại đội thôn an chiểu xã liên phương tp. hưng yên để điều tra về hành vi trộm cắp tài sản. theo tài liệu điều tra của cơ quan công an vào khoảng h ngày lợi dụng gia đình ông mai văn thịnh chú ruột đối tượng thương ở cạnh nhà đi vắng đối tượng này đã đạp gãy chấn song cửa sổ đột nhập vào nhà ông thịnh trộm cắp kg thóc mang bán cho người cùng thôn lấy. đ. không dừng lại sau đó đối tượng tiếp tục quay lại lục soát tủ nhà ông thịnh trộm cắp. . đ tiền mặt ông thịnh để dưới đáy tủ rồi dùng số tiền trên đi mua ma tuý về sử dụng và tiêu xài hết. . đ. đến ngày đối tượng thương đã đến cơ quan điều tra công an tp. hưng yên tự thú và khai nhận toàn bộ hành vi phạm tội của mình đồng thời giao nộp cho cơ quan công an. . đ. hiện công an tp. hưng yên đã thu giữ toàn bộ kg thóc đối tượng đã trộm cắp để trao trả cho gia đình ông thịnh. được biết thương là đối tượng nghiện ma tuý từ nhiều năm nay đã có tiền án về tội tàng trữ trái phép chất ma tuý bị tand tỉnh hưng yên xử phạt năm tháng tù giam. ra tù năm đối tượng này tiếp tục có hành vi cố ý gây thương tích bị công an tp. hưng yên ra quyết định xử phạt triệu đồng. vụ án đang được công an tp. hưng yên hoàn thiện hồ sơ để xử lý mai văn thương theo quy định của pháp luật. đối tượng mai văn thương tại cơ quan công an. \n"
     ]
    },
    {
     "name": "stderr",
     "output_type": "stream",
     "text": [
      "\n"
     ]
    }
   ],
   "source": [
    "def compress_sentence(_sentence):\n",
    "    t = ViPosTagger.postagging(ViTokenizer.tokenize(_sentence))\n",
    "    compression_words = []\n",
    "    previous_topic_word = ''\n",
    "    max_likelihood_word = ''\n",
    "    max_likelihood_word_prob = -1\n",
    "    for _index, item in enumerate(tqdm(t[0])):\n",
    "        item = item.lower()\n",
    "        if t[1][_index][0] in 'NMP':\n",
    "            if max_likelihood_word:\n",
    "                compression_words.append(max_likelihood_word)\n",
    "            compression_words.append(item)\n",
    "            previous_topic_word = item\n",
    "            max_likelihood_word = ''\n",
    "            max_likelihood_word_prob = -1\n",
    "            \n",
    "        else:\n",
    "            likelihood_word_prob = compute_2_N_grams_prob(previous_topic_word, item)\n",
    "            # not existed in dictionary, so add anyway\n",
    "            if likelihood_word_prob < 0:\n",
    "                compression_words.append(item)\n",
    "            else:\n",
    "                if likelihood_word_prob > max_likelihood_word_prob:\n",
    "                    max_likelihood_word = item\n",
    "                    max_likelihood_word_prob = likelihood_word_prob\n",
    "        if _index + 1 == len(t[0]):\n",
    "            if item not in compression_words:\n",
    "                compression_words.append(item)\n",
    "    sentences = ''\n",
    "    for word in compression_words:\n",
    "        if '_' in word:\n",
    "            sentences = u'%s %s' % (sentences, word.replace('_', ' '))\n",
    "        else:\n",
    "            sentences = u'%s %s' % (sentences, word)\n",
    "            \n",
    "    print(compression_words)\n",
    "    return sentences\n",
    "\n",
    "compressed_sentences = []\n",
    "sentences = viet_in.split('.')\n",
    "for sentence in sentences:\n",
    "    clean_sentence = remove_special_character(sentence)\n",
    "    compressed_sentence = compress_sentence(clean_sentence)\n",
    "    compressed_sentences.append(compressed_sentence)\n",
    "print ('Result: ')\n",
    "print (u'.'.join(compressed_sentences))\n"
   ]
  },
  {
   "cell_type": "code",
   "execution_count": 12,
   "metadata": {},
   "outputs": [
    {
     "data": {
      "text/plain": [
       "'Khởi_tố kẻ_trộm hơn 1 tạ thóc và hơn 8 triệu đồng của chú ruột để lấy tiền mua ma_tuý\\n\\nNgày 27/3 , Cơ_quan Cảnh_sát điều_tra Công_an TP. Hưng_Yên , tỉnh Hưng_Yên cho biết , đơn_vị vừa ra quyết_định khởi_tố vụ án , khởi_tố bị_can đối_với đối_tượng Mai_Văn_Thương ( SN 1989 , trú tại đội 11 , thôn An_Chiểu 1 , xã Liên_Phương , TP. Hưng_Yên ) để điều_tra về hành_vi trộm_cắp tài_sản .\\nTheo tài_liệu điều_tra của cơ_quan công_an , vào_khoảng 7h30 ngày 13/3 , lợi_dụng gia_đình ông Mai_Văn_Thịnh ( chú ruột đối_tượng Thương ) ở cạnh nhà đi vắng , đối_tượng này đã đạp gãy chấn_song cửa_sổ , đột_nhập vào nhà ông Thịnh trộm_cắp 121kg thóc mang bán cho người cùng thôn lấy 700.000 đ .\\nKhông dừng lại , sau đó đối_tượng tiếp_tục quay lại lục_soát tủ nhà ông Thịnh trộm_cắp 8.500.000 đ tiền_mặt ( ông Thịnh để dưới đáy tủ ) , rồi dùng số tiền trên để đi mua ma_tuý về sử_dụng và tiêu_xài hết 6.080.000 đ .\\nĐến ngày 15/3 , đối_tượng Thương đã đến Cơ_quan điều_tra Công_an TP. Hưng_Yên tự_thú và khai nhận toàn_bộ hành_vi phạm_tội của mình , đồng_thời giao_nộp cho cơ_quan công_an 3.120.000 đ .\\nHiện Công_an TP. Hưng_Yên đã thu_giữ toàn_bộ 121kg thóc đối_tượng đã trộm_cắp để trao_trả cho gia_đình ông Thịnh .\\nĐược biết Thương là đối_tượng nghiện ma_tuý từ nhiều năm nay , đã có 1 tiền_án về tội Tàng_trữ trái_phép chất ma_tuý bị TAND tỉnh Hưng_Yên xử_phạt 2 năm 3 tháng tù_giam .\\nRa tù năm 2016 , đối_tượng này tiếp_tục có hành_vi cố_ý gây thương_tích , bị Công_an TP. Hưng_Yên ra quyết_định xử_phạt 2,5 triệu đồng .\\nVụ án đang được Công_an TP. Hưng_Yên hoàn_thiện hồ_sơ để xử_lý Mai_Văn_Thương theo quy_định của pháp_luật .\\n\\nĐối_tượng Mai_Văn_Thương tại cơ_quan công_an .'"
      ]
     },
     "execution_count": 12,
     "metadata": {},
     "output_type": "execute_result"
    }
   ],
   "source": [
    "viet_in"
   ]
  }
 ],
 "metadata": {
  "kernelspec": {
   "display_name": "Python [conda env:text_sum] *",
   "language": "python",
   "name": "conda-env-text_sum-py"
  },
  "language_info": {
   "codemirror_mode": {
    "name": "ipython",
    "version": 3
   },
   "file_extension": ".py",
   "mimetype": "text/x-python",
   "name": "python",
   "nbconvert_exporter": "python",
   "pygments_lexer": "ipython3",
   "version": "3.8.3"
  }
 },
 "nbformat": 4,
 "nbformat_minor": 4
}
